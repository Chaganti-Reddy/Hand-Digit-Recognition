{
 "cells": [
  {
   "cell_type": "code",
   "execution_count": 1,
   "id": "08c047c4",
   "metadata": {
    "_cell_guid": "51f67692-037c-4b98-8ab2-ba4ba11e30dd",
    "_uuid": "a1a8aa2d-1d3e-41e6-91ab-2b5affb72e8d",
    "collapsed": false,
    "execution": {
     "iopub.execute_input": "2022-07-06T09:26:50.052305Z",
     "iopub.status.busy": "2022-07-06T09:26:50.051459Z",
     "iopub.status.idle": "2022-07-06T09:26:52.049896Z",
     "shell.execute_reply": "2022-07-06T09:26:52.048927Z"
    },
    "executionInfo": {
     "elapsed": 4434,
     "status": "ok",
     "timestamp": 1607146642164,
     "user": {
      "displayName": "Aakash N S",
      "photoUrl": "https://lh3.googleusercontent.com/a-/AOh14GiIWFHtan62vtW1gz2Bv2bxL3rppefcadxzEVxRKQ=s64",
      "userId": "03254185060287524023"
     },
     "user_tz": -330
    },
    "id": "WapU423CpeT5",
    "jupyter": {
     "outputs_hidden": false
    },
    "papermill": {
     "duration": 2.029055,
     "end_time": "2022-07-06T09:26:52.052363",
     "exception": false,
     "start_time": "2022-07-06T09:26:50.023308",
     "status": "completed"
    },
    "tags": []
   },
   "outputs": [],
   "source": [
    "import torch\n",
    "import torchvision\n",
    "import numpy as np\n",
    "import matplotlib\n",
    "import matplotlib.pyplot as plt\n",
    "import torch.nn as nn\n",
    "import torch.nn.functional as F\n",
    "from torchvision.datasets import MNIST\n",
    "from torchvision.transforms import ToTensor\n",
    "from torchvision.utils import make_grid\n",
    "from torch.utils.data.dataloader import DataLoader\n",
    "from torch.utils.data import random_split\n",
    "%matplotlib inline\n",
    "\n",
    "# Use a white background for matplotlib figures\n",
    "matplotlib.rcParams['figure.facecolor'] = '#ffffff'"
   ]
  },
  {
   "cell_type": "markdown",
   "id": "8edc99b2",
   "metadata": {
    "_cell_guid": "f574eede-b959-4dee-a52a-a9e57804ebe7",
    "_uuid": "cd44b4b3-9aef-44eb-a4fb-5c11c0693b6a",
    "id": "wa8Y7hGhpeT5",
    "papermill": {
     "duration": 0.024944,
     "end_time": "2022-07-06T09:26:52.102996",
     "exception": false,
     "start_time": "2022-07-06T09:26:52.078052",
     "status": "completed"
    },
    "tags": []
   },
   "source": [
    "We can download the data and create a PyTorch dataset using the `MNIST` class from `torchvision.datasets`."
   ]
  },
  {
   "cell_type": "code",
   "execution_count": 2,
   "id": "e92be361",
   "metadata": {
    "_cell_guid": "b6d3c4a7-fe90-42e9-aa18-180abc4d9105",
    "_uuid": "29493125-c9a0-4670-9477-014caf27d8f6",
    "collapsed": false,
    "execution": {
     "iopub.execute_input": "2022-07-06T09:26:52.155518Z",
     "iopub.status.busy": "2022-07-06T09:26:52.154378Z",
     "iopub.status.idle": "2022-07-06T09:26:55.119857Z",
     "shell.execute_reply": "2022-07-06T09:26:55.118743Z"
    },
    "executionInfo": {
     "elapsed": 2067,
     "status": "ok",
     "timestamp": 1607146682665,
     "user": {
      "displayName": "Aakash N S",
      "photoUrl": "https://lh3.googleusercontent.com/a-/AOh14GiIWFHtan62vtW1gz2Bv2bxL3rppefcadxzEVxRKQ=s64",
      "userId": "03254185060287524023"
     },
     "user_tz": -330
    },
    "id": "CCfhGj-IpeT5",
    "jupyter": {
     "outputs_hidden": false
    },
    "outputId": "63e6de52-71b0-4813-d90c-ed19eb0a47fd",
    "papermill": {
     "duration": 2.994918,
     "end_time": "2022-07-06T09:26:55.122738",
     "exception": false,
     "start_time": "2022-07-06T09:26:52.127820",
     "status": "completed"
    },
    "tags": []
   },
   "outputs": [
    {
     "name": "stdout",
     "output_type": "stream",
     "text": [
      "Downloading http://yann.lecun.com/exdb/mnist/train-images-idx3-ubyte.gz\n",
      "Downloading http://yann.lecun.com/exdb/mnist/train-images-idx3-ubyte.gz to data/MNIST/raw/train-images-idx3-ubyte.gz\n"
     ]
    },
    {
     "data": {
      "application/vnd.jupyter.widget-view+json": {
       "model_id": "5320ee245145437b9095c757a0f49ab1",
       "version_major": 2,
       "version_minor": 0
      },
      "text/plain": [
       "  0%|          | 0/9912422 [00:00<?, ?it/s]"
      ]
     },
     "metadata": {},
     "output_type": "display_data"
    },
    {
     "name": "stdout",
     "output_type": "stream",
     "text": [
      "Extracting data/MNIST/raw/train-images-idx3-ubyte.gz to data/MNIST/raw\n",
      "\n",
      "Downloading http://yann.lecun.com/exdb/mnist/train-labels-idx1-ubyte.gz\n",
      "Downloading http://yann.lecun.com/exdb/mnist/train-labels-idx1-ubyte.gz to data/MNIST/raw/train-labels-idx1-ubyte.gz\n"
     ]
    },
    {
     "data": {
      "application/vnd.jupyter.widget-view+json": {
       "model_id": "9511f5992a0c441ca8ef63b0cf49ad30",
       "version_major": 2,
       "version_minor": 0
      },
      "text/plain": [
       "  0%|          | 0/28881 [00:00<?, ?it/s]"
      ]
     },
     "metadata": {},
     "output_type": "display_data"
    },
    {
     "name": "stdout",
     "output_type": "stream",
     "text": [
      "Extracting data/MNIST/raw/train-labels-idx1-ubyte.gz to data/MNIST/raw\n",
      "\n",
      "Downloading http://yann.lecun.com/exdb/mnist/t10k-images-idx3-ubyte.gz\n",
      "Downloading http://yann.lecun.com/exdb/mnist/t10k-images-idx3-ubyte.gz to data/MNIST/raw/t10k-images-idx3-ubyte.gz\n"
     ]
    },
    {
     "data": {
      "application/vnd.jupyter.widget-view+json": {
       "model_id": "c41091ca365842808fb62799f259a753",
       "version_major": 2,
       "version_minor": 0
      },
      "text/plain": [
       "  0%|          | 0/1648877 [00:00<?, ?it/s]"
      ]
     },
     "metadata": {},
     "output_type": "display_data"
    },
    {
     "name": "stdout",
     "output_type": "stream",
     "text": [
      "Extracting data/MNIST/raw/t10k-images-idx3-ubyte.gz to data/MNIST/raw\n",
      "\n",
      "Downloading http://yann.lecun.com/exdb/mnist/t10k-labels-idx1-ubyte.gz\n",
      "Downloading http://yann.lecun.com/exdb/mnist/t10k-labels-idx1-ubyte.gz to data/MNIST/raw/t10k-labels-idx1-ubyte.gz\n"
     ]
    },
    {
     "data": {
      "application/vnd.jupyter.widget-view+json": {
       "model_id": "4bf97b9f18014b2d93dd3ebd20bf4e8a",
       "version_major": 2,
       "version_minor": 0
      },
      "text/plain": [
       "  0%|          | 0/4542 [00:00<?, ?it/s]"
      ]
     },
     "metadata": {},
     "output_type": "display_data"
    },
    {
     "name": "stdout",
     "output_type": "stream",
     "text": [
      "Extracting data/MNIST/raw/t10k-labels-idx1-ubyte.gz to data/MNIST/raw\n",
      "\n"
     ]
    }
   ],
   "source": [
    "dataset = MNIST(root='data/', download=True, transform=ToTensor())"
   ]
  },
  {
   "cell_type": "markdown",
   "id": "9f816a3a",
   "metadata": {
    "_cell_guid": "7b5aab03-7968-40ce-914e-1cd2f8679db1",
    "_uuid": "d24ef8b8-db88-4628-a81a-d080dd17d01f",
    "papermill": {
     "duration": 0.025664,
     "end_time": "2022-07-06T09:26:55.175133",
     "exception": false,
     "start_time": "2022-07-06T09:26:55.149469",
     "status": "completed"
    },
    "tags": []
   },
   "source": [
    "Let's look at a couple of images from the dataset. The images are converted to PyTorch tensors with the shape `1x28x28` (the dimensions represent color channels, width and height). We can use `plt.imshow` to display the images. However, `plt.imshow` expects channels to be last dimension in an image tensor, so we use the `permute` method to reorder the dimensions of the image."
   ]
  },
  {
   "cell_type": "code",
   "execution_count": 3,
   "id": "d36ff5ef",
   "metadata": {
    "_cell_guid": "0d173fb0-6d21-4711-8c61-e56f731b55a5",
    "_uuid": "e78d07eb-09aa-45d9-90e9-e61c7cbeb865",
    "collapsed": false,
    "execution": {
     "iopub.execute_input": "2022-07-06T09:26:55.227913Z",
     "iopub.status.busy": "2022-07-06T09:26:55.227573Z",
     "iopub.status.idle": "2022-07-06T09:26:55.412294Z",
     "shell.execute_reply": "2022-07-06T09:26:55.411258Z"
    },
    "jupyter": {
     "outputs_hidden": false
    },
    "papermill": {
     "duration": 0.21378,
     "end_time": "2022-07-06T09:26:55.414507",
     "exception": false,
     "start_time": "2022-07-06T09:26:55.200727",
     "status": "completed"
    },
    "tags": []
   },
   "outputs": [
    {
     "name": "stdout",
     "output_type": "stream",
     "text": [
      "image.shape: torch.Size([1, 28, 28])\n",
      "Label: 5\n"
     ]
    },
    {
     "data": {
      "image/png": "[encoded data removed]",
      "text/plain": [
       "<Figure size 432x288 with 1 Axes>"
      ]
     },
     "metadata": {},
     "output_type": "display_data"
    }
   ],
   "source": [
    "image, label = dataset[0]\n",
    "print('image.shape:', image.shape)\n",
    "plt.imshow(image.permute(1, 2, 0), cmap='gray')\n",
    "print('Label:', label)"
   ]
  },
  {
   "cell_type": "code",
   "execution_count": 4,
   "id": "e3bad3bf",
   "metadata": {
    "_cell_guid": "c3a17311-93e9-4b82-883f-c223a2bc1d7d",
    "_uuid": "0e965793-9ebe-48c2-aff3-696049ff37f3",
    "collapsed": false,
    "execution": {
     "iopub.execute_input": "2022-07-06T09:26:55.470299Z",
     "iopub.status.busy": "2022-07-06T09:26:55.468652Z",
     "iopub.status.idle": "2022-07-06T09:26:55.626476Z",
     "shell.execute_reply": "2022-07-06T09:26:55.624597Z"
    },
    "jupyter": {
     "outputs_hidden": false
    },
    "papermill": {
     "duration": 0.18803,
     "end_time": "2022-07-06T09:26:55.628877",
     "exception": false,
     "start_time": "2022-07-06T09:26:55.440847",
     "status": "completed"
    },
    "tags": []
   },
   "outputs": [
    {
     "name": "stdout",
     "output_type": "stream",
     "text": [
      "image.shape: torch.Size([1, 28, 28])\n",
      "Label: 0\n"
     ]
    },
    {
     "data": {
      "image/png": "[encoded data removed]",
      "text/plain": [
       "<Figure size 432x288 with 1 Axes>"
      ]
     },
     "metadata": {},
     "output_type": "display_data"
    }
   ],
   "source": [
    "image, label = dataset[1]\n",
    "print('image.shape:', image.shape)\n",
    "plt.imshow(image.permute(1, 2, 0), cmap='gray')\n",
    "print('Label:', label)"
   ]
  },
  {
   "cell_type": "markdown",
   "id": "d85137e8",
   "metadata": {
    "_cell_guid": "4705fdb3-2a5c-49e2-8bc6-07b57fa47c3d",
    "_uuid": "9cbe9ba8-710e-4cf5-9092-ecb995ae5bee",
    "id": "4vjwsyaDpeT5",
    "papermill": {
     "duration": 0.026566,
     "end_time": "2022-07-06T09:26:55.681916",
     "exception": false,
     "start_time": "2022-07-06T09:26:55.655350",
     "status": "completed"
    },
    "tags": []
   },
   "source": [
    "Next, let's use the `random_split` helper function to set aside 10000 images for our validation set."
   ]
  },
  {
   "cell_type": "code",
   "execution_count": 5,
   "id": "bf285b12",
   "metadata": {
    "_cell_guid": "05a82b7f-1edb-4658-a6cd-571e51606297",
    "_uuid": "58bcddda-0820-46dd-b73c-2a4a6aa7a1ef",
    "collapsed": false,
    "execution": {
     "iopub.execute_input": "2022-07-06T09:26:55.735776Z",
     "iopub.status.busy": "2022-07-06T09:26:55.735208Z",
     "iopub.status.idle": "2022-07-06T09:26:55.747563Z",
     "shell.execute_reply": "2022-07-06T09:26:55.746532Z"
    },
    "executionInfo": {
     "elapsed": 886,
     "status": "ok",
     "timestamp": 1607146716183,
     "user": {
      "displayName": "Aakash N S",
      "photoUrl": "https://lh3.googleusercontent.com/a-/AOh14GiIWFHtan62vtW1gz2Bv2bxL3rppefcadxzEVxRKQ=s64",
      "userId": "03254185060287524023"
     },
     "user_tz": -330
    },
    "id": "Cgek18qlpeT5",
    "jupyter": {
     "outputs_hidden": false
    },
    "outputId": "1329f74b-2817-4019-f379-8d807c6413ff",
    "papermill": {
     "duration": 0.04184,
     "end_time": "2022-07-06T09:26:55.749719",
     "exception": false,
     "start_time": "2022-07-06T09:26:55.707879",
     "status": "completed"
    },
    "tags": []
   },
   "outputs": [
    {
     "data": {
      "text/plain": [
       "(50000, 10000)"
      ]
     },
     "execution_count": 5,
     "metadata": {},
     "output_type": "execute_result"
    }
   ],
   "source": [
    "val_size = 10000\n",
    "train_size = len(dataset) - val_size\n",
    "\n",
    "train_ds, val_ds = random_split(dataset, [train_size, val_size])\n",
    "len(train_ds), len(val_ds)"
   ]
  },
  {
   "cell_type": "markdown",
   "id": "2d7cb674",
   "metadata": {
    "_cell_guid": "77b97b7b-3db5-414d-ae42-4feb9a026aab",
    "_uuid": "56ea616b-5359-4d00-9861-3e0dd57f8b47",
    "id": "PxB8SiaYpeT6",
    "papermill": {
     "duration": 0.026186,
     "end_time": "2022-07-06T09:26:55.803098",
     "exception": false,
     "start_time": "2022-07-06T09:26:55.776912",
     "status": "completed"
    },
    "tags": []
   },
   "source": [
    "We can now create PyTorch data loaders for training and validation."
   ]
  },
  {
   "cell_type": "code",
   "execution_count": 6,
   "id": "b03bbdf3",
   "metadata": {
    "_cell_guid": "21161a33-f19c-4e2e-b43d-33915bb624db",
    "_uuid": "10fbefe4-a4eb-4ae3-a67d-8ae99f8b125f",
    "collapsed": false,
    "execution": {
     "iopub.execute_input": "2022-07-06T09:26:55.858473Z",
     "iopub.status.busy": "2022-07-06T09:26:55.858082Z",
     "iopub.status.idle": "2022-07-06T09:26:55.862633Z",
     "shell.execute_reply": "2022-07-06T09:26:55.861682Z"
    },
    "executionInfo": {
     "elapsed": 701,
     "status": "ok",
     "timestamp": 1607146808348,
     "user": {
      "displayName": "Aakash N S",
      "photoUrl": "https://lh3.googleusercontent.com/a-/AOh14GiIWFHtan62vtW1gz2Bv2bxL3rppefcadxzEVxRKQ=s64",
      "userId": "03254185060287524023"
     },
     "user_tz": -330
    },
    "id": "cK_hoRYSpeT6",
    "jupyter": {
     "outputs_hidden": false
    },
    "papermill": {
     "duration": 0.034693,
     "end_time": "2022-07-06T09:26:55.864567",
     "exception": false,
     "start_time": "2022-07-06T09:26:55.829874",
     "status": "completed"
    },
    "tags": []
   },
   "outputs": [],
   "source": [
    "batch_size=128"
   ]
  },
  {
   "cell_type": "code",
   "execution_count": 7,
   "id": "faf50efb",
   "metadata": {
    "_cell_guid": "cf9ab4eb-7be2-4ba8-a6ab-69ecc7b83671",
    "_uuid": "77770a65-2178-49d5-8dc3-38e31d357dd5",
    "collapsed": false,
    "execution": {
     "iopub.execute_input": "2022-07-06T09:26:55.919504Z",
     "iopub.status.busy": "2022-07-06T09:26:55.919123Z",
     "iopub.status.idle": "2022-07-06T09:26:55.927219Z",
     "shell.execute_reply": "2022-07-06T09:26:55.926248Z"
    },
    "executionInfo": {
     "elapsed": 1224,
     "status": "ok",
     "timestamp": 1607146809342,
     "user": {
      "displayName": "Aakash N S",
      "photoUrl": "https://lh3.googleusercontent.com/a-/AOh14GiIWFHtan62vtW1gz2Bv2bxL3rppefcadxzEVxRKQ=s64",
      "userId": "03254185060287524023"
     },
     "user_tz": -330
    },
    "id": "iShTOn-vpeT6",
    "jupyter": {
     "outputs_hidden": false
    },
    "papermill": {
     "duration": 0.039068,
     "end_time": "2022-07-06T09:26:55.929814",
     "exception": false,
     "start_time": "2022-07-06T09:26:55.890746",
     "status": "completed"
    },
    "tags": []
   },
   "outputs": [
    {
     "name": "stderr",
     "output_type": "stream",
     "text": [
      "/opt/conda/lib/python3.7/site-packages/torch/utils/data/dataloader.py:490: UserWarning: This DataLoader will create 4 worker processes in total. Our suggested max number of worker in current system is 2, which is smaller than what this DataLoader is going to create. Please be aware that excessive worker creation might get DataLoader running slow or even freeze, lower the worker number to avoid potential slowness/freeze if necessary.\n",
      "  cpuset_checked))\n"
     ]
    }
   ],
   "source": [
    "train_loader = DataLoader(train_ds, batch_size, shuffle=True, num_workers=4, pin_memory=True)\n",
    "val_loader = DataLoader(val_ds, batch_size*2, num_workers=4, pin_memory=True)"
   ]
  },
  {
   "cell_type": "markdown",
   "id": "4493a94c",
   "metadata": {
    "_cell_guid": "f72da530-6c39-4932-8bb7-bbed6964b4e1",
    "_uuid": "dd16b9f4-3851-4214-a6be-615d22c8fed9",
    "id": "fjucG3lnpeT6",
    "papermill": {
     "duration": 0.027248,
     "end_time": "2022-07-06T09:26:55.984466",
     "exception": false,
     "start_time": "2022-07-06T09:26:55.957218",
     "status": "completed"
    },
    "tags": []
   },
   "source": [
    "Let's visualize a batch of data in a grid using the `make_grid` function from `torchvision`. We'll also use the `.permute` method on the tensor to move the channels to the last dimension, as expected by `matplotlib`."
   ]
  },
  {
   "cell_type": "code",
   "execution_count": 8,
   "id": "162ceb4e",
   "metadata": {
    "_cell_guid": "b59e7552-1b21-459c-9755-e9128d55bfe7",
    "_uuid": "12629f4c-36d7-42bc-9acf-ebe035baf331",
    "collapsed": false,
    "execution": {
     "iopub.execute_input": "2022-07-06T09:26:56.039706Z",
     "iopub.status.busy": "2022-07-06T09:26:56.038810Z",
     "iopub.status.idle": "2022-07-06T09:26:59.355445Z",
     "shell.execute_reply": "2022-07-06T09:26:59.354414Z"
    },
    "executionInfo": {
     "elapsed": 12686,
     "status": "ok",
     "timestamp": 1607146864385,
     "user": {
      "displayName": "Aakash N S",
      "photoUrl": "https://lh3.googleusercontent.com/a-/AOh14GiIWFHtan62vtW1gz2Bv2bxL3rppefcadxzEVxRKQ=s64",
      "userId": "03254185060287524023"
     },
     "user_tz": -330
    },
    "id": "YshQj9srpeT6",
    "jupyter": {
     "outputs_hidden": false
    },
    "outputId": "ed518cb0-d7c8-4f03-d3b8-5f411fd3db3c",
    "papermill": {
     "duration": 3.349496,
     "end_time": "2022-07-06T09:26:59.360254",
     "exception": false,
     "start_time": "2022-07-06T09:26:56.010758",
     "status": "completed"
    },
    "tags": []
   },
   "outputs": [
    {
     "name": "stdout",
     "output_type": "stream",
     "text": [
      "images.shape: torch.Size([128, 1, 28, 28])\n"
     ]
    },
    {
     "data": {
      "image/png": "[encoded data removed]",
      "text/plain": [
       "<Figure size 1152x576 with 1 Axes>"
      ]
     },
     "metadata": {},
     "output_type": "display_data"
    }
   ],
   "source": [
    "for images, _ in train_loader:\n",
    "    print('images.shape:', images.shape)\n",
    "    plt.figure(figsize=(16,8))\n",
    "    plt.axis('off')\n",
    "    plt.imshow(make_grid(images, nrow=16).permute((1, 2, 0)))\n",
    "    break"
   ]
  },
  {
   "cell_type": "markdown",
   "id": "4904942b",
   "metadata": {
    "_cell_guid": "5fdecd3f-072b-4d69-8c1e-dcc73ed73b38",
    "_uuid": "4e17b772-4a66-4093-a0db-3276c9390efc",
    "id": "OKEjn2zvpeT6",
    "papermill": {
     "duration": 0.029619,
     "end_time": "2022-07-06T09:26:59.419743",
     "exception": false,
     "start_time": "2022-07-06T09:26:59.390124",
     "status": "completed"
    },
    "tags": []
   },
   "source": [
    "## Hidden Layers, Activation Functions and Non-Linearity\n",
    "\n",
    "We'll create a neural network with two layers: a _hidden layer_ and an _output layer_. Additionally, we'll use an _activation function_ between the two layers. Let's look at a step-by-step example to learn how hidden layers and activation functions can help capture non-linear relationships between inputs and outputs.\n",
    "\n",
    "First, let's create a batch of inputs tensors. We'll flatten the `1x28x28` images into vectors of size `784`, so they can be passed into an `nn.Linear` object."
   ]
  },
  {
   "cell_type": "code",
   "execution_count": 9,
   "id": "f8a025c3",
   "metadata": {
    "_cell_guid": "5cb9c0ae-ba62-4fe9-8d80-84fdf72454c9",
    "_uuid": "26201e37-0f33-49f4-839e-67fe01d62ce3",
    "collapsed": false,
    "execution": {
     "iopub.execute_input": "2022-07-06T09:26:59.480259Z",
     "iopub.status.busy": "2022-07-06T09:26:59.479904Z",
     "iopub.status.idle": "2022-07-06T09:26:59.737622Z",
     "shell.execute_reply": "2022-07-06T09:26:59.735980Z"
    },
    "executionInfo": {
     "elapsed": 869,
     "status": "ok",
     "timestamp": 1607147121851,
     "user": {
      "displayName": "Aakash N S",
      "photoUrl": "https://lh3.googleusercontent.com/a-/AOh14GiIWFHtan62vtW1gz2Bv2bxL3rppefcadxzEVxRKQ=s64",
      "userId": "03254185060287524023"
     },
     "user_tz": -330
    },
    "id": "B5iPCdqEpeT6",
    "jupyter": {
     "outputs_hidden": false
    },
    "outputId": "4919e133-729f-4b18-a885-ee62c26cdac3",
    "papermill": {
     "duration": 0.290995,
     "end_time": "2022-07-06T09:26:59.739945",
     "exception": false,
     "start_time": "2022-07-06T09:26:59.448950",
     "status": "completed"
    },
    "tags": []
   },
   "outputs": [
    {
     "name": "stdout",
     "output_type": "stream",
     "text": [
      "images.shape: torch.Size([128, 1, 28, 28])\n",
      "inputs.shape: torch.Size([128, 784])\n"
     ]
    }
   ],
   "source": [
    "for images, labels in train_loader:\n",
    "    print('images.shape:', images.shape)\n",
    "    inputs = images.reshape(-1, 784)\n",
    "    print('inputs.shape:', inputs.shape)\n",
    "    break"
   ]
  },
  {
   "cell_type": "markdown",
   "id": "551b34de",
   "metadata": {
    "_cell_guid": "bf8bf51a-4cd2-4ada-92e0-9a611c9ce750",
    "_uuid": "cf140710-2674-4dbb-b3f1-0e06e84cbb5d",
    "id": "mF__u2QfpeT6",
    "papermill": {
     "duration": 0.029062,
     "end_time": "2022-07-06T09:26:59.799016",
     "exception": false,
     "start_time": "2022-07-06T09:26:59.769954",
     "status": "completed"
    },
    "tags": []
   },
   "source": [
    "Next, let's create a `nn.Linear` object, which will serve as our _hidden_ layer. We'll set the size of the output from the hidden layer to 32. This number can be increased or decreased to change the _learning capacity_ of the model."
   ]
  },
  {
   "cell_type": "code",
   "execution_count": 10,
   "id": "49b99e9b",
   "metadata": {
    "_cell_guid": "b9c964f8-0213-4c01-b30c-a9b97df27854",
    "_uuid": "57972c0b-b242-4fd3-8751-42947629055a",
    "collapsed": false,
    "execution": {
     "iopub.execute_input": "2022-07-06T09:26:59.861583Z",
     "iopub.status.busy": "2022-07-06T09:26:59.860658Z",
     "iopub.status.idle": "2022-07-06T09:26:59.866495Z",
     "shell.execute_reply": "2022-07-06T09:26:59.865347Z"
    },
    "executionInfo": {
     "elapsed": 1138,
     "status": "ok",
     "timestamp": 1607147167079,
     "user": {
      "displayName": "Aakash N S",
      "photoUrl": "https://lh3.googleusercontent.com/a-/AOh14GiIWFHtan62vtW1gz2Bv2bxL3rppefcadxzEVxRKQ=s64",
      "userId": "03254185060287524023"
     },
     "user_tz": -330
    },
    "id": "6zXN1c4PpeT6",
    "jupyter": {
     "outputs_hidden": false
    },
    "papermill": {
     "duration": 0.039195,
     "end_time": "2022-07-06T09:26:59.868606",
     "exception": false,
     "start_time": "2022-07-06T09:26:59.829411",
     "status": "completed"
    },
    "tags": []
   },
   "outputs": [],
   "source": [
    "input_size = inputs.shape[-1]\n",
    "hidden_size = 32"
   ]
  },
  {
   "cell_type": "code",
   "execution_count": 11,
   "id": "bb3bfb50",
   "metadata": {
    "_cell_guid": "6f867516-1d63-4ad3-9df0-0f1f9d6831dc",
    "_uuid": "6e112d02-e8fd-4e95-b044-b7dcfa0f6602",
    "collapsed": false,
    "execution": {
     "iopub.execute_input": "2022-07-06T09:26:59.929888Z",
     "iopub.status.busy": "2022-07-06T09:26:59.929224Z",
     "iopub.status.idle": "2022-07-06T09:26:59.935261Z",
     "shell.execute_reply": "2022-07-06T09:26:59.934396Z"
    },
    "executionInfo": {
     "elapsed": 1145,
     "status": "ok",
     "timestamp": 1607147168826,
     "user": {
      "displayName": "Aakash N S",
      "photoUrl": "https://lh3.googleusercontent.com/a-/AOh14GiIWFHtan62vtW1gz2Bv2bxL3rppefcadxzEVxRKQ=s64",
      "userId": "03254185060287524023"
     },
     "user_tz": -330
    },
    "id": "oOAh7CLZpeT7",
    "jupyter": {
     "outputs_hidden": false
    },
    "papermill": {
     "duration": 0.039416,
     "end_time": "2022-07-06T09:26:59.937366",
     "exception": false,
     "start_time": "2022-07-06T09:26:59.897950",
     "status": "completed"
    },
    "tags": []
   },
   "outputs": [],
   "source": [
    "layer1 = nn.Linear(input_size, hidden_size)"
   ]
  },
  {
   "cell_type": "markdown",
   "id": "8fa79bfb",
   "metadata": {
    "_cell_guid": "a7f4c81c-e993-4bd6-9b81-a6fe483643e3",
    "_uuid": "0abd7d23-7542-4eb0-bee5-6752b4558619",
    "id": "YzqPBDuypeT7",
    "papermill": {
     "duration": 0.029048,
     "end_time": "2022-07-06T09:26:59.996356",
     "exception": false,
     "start_time": "2022-07-06T09:26:59.967308",
     "status": "completed"
    },
    "tags": []
   },
   "source": [
    "We can now compute intermediate outputs for the batch of images by passing `inputs` through `layer1`."
   ]
  },
  {
   "cell_type": "code",
   "execution_count": 12,
   "id": "1dd94767",
   "metadata": {
    "_cell_guid": "e1d7f885-e4ec-4e18-8f83-c3dd7d63b4c8",
    "_uuid": "c06eddea-c80d-4096-a2c2-ce0634f8e2d6",
    "collapsed": false,
    "execution": {
     "iopub.execute_input": "2022-07-06T09:27:00.057165Z",
     "iopub.status.busy": "2022-07-06T09:27:00.056822Z",
     "iopub.status.idle": "2022-07-06T09:27:00.063315Z",
     "shell.execute_reply": "2022-07-06T09:27:00.062407Z"
    },
    "executionInfo": {
     "elapsed": 1099,
     "status": "ok",
     "timestamp": 1607147207537,
     "user": {
      "displayName": "Aakash N S",
      "photoUrl": "https://lh3.googleusercontent.com/a-/AOh14GiIWFHtan62vtW1gz2Bv2bxL3rppefcadxzEVxRKQ=s64",
      "userId": "03254185060287524023"
     },
     "user_tz": -330
    },
    "id": "zd0YcDIlcCKb",
    "jupyter": {
     "outputs_hidden": false
    },
    "outputId": "07b3d397-8a89-47fd-f50f-1116ae3a1f53",
    "papermill": {
     "duration": 0.039671,
     "end_time": "2022-07-06T09:27:00.065598",
     "exception": false,
     "start_time": "2022-07-06T09:27:00.025927",
     "status": "completed"
    },
    "tags": []
   },
   "outputs": [
    {
     "data": {
      "text/plain": [
       "torch.Size([128, 784])"
      ]
     },
     "execution_count": 12,
     "metadata": {},
     "output_type": "execute_result"
    }
   ],
   "source": [
    "inputs.shape"
   ]
  },
  {
   "cell_type": "code",
   "execution_count": 13,
   "id": "cd6fc1cd",
   "metadata": {
    "_cell_guid": "959a5c62-918e-4a72-9299-46a33bcf89cd",
    "_uuid": "3349badf-9331-41ea-a685-8044e8e79845",
    "collapsed": false,
    "execution": {
     "iopub.execute_input": "2022-07-06T09:27:00.125855Z",
     "iopub.status.busy": "2022-07-06T09:27:00.125529Z",
     "iopub.status.idle": "2022-07-06T09:27:00.171015Z",
     "shell.execute_reply": "2022-07-06T09:27:00.170065Z"
    },
    "executionInfo": {
     "elapsed": 859,
     "status": "ok",
     "timestamp": 1607147191226,
     "user": {
      "displayName": "Aakash N S",
      "photoUrl": "https://lh3.googleusercontent.com/a-/AOh14GiIWFHtan62vtW1gz2Bv2bxL3rppefcadxzEVxRKQ=s64",
      "userId": "03254185060287524023"
     },
     "user_tz": -330
    },
    "id": "pD_FPxeipeT7",
    "jupyter": {
     "outputs_hidden": false
    },
    "outputId": "37f552e1-ac92-4e02-e948-2660b7b6fb43",
    "papermill": {
     "duration": 0.077531,
     "end_time": "2022-07-06T09:27:00.173055",
     "exception": false,
     "start_time": "2022-07-06T09:27:00.095524",
     "status": "completed"
    },
    "tags": []
   },
   "outputs": [
    {
     "name": "stdout",
     "output_type": "stream",
     "text": [
      "layer1_outputs.shape: torch.Size([128, 32])\n"
     ]
    }
   ],
   "source": [
    "layer1_outputs = layer1(inputs)\n",
    "print('layer1_outputs.shape:', layer1_outputs.shape)"
   ]
  },
  {
   "cell_type": "markdown",
   "id": "57ddf6f5",
   "metadata": {
    "_cell_guid": "ececb3a9-c248-4ba3-a5c1-c76d8ccba2b5",
    "_uuid": "b74fc29c-4d09-4e10-a62a-e26f28f68c4f",
    "id": "PK-eA2QTpeT7",
    "papermill": {
     "duration": 0.030197,
     "end_time": "2022-07-06T09:27:00.232738",
     "exception": false,
     "start_time": "2022-07-06T09:27:00.202541",
     "status": "completed"
    },
    "tags": []
   },
   "source": [
    "The image vectors of size `784` are transformed into intermediate output vectors of length `32` by performing a matrix multiplication of `inputs` matrix with the transposed weights matrix of `layer1` and adding the bias. We can verify this using `torch.allclose`. For a more detailed explanation, review the tutorial on [linear regression](https://jovian.ai/aakashns/02-linear-regression)."
   ]
  },
  {
   "cell_type": "code",
   "execution_count": 14,
   "id": "b948e42b",
   "metadata": {
    "_cell_guid": "6a2fe864-5861-4c4f-ac9a-4337c23307c0",
    "_uuid": "70c6e77c-18e5-4795-8aa4-313ad3824d0d",
    "collapsed": false,
    "execution": {
     "iopub.execute_input": "2022-07-06T09:27:00.294716Z",
     "iopub.status.busy": "2022-07-06T09:27:00.294066Z",
     "iopub.status.idle": "2022-07-06T09:27:00.305914Z",
     "shell.execute_reply": "2022-07-06T09:27:00.305021Z"
    },
    "executionInfo": {
     "elapsed": 874,
     "status": "ok",
     "timestamp": 1607147293249,
     "user": {
      "displayName": "Aakash N S",
      "photoUrl": "https://lh3.googleusercontent.com/a-/AOh14GiIWFHtan62vtW1gz2Bv2bxL3rppefcadxzEVxRKQ=s64",
      "userId": "03254185060287524023"
     },
     "user_tz": -330
    },
    "id": "0dEnp5VjpeT7",
    "jupyter": {
     "outputs_hidden": false
    },
    "outputId": "4bc3fbac-1947-4bf3-abdb-37ba5a21b257",
    "papermill": {
     "duration": 0.045025,
     "end_time": "2022-07-06T09:27:00.307925",
     "exception": false,
     "start_time": "2022-07-06T09:27:00.262900",
     "status": "completed"
    },
    "tags": []
   },
   "outputs": [
    {
     "data": {
      "text/plain": [
       "torch.Size([128, 32])"
      ]
     },
     "execution_count": 14,
     "metadata": {},
     "output_type": "execute_result"
    }
   ],
   "source": [
    "layer1_outputs_direct = inputs @ layer1.weight.t() + layer1.bias\n",
    "layer1_outputs_direct.shape"
   ]
  },
  {
   "cell_type": "code",
   "execution_count": 15,
   "id": "d99276f8",
   "metadata": {
    "_cell_guid": "96a60827-fab0-48b1-a0df-b96a61061fa6",
    "_uuid": "eaae3c12-5bac-498c-a53a-7ff2744145b1",
    "collapsed": false,
    "execution": {
     "iopub.execute_input": "2022-07-06T09:27:00.374505Z",
     "iopub.status.busy": "2022-07-06T09:27:00.373326Z",
     "iopub.status.idle": "2022-07-06T09:27:00.387201Z",
     "shell.execute_reply": "2022-07-06T09:27:00.386364Z"
    },
    "jupyter": {
     "outputs_hidden": false
    },
    "papermill": {
     "duration": 0.051455,
     "end_time": "2022-07-06T09:27:00.389244",
     "exception": false,
     "start_time": "2022-07-06T09:27:00.337789",
     "status": "completed"
    },
    "tags": []
   },
   "outputs": [
    {
     "data": {
      "text/plain": [
       "True"
      ]
     },
     "execution_count": 15,
     "metadata": {},
     "output_type": "execute_result"
    }
   ],
   "source": [
    "torch.allclose(layer1_outputs, layer1_outputs_direct, 1e-3)"
   ]
  },
  {
   "cell_type": "markdown",
   "id": "215581b3",
   "metadata": {
    "_cell_guid": "c1ad3643-4405-4370-b3ae-dc2e932ee4ee",
    "_uuid": "6c297785-d35c-49c4-9b17-d7ed0bc8779b",
    "id": "MW9IXDPtpeT7",
    "papermill": {
     "duration": 0.029131,
     "end_time": "2022-07-06T09:27:00.447945",
     "exception": false,
     "start_time": "2022-07-06T09:27:00.418814",
     "status": "completed"
    },
    "tags": []
   },
   "source": [
    "Thus, `layer1_outputs` and `inputs` have a linear relationship, i.e., each element of `layer_outputs` is a weighted sum of elements from `inputs`. Thus, even as we train the model and modify the weights, `layer1` can only capture linear relationships between `inputs` and `outputs`.\n",
    "\n",
    "<img src=\"https://i.imgur.com/inXsLuq.png\" width=\"360\">"
   ]
  },
  {
   "cell_type": "markdown",
   "id": "19ba2787",
   "metadata": {
    "_cell_guid": "79b22086-7b06-4119-85d1-957ad1cb01c9",
    "_uuid": "84a45efe-e0e4-41af-956c-83df466ae8c9",
    "papermill": {
     "duration": 0.030008,
     "end_time": "2022-07-06T09:27:00.507838",
     "exception": false,
     "start_time": "2022-07-06T09:27:00.477830",
     "status": "completed"
    },
    "tags": []
   },
   "source": [
    "Next, we'll use the Rectified Linear Unit (ReLU) function as the activation function for the outputs. It has the formula `relu(x) = max(0,x)` i.e. it simply replaces negative values in a given tensor with the value 0. ReLU is a non-linear function, as seen here visually:\n",
    "\n",
    "<img src=\"https://i.imgur.com/yijV4xF.png\" width=\"420\">\n",
    "\n",
    "We can use the `F.relu` method to apply ReLU to the elements of a tensor."
   ]
  },
  {
   "cell_type": "code",
   "execution_count": 16,
   "id": "3364118e",
   "metadata": {
    "_cell_guid": "91e928db-73f8-4e74-b772-cbe510155f4e",
    "_uuid": "d2533fc8-91c4-4215-8088-aedc10d6a6d0",
    "collapsed": false,
    "execution": {
     "iopub.execute_input": "2022-07-06T09:27:00.569998Z",
     "iopub.status.busy": "2022-07-06T09:27:00.569647Z",
     "iopub.status.idle": "2022-07-06T09:27:00.577831Z",
     "shell.execute_reply": "2022-07-06T09:27:00.576822Z"
    },
    "executionInfo": {
     "elapsed": 856,
     "status": "ok",
     "timestamp": 1607147404489,
     "user": {
      "displayName": "Aakash N S",
      "photoUrl": "https://lh3.googleusercontent.com/a-/AOh14GiIWFHtan62vtW1gz2Bv2bxL3rppefcadxzEVxRKQ=s64",
      "userId": "03254185060287524023"
     },
     "user_tz": -330
    },
    "id": "zHMpGUGRpeT7",
    "jupyter": {
     "outputs_hidden": false
    },
    "outputId": "73821aa2-39ff-4422-cd6a-b6daaef65521",
    "papermill": {
     "duration": 0.041873,
     "end_time": "2022-07-06T09:27:00.579956",
     "exception": false,
     "start_time": "2022-07-06T09:27:00.538083",
     "status": "completed"
    },
    "tags": []
   },
   "outputs": [
    {
     "data": {
      "text/plain": [
       "tensor([[1.0000, 0.0000, 0.0000],\n",
       "        [0.0000, 0.2000, 3.0000]])"
      ]
     },
     "execution_count": 16,
     "metadata": {},
     "output_type": "execute_result"
    }
   ],
   "source": [
    "F.relu(torch.tensor([[1, -1, 0], \n",
    "                     [-0.1, .2, 3]]))"
   ]
  },
  {
   "cell_type": "markdown",
   "id": "4bb78bf9",
   "metadata": {
    "_cell_guid": "e97834e1-fb1e-4aac-b24a-97471c2e9044",
    "_uuid": "81163ae9-2e91-4633-9b02-1b5ab4a5ffa7",
    "id": "Y0QIFoEopeT7",
    "papermill": {
     "duration": 0.029398,
     "end_time": "2022-07-06T09:27:00.639624",
     "exception": false,
     "start_time": "2022-07-06T09:27:00.610226",
     "status": "completed"
    },
    "tags": []
   },
   "source": [
    "Let's apply the activation function to `layer1_outputs` and verify that negative values were replaced with 0."
   ]
  },
  {
   "cell_type": "code",
   "execution_count": 17,
   "id": "917c63f6",
   "metadata": {
    "_cell_guid": "85c64238-ae90-4eb0-83a0-2ba74d8fdf67",
    "_uuid": "7f0e1661-cd66-467e-8871-b543cce87792",
    "collapsed": false,
    "execution": {
     "iopub.execute_input": "2022-07-06T09:27:00.701238Z",
     "iopub.status.busy": "2022-07-06T09:27:00.700901Z",
     "iopub.status.idle": "2022-07-06T09:27:00.707721Z",
     "shell.execute_reply": "2022-07-06T09:27:00.706318Z"
    },
    "executionInfo": {
     "elapsed": 851,
     "status": "ok",
     "timestamp": 1607147451170,
     "user": {
      "displayName": "Aakash N S",
      "photoUrl": "https://lh3.googleusercontent.com/a-/AOh14GiIWFHtan62vtW1gz2Bv2bxL3rppefcadxzEVxRKQ=s64",
      "userId": "03254185060287524023"
     },
     "user_tz": -330
    },
    "id": "QqBj3KsnpeT7",
    "jupyter": {
     "outputs_hidden": false
    },
    "outputId": "b7d59b68-e58e-4788-b841-5c75ec574cb6",
    "papermill": {
     "duration": 0.040131,
     "end_time": "2022-07-06T09:27:00.709777",
     "exception": false,
     "start_time": "2022-07-06T09:27:00.669646",
     "status": "completed"
    },
    "tags": []
   },
   "outputs": [
    {
     "name": "stdout",
     "output_type": "stream",
     "text": [
      "min(layer1_outputs): -0.6422106027603149\n",
      "min(relu_outputs): 0.0\n"
     ]
    }
   ],
   "source": [
    "relu_outputs = F.relu(layer1_outputs)\n",
    "print('min(layer1_outputs):', torch.min(layer1_outputs).item())\n",
    "print('min(relu_outputs):', torch.min(relu_outputs).item())"
   ]
  },
  {
   "cell_type": "markdown",
   "id": "87092cc6",
   "metadata": {
    "_cell_guid": "488f0a98-c9d3-4376-b2b5-278518df3c6a",
    "_uuid": "ef53e105-8b45-4177-a6b4-c04f09747c86",
    "id": "g42i491NpeT7",
    "papermill": {
     "duration": 0.03013,
     "end_time": "2022-07-06T09:27:00.769571",
     "exception": false,
     "start_time": "2022-07-06T09:27:00.739441",
     "status": "completed"
    },
    "tags": []
   },
   "source": [
    "Now that we've applied a non-linear activation function, `relu_outputs` and `inputs` do not have a linear relationship. We refer to `ReLU` as the _activation function_, because for each input certain outputs are activated (those with non-zero values) while others turned off (those with zero values)\n",
    "\n",
    "Next, let's create an output layer to convert vectors of length `hidden_size` in `relu_outputs` into vectors of length 10, which is the desired output of our model (since there are 10 target labels)."
   ]
  },
  {
   "cell_type": "code",
   "execution_count": 18,
   "id": "85f9c8d8",
   "metadata": {
    "_cell_guid": "9d26ea50-ff3b-4c87-b322-153d1474ab39",
    "_uuid": "8f4b5796-1800-4397-bfc9-cda383b59183",
    "collapsed": false,
    "execution": {
     "iopub.execute_input": "2022-07-06T09:27:00.832840Z",
     "iopub.status.busy": "2022-07-06T09:27:00.832143Z",
     "iopub.status.idle": "2022-07-06T09:27:00.837398Z",
     "shell.execute_reply": "2022-07-06T09:27:00.836399Z"
    },
    "executionInfo": {
     "elapsed": 955,
     "status": "ok",
     "timestamp": 1607147503435,
     "user": {
      "displayName": "Aakash N S",
      "photoUrl": "https://lh3.googleusercontent.com/a-/AOh14GiIWFHtan62vtW1gz2Bv2bxL3rppefcadxzEVxRKQ=s64",
      "userId": "03254185060287524023"
     },
     "user_tz": -330
    },
    "id": "k1qY-KYzpeT7",
    "jupyter": {
     "outputs_hidden": false
    },
    "papermill": {
     "duration": 0.038811,
     "end_time": "2022-07-06T09:27:00.839377",
     "exception": false,
     "start_time": "2022-07-06T09:27:00.800566",
     "status": "completed"
    },
    "tags": []
   },
   "outputs": [],
   "source": [
    "output_size = 10\n",
    "layer2 = nn.Linear(hidden_size, output_size)"
   ]
  },
  {
   "cell_type": "code",
   "execution_count": 19,
   "id": "8a372b56",
   "metadata": {
    "_cell_guid": "e3698264-e49f-4392-b59f-1084347849c8",
    "_uuid": "ae831501-1fff-4bb5-9b6b-f344c452ae3e",
    "collapsed": false,
    "execution": {
     "iopub.execute_input": "2022-07-06T09:27:00.901489Z",
     "iopub.status.busy": "2022-07-06T09:27:00.900489Z",
     "iopub.status.idle": "2022-07-06T09:27:00.907027Z",
     "shell.execute_reply": "2022-07-06T09:27:00.905899Z"
    },
    "executionInfo": {
     "elapsed": 887,
     "status": "ok",
     "timestamp": 1607147514398,
     "user": {
      "displayName": "Aakash N S",
      "photoUrl": "https://lh3.googleusercontent.com/a-/AOh14GiIWFHtan62vtW1gz2Bv2bxL3rppefcadxzEVxRKQ=s64",
      "userId": "03254185060287524023"
     },
     "user_tz": -330
    },
    "id": "D_DuKvL8peT7",
    "jupyter": {
     "outputs_hidden": false
    },
    "outputId": "4542bfde-4c73-4a38-8491-e3b808395db7",
    "papermill": {
     "duration": 0.040177,
     "end_time": "2022-07-06T09:27:00.909470",
     "exception": false,
     "start_time": "2022-07-06T09:27:00.869293",
     "status": "completed"
    },
    "tags": []
   },
   "outputs": [
    {
     "name": "stdout",
     "output_type": "stream",
     "text": [
      "torch.Size([128, 10])\n"
     ]
    }
   ],
   "source": [
    "layer2_outputs = layer2(relu_outputs)\n",
    "print(layer2_outputs.shape)"
   ]
  },
  {
   "cell_type": "code",
   "execution_count": 20,
   "id": "6c6a0103",
   "metadata": {
    "_cell_guid": "6af91ca3-c741-4b8d-9f89-02929fa0fc91",
    "_uuid": "ef3a9d5d-ab34-4a53-a436-dc37266f29d7",
    "collapsed": false,
    "execution": {
     "iopub.execute_input": "2022-07-06T09:27:00.971932Z",
     "iopub.status.busy": "2022-07-06T09:27:00.971292Z",
     "iopub.status.idle": "2022-07-06T09:27:00.977543Z",
     "shell.execute_reply": "2022-07-06T09:27:00.976597Z"
    },
    "executionInfo": {
     "elapsed": 1102,
     "status": "ok",
     "timestamp": 1607147527699,
     "user": {
      "displayName": "Aakash N S",
      "photoUrl": "https://lh3.googleusercontent.com/a-/AOh14GiIWFHtan62vtW1gz2Bv2bxL3rppefcadxzEVxRKQ=s64",
      "userId": "03254185060287524023"
     },
     "user_tz": -330
    },
    "id": "caxPuaS9dQhH",
    "jupyter": {
     "outputs_hidden": false
    },
    "outputId": "d2ba04fb-a317-4dc9-d015-ae48900e983b",
    "papermill": {
     "duration": 0.03948,
     "end_time": "2022-07-06T09:27:00.979396",
     "exception": false,
     "start_time": "2022-07-06T09:27:00.939916",
     "status": "completed"
    },
    "tags": []
   },
   "outputs": [
    {
     "data": {
      "text/plain": [
       "torch.Size([128, 784])"
      ]
     },
     "execution_count": 20,
     "metadata": {},
     "output_type": "execute_result"
    }
   ],
   "source": [
    "inputs.shape"
   ]
  },
  {
   "cell_type": "markdown",
   "id": "6bd2fb69",
   "metadata": {
    "_cell_guid": "77aab69f-e284-475e-a101-567beb79ca8c",
    "_uuid": "3bf7bbca-77d4-42e2-a97f-99ef1dbae699",
    "id": "AikFPlJppeT7",
    "papermill": {
     "duration": 0.029703,
     "end_time": "2022-07-06T09:27:01.039783",
     "exception": false,
     "start_time": "2022-07-06T09:27:01.010080",
     "status": "completed"
    },
    "tags": []
   },
   "source": [
    "As expected, `layer2_outputs` contains a batch of vectors of size 10. We can now use this output to compute the loss using `F.cross_entropy` and adjust the weights of `layer1` and `layer2` using gradient descent."
   ]
  },
  {
   "cell_type": "code",
   "execution_count": 21,
   "id": "7368ddb1",
   "metadata": {
    "_cell_guid": "edce7791-241a-468c-8ac2-a3975879b99f",
    "_uuid": "809f7b30-6b6e-45c9-988f-20ee7b5b6217",
    "collapsed": false,
    "execution": {
     "iopub.execute_input": "2022-07-06T09:27:01.101985Z",
     "iopub.status.busy": "2022-07-06T09:27:01.101125Z",
     "iopub.status.idle": "2022-07-06T09:27:01.110860Z",
     "shell.execute_reply": "2022-07-06T09:27:01.109879Z"
    },
    "executionInfo": {
     "elapsed": 874,
     "status": "ok",
     "timestamp": 1607147565217,
     "user": {
      "displayName": "Aakash N S",
      "photoUrl": "https://lh3.googleusercontent.com/a-/AOh14GiIWFHtan62vtW1gz2Bv2bxL3rppefcadxzEVxRKQ=s64",
      "userId": "03254185060287524023"
     },
     "user_tz": -330
    },
    "id": "CQ_ArLNApeT7",
    "jupyter": {
     "outputs_hidden": false
    },
    "outputId": "05ddc267-9532-4b02-d7d3-402feb78be0a",
    "papermill": {
     "duration": 0.043247,
     "end_time": "2022-07-06T09:27:01.112869",
     "exception": false,
     "start_time": "2022-07-06T09:27:01.069622",
     "status": "completed"
    },
    "tags": []
   },
   "outputs": [
    {
     "data": {
      "text/plain": [
       "tensor(2.3143, grad_fn=<NllLossBackward0>)"
      ]
     },
     "execution_count": 21,
     "metadata": {},
     "output_type": "execute_result"
    }
   ],
   "source": [
    "F.cross_entropy(layer2_outputs, labels)"
   ]
  },
  {
   "cell_type": "markdown",
   "id": "368de0db",
   "metadata": {
    "_cell_guid": "8408540e-e758-4901-a161-efcd574c7321",
    "_uuid": "ee36dcb8-6a10-4f1e-af0d-00446ea36024",
    "id": "UazxyCKHpeT7",
    "papermill": {
     "duration": 0.03063,
     "end_time": "2022-07-06T09:27:01.173407",
     "exception": false,
     "start_time": "2022-07-06T09:27:01.142777",
     "status": "completed"
    },
    "tags": []
   },
   "source": [
    "Thus, our model transforms `inputs` into `layer2_outputs` by applying a linear transformation (using `layer1`), followed by a non-linear activation (using `F.relu`), followed by another linear transformation (using `layer2`). Let's verify this by re-computing the output using basic matrix operations."
   ]
  },
  {
   "cell_type": "code",
   "execution_count": 22,
   "id": "469f6403",
   "metadata": {
    "_cell_guid": "c2fa28d7-6614-4f36-8d1d-d6714c17baa4",
    "_uuid": "989a6bf9-8eb1-44e1-9acd-5e44007e0ed9",
    "collapsed": false,
    "execution": {
     "iopub.execute_input": "2022-07-06T09:27:01.235091Z",
     "iopub.status.busy": "2022-07-06T09:27:01.234434Z",
     "iopub.status.idle": "2022-07-06T09:27:01.240488Z",
     "shell.execute_reply": "2022-07-06T09:27:01.239464Z"
    },
    "executionInfo": {
     "elapsed": 826,
     "status": "ok",
     "timestamp": 1607147631503,
     "user": {
      "displayName": "Aakash N S",
      "photoUrl": "https://lh3.googleusercontent.com/a-/AOh14GiIWFHtan62vtW1gz2Bv2bxL3rppefcadxzEVxRKQ=s64",
      "userId": "03254185060287524023"
     },
     "user_tz": -330
    },
    "id": "vNQ2nPijpeT7",
    "jupyter": {
     "outputs_hidden": false
    },
    "papermill": {
     "duration": 0.039013,
     "end_time": "2022-07-06T09:27:01.242454",
     "exception": false,
     "start_time": "2022-07-06T09:27:01.203441",
     "status": "completed"
    },
    "tags": []
   },
   "outputs": [],
   "source": [
    "# Expanded version of layer2(F.relu(layer1(inputs)))\n",
    "outputs = (F.relu(inputs @ layer1.weight.t() + layer1.bias)) @ layer2.weight.t() + layer2.bias"
   ]
  },
  {
   "cell_type": "code",
   "execution_count": 23,
   "id": "e1b1d569",
   "metadata": {
    "_cell_guid": "0b9a590e-2295-4983-af87-e667f2be870f",
    "_uuid": "24b0e8cf-5518-4a43-9609-5557704fa348",
    "collapsed": false,
    "execution": {
     "iopub.execute_input": "2022-07-06T09:27:01.305212Z",
     "iopub.status.busy": "2022-07-06T09:27:01.304861Z",
     "iopub.status.idle": "2022-07-06T09:27:01.312956Z",
     "shell.execute_reply": "2022-07-06T09:27:01.311939Z"
    },
    "executionInfo": {
     "elapsed": 1050,
     "status": "ok",
     "timestamp": 1607147647339,
     "user": {
      "displayName": "Aakash N S",
      "photoUrl": "https://lh3.googleusercontent.com/a-/AOh14GiIWFHtan62vtW1gz2Bv2bxL3rppefcadxzEVxRKQ=s64",
      "userId": "03254185060287524023"
     },
     "user_tz": -330
    },
    "id": "4BgaRib-peT7",
    "jupyter": {
     "outputs_hidden": false
    },
    "outputId": "46fe04bb-ecee-4f75-9f3b-5ca9507534ab",
    "papermill": {
     "duration": 0.042206,
     "end_time": "2022-07-06T09:27:01.315015",
     "exception": false,
     "start_time": "2022-07-06T09:27:01.272809",
     "status": "completed"
    },
    "tags": []
   },
   "outputs": [
    {
     "data": {
      "text/plain": [
       "True"
      ]
     },
     "execution_count": 23,
     "metadata": {},
     "output_type": "execute_result"
    }
   ],
   "source": [
    "torch.allclose(outputs, layer2_outputs, 1e-3)"
   ]
  },
  {
   "cell_type": "markdown",
   "id": "bdae4cdb",
   "metadata": {
    "_cell_guid": "8609ed6f-9168-4313-aa22-66f812226382",
    "_uuid": "0417f828-afd1-46d4-856e-467b39c2e794",
    "id": "ZLOjL89WpeT7",
    "papermill": {
     "duration": 0.030033,
     "end_time": "2022-07-06T09:27:01.375629",
     "exception": false,
     "start_time": "2022-07-06T09:27:01.345596",
     "status": "completed"
    },
    "tags": []
   },
   "source": [
    "Note that `outputs` and `inputs` do not have a linear relationship due to the non-linear activation function `F.relu`. As we train the model and adjust the weights of `layer1` and `layer2`, we can now capture non-linear relationships between the images and their labels. In other words, introducing non-linearity makes the model more powerful and versatile. Also, since `hidden_size` does not depend on the dimensions of the inputs or outputs, we vary it to increase the number of parameters within the model. We can also introduce new hidden layers and apply the same non-linear activation after each hidden layer.\n",
    "\n",
    "The model we just created is called a neural network. A _deep neural network_ is simply a neural network with one or more hidden layers. In fact, the [Universal Approximation Theorem](http://neuralnetworksanddeeplearning.com/chap4.html) states that a sufficiently large & deep neural network can compute any arbitrary function i.e. it can _learn_ rich and complex non-linear relationships between inputs and targets. Here are some examples:\n",
    "\n",
    "* Identifying if an image contains a cat or a dog (or [something else](https://machinelearningmastery.com/introduction-to-the-imagenet-large-scale-visual-recognition-challenge-ilsvrc/))\n",
    "* Identifying the genre of a song using a 10-second sample\n",
    "* Classifying movie reviews as positive or negative based on their content\n",
    "* Navigating self-driving cars using a video feed of the road\n",
    "* Translating sentences from English to French (and hundreds of other languages)\n",
    "* Converting a speech recording to text and vice versa\n",
    "* And many more...\n",
    "\n",
    "It's hard to imagine how the simple process of multiplying inputs with randomly initialized matrices, applying non-linear activations, and adjusting weights repeatedly using gradient descent can yield such astounding results. Deep learning models often contain millions of parameters, which can together capture far more complex relationships than the human brain can comprehend.\n",
    "\n",
    "If we hadn't included a non-linear activation between the two linear layers, the final relationship between inputs and outputs would still be linear. A simple refactoring of the computations illustrates this."
   ]
  },
  {
   "cell_type": "code",
   "execution_count": 24,
   "id": "e80e497a",
   "metadata": {
    "_cell_guid": "f70415ae-60f9-4f99-9fc3-53402f190b03",
    "_uuid": "f6705498-1e73-4e2b-90be-bc14b7f2bacd",
    "collapsed": false,
    "execution": {
     "iopub.execute_input": "2022-07-06T09:27:01.438837Z",
     "iopub.status.busy": "2022-07-06T09:27:01.438055Z",
     "iopub.status.idle": "2022-07-06T09:27:01.443786Z",
     "shell.execute_reply": "2022-07-06T09:27:01.442867Z"
    },
    "executionInfo": {
     "elapsed": 851,
     "status": "ok",
     "timestamp": 1607147759305,
     "user": {
      "displayName": "Aakash N S",
      "photoUrl": "https://lh3.googleusercontent.com/a-/AOh14GiIWFHtan62vtW1gz2Bv2bxL3rppefcadxzEVxRKQ=s64",
      "userId": "03254185060287524023"
     },
     "user_tz": -330
    },
    "id": "AHWruKwlpeT7",
    "jupyter": {
     "outputs_hidden": false
    },
    "papermill": {
     "duration": 0.039767,
     "end_time": "2022-07-06T09:27:01.445718",
     "exception": false,
     "start_time": "2022-07-06T09:27:01.405951",
     "status": "completed"
    },
    "tags": []
   },
   "outputs": [],
   "source": [
    "# Same as layer2(layer1(inputs))\n",
    "outputs2 = (inputs @ layer1.weight.t() + layer1.bias) @ layer2.weight.t() + layer2.bias"
   ]
  },
  {
   "cell_type": "code",
   "execution_count": 25,
   "id": "9a229a22",
   "metadata": {
    "_cell_guid": "79391634-4bbe-4eb6-8373-dcfc8d24df10",
    "_uuid": "db388ec6-a5bf-48ec-8ca5-9cc7e12dffa7",
    "collapsed": false,
    "execution": {
     "iopub.execute_input": "2022-07-06T09:27:01.508893Z",
     "iopub.status.busy": "2022-07-06T09:27:01.508225Z",
     "iopub.status.idle": "2022-07-06T09:27:01.519446Z",
     "shell.execute_reply": "2022-07-06T09:27:01.518549Z"
    },
    "executionInfo": {
     "elapsed": 956,
     "status": "ok",
     "timestamp": 1607147759755,
     "user": {
      "displayName": "Aakash N S",
      "photoUrl": "https://lh3.googleusercontent.com/a-/AOh14GiIWFHtan62vtW1gz2Bv2bxL3rppefcadxzEVxRKQ=s64",
      "userId": "03254185060287524023"
     },
     "user_tz": -330
    },
    "id": "BTUU8qRRpeT8",
    "jupyter": {
     "outputs_hidden": false
    },
    "papermill": {
     "duration": 0.045702,
     "end_time": "2022-07-06T09:27:01.521670",
     "exception": false,
     "start_time": "2022-07-06T09:27:01.475968",
     "status": "completed"
    },
    "tags": []
   },
   "outputs": [],
   "source": [
    "# Create a single layer to replace the two linear layers\n",
    "combined_layer = nn.Linear(input_size, output_size)\n",
    "\n",
    "combined_layer.weight.data = layer2.weight @ layer1.weight\n",
    "combined_layer.bias.data = layer1.bias @ layer2.weight.t() + layer2.bias"
   ]
  },
  {
   "cell_type": "code",
   "execution_count": 26,
   "id": "d543fb6a",
   "metadata": {
    "_cell_guid": "938dc92f-a058-4ecc-96e3-6e8b2dda1c20",
    "_uuid": "da3d97ac-f726-4429-909e-62ad6807728c",
    "collapsed": false,
    "execution": {
     "iopub.execute_input": "2022-07-06T09:27:01.584514Z",
     "iopub.status.busy": "2022-07-06T09:27:01.584126Z",
     "iopub.status.idle": "2022-07-06T09:27:01.590168Z",
     "shell.execute_reply": "2022-07-06T09:27:01.589081Z"
    },
    "jupyter": {
     "outputs_hidden": false
    },
    "papermill": {
     "duration": 0.040044,
     "end_time": "2022-07-06T09:27:01.592244",
     "exception": false,
     "start_time": "2022-07-06T09:27:01.552200",
     "status": "completed"
    },
    "tags": []
   },
   "outputs": [],
   "source": [
    "# Same as combined_layer(inputs)\n",
    "outputs3 = inputs @ combined_layer.weight.t() + combined_layer.bias"
   ]
  },
  {
   "cell_type": "code",
   "execution_count": 27,
   "id": "cc0c1ba5",
   "metadata": {
    "_cell_guid": "d8ff9b74-d403-41be-ac5d-ea3ae0265cc0",
    "_uuid": "a2bcbf08-1e78-4b55-bb4d-f1286c2e2c73",
    "collapsed": false,
    "execution": {
     "iopub.execute_input": "2022-07-06T09:27:01.654809Z",
     "iopub.status.busy": "2022-07-06T09:27:01.654212Z",
     "iopub.status.idle": "2022-07-06T09:27:01.661502Z",
     "shell.execute_reply": "2022-07-06T09:27:01.660417Z"
    },
    "executionInfo": {
     "elapsed": 1117,
     "status": "ok",
     "timestamp": 1607147770691,
     "user": {
      "displayName": "Aakash N S",
      "photoUrl": "https://lh3.googleusercontent.com/a-/AOh14GiIWFHtan62vtW1gz2Bv2bxL3rppefcadxzEVxRKQ=s64",
      "userId": "03254185060287524023"
     },
     "user_tz": -330
    },
    "id": "It7A4nzQpeT8",
    "jupyter": {
     "outputs_hidden": false
    },
    "outputId": "aeaae6d4-c4cb-4fcd-b303-606a4dbe4a96",
    "papermill": {
     "duration": 0.04048,
     "end_time": "2022-07-06T09:27:01.663588",
     "exception": false,
     "start_time": "2022-07-06T09:27:01.623108",
     "status": "completed"
    },
    "tags": []
   },
   "outputs": [
    {
     "data": {
      "text/plain": [
       "True"
      ]
     },
     "execution_count": 27,
     "metadata": {},
     "output_type": "execute_result"
    }
   ],
   "source": [
    "torch.allclose(outputs2, outputs3, 1e-3)"
   ]
  },
  {
   "cell_type": "markdown",
   "id": "ddeaa250",
   "metadata": {
    "_cell_guid": "4c98149c-ed54-444b-bfa5-84b094f0f1c1",
    "_uuid": "2b58356d-ec3c-484a-9363-7679972fd03e",
    "id": "l8dOeJyfpeT8",
    "papermill": {
     "duration": 0.030804,
     "end_time": "2022-07-06T09:27:01.724491",
     "exception": false,
     "start_time": "2022-07-06T09:27:01.693687",
     "status": "completed"
    },
    "tags": []
   },
   "source": [
    "## Model\n",
    "\n",
    "We are now ready to define our model. As discussed above, we'll create a neural network with one hidden layer. Here's what that means:\n",
    "\n",
    "* Instead of using a single `nn.Linear` object to transform a batch of inputs (pixel intensities) into outputs (class probabilities), we'll use two `nn.Linear` objects. Each of these is called a _layer_ in the network. \n",
    "\n",
    "* The first layer (also known as the hidden layer) will transform the input matrix of shape `batch_size x 784` into an intermediate output matrix of shape `batch_size x hidden_size`. The parameter `hidden_size` can be configured manually (e.g., 32 or 64).\n",
    "\n",
    "* We'll then apply a non-linear *activation function* to the intermediate outputs. The activation function transforms individual elements of the matrix.\n",
    "\n",
    "* The result of the activation function, which is also of size `batch_size x hidden_size`, is passed into the second layer (also known as the output layer).  The second layer transforms it into a matrix of size `batch_size x 10`. We can use this output to compute the loss and adjust weights using gradient descent.\n",
    "\n",
    "\n",
    "As discussed above, our model will contain one hidden layer. Here's what it looks like visually:\n",
    "\n",
    "<img src=\"https://i.imgur.com/eN7FrpF.png\" width=\"480\">\n",
    "\n",
    "\n",
    "Let's define the model by extending the `nn.Module` class from PyTorch."
   ]
  },
  {
   "cell_type": "code",
   "execution_count": 28,
   "id": "85e042a3",
   "metadata": {
    "_cell_guid": "69e88632-fe16-47e3-a656-c8dea44508af",
    "_uuid": "3d34e6f6-f63a-4530-a260-79a864d5a951",
    "collapsed": false,
    "execution": {
     "iopub.execute_input": "2022-07-06T09:27:01.787075Z",
     "iopub.status.busy": "2022-07-06T09:27:01.786727Z",
     "iopub.status.idle": "2022-07-06T09:27:01.799144Z",
     "shell.execute_reply": "2022-07-06T09:27:01.798282Z"
    },
    "executionInfo": {
     "elapsed": 921,
     "status": "ok",
     "timestamp": 1607148434259,
     "user": {
      "displayName": "Aakash N S",
      "photoUrl": "https://lh3.googleusercontent.com/a-/AOh14GiIWFHtan62vtW1gz2Bv2bxL3rppefcadxzEVxRKQ=s64",
      "userId": "03254185060287524023"
     },
     "user_tz": -330
    },
    "id": "_fKPW6tSpeT8",
    "jupyter": {
     "outputs_hidden": false
    },
    "papermill": {
     "duration": 0.045818,
     "end_time": "2022-07-06T09:27:01.801128",
     "exception": false,
     "start_time": "2022-07-06T09:27:01.755310",
     "status": "completed"
    },
    "tags": []
   },
   "outputs": [],
   "source": [
    "class MnistModel(nn.Module):\n",
    "    \"\"\"Feedfoward neural network with 1 hidden layer\"\"\"\n",
    "    def __init__(self, in_size, hidden_size, out_size):\n",
    "        super().__init__()\n",
    "        # hidden layer\n",
    "        self.linear1 = nn.Linear(in_size, hidden_size)\n",
    "        # output layer\n",
    "        self.linear2 = nn.Linear(hidden_size, out_size)\n",
    "        \n",
    "    def forward(self, xb):\n",
    "        # Flatten the image tensors\n",
    "        xb = xb.view(xb.size(0), -1)\n",
    "        # Get intermediate outputs using hidden layer\n",
    "        out = self.linear1(xb)\n",
    "        # Apply activation function\n",
    "        out = F.relu(out)\n",
    "        # Get predictions using output layer\n",
    "        out = self.linear2(out)\n",
    "        return out\n",
    "    \n",
    "    def training_step(self, batch):\n",
    "        images, labels = batch \n",
    "        out = self(images)                  # Generate predictions\n",
    "        loss = F.cross_entropy(out, labels) # Calculate loss\n",
    "        return loss\n",
    "    \n",
    "    def validation_step(self, batch):\n",
    "        images, labels = batch \n",
    "        out = self(images)                    # Generate predictions\n",
    "        loss = F.cross_entropy(out, labels)   # Calculate loss\n",
    "        acc = accuracy(out, labels)           # Calculate accuracy\n",
    "        return {'val_loss': loss, 'val_acc': acc}\n",
    "        \n",
    "    def validation_epoch_end(self, outputs):\n",
    "        batch_losses = [x['val_loss'] for x in outputs]\n",
    "        epoch_loss = torch.stack(batch_losses).mean()   # Combine losses\n",
    "        batch_accs = [x['val_acc'] for x in outputs]\n",
    "        epoch_acc = torch.stack(batch_accs).mean()      # Combine accuracies\n",
    "        return {'val_loss': epoch_loss.item(), 'val_acc': epoch_acc.item()}\n",
    "    \n",
    "    def epoch_end(self, epoch, result):\n",
    "        print(\"Epoch [{}], val_loss: {:.4f}, val_acc: {:.4f}\".format(epoch, result['val_loss'], result['val_acc']))"
   ]
  },
  {
   "cell_type": "markdown",
   "id": "5e99f9a3",
   "metadata": {
    "_cell_guid": "9c96a735-a54e-4044-9995-2462a5f859fb",
    "_uuid": "c79b739a-74b6-4939-8070-509785b8cdc7",
    "papermill": {
     "duration": 0.031168,
     "end_time": "2022-07-06T09:27:01.863662",
     "exception": false,
     "start_time": "2022-07-06T09:27:01.832494",
     "status": "completed"
    },
    "tags": []
   },
   "source": [
    "We also need to define an `accuracy` function which calculates the accuracy of the model's prediction on an batch of inputs. It's used in `validation_step` above."
   ]
  },
  {
   "cell_type": "code",
   "execution_count": 29,
   "id": "db84fddb",
   "metadata": {
    "_cell_guid": "c8825a9e-d11b-4e82-ad46-ea2a72575e0a",
    "_uuid": "1274aa43-01d0-40ef-ac6c-6cbe22499833",
    "collapsed": false,
    "execution": {
     "iopub.execute_input": "2022-07-06T09:27:01.928055Z",
     "iopub.status.busy": "2022-07-06T09:27:01.927702Z",
     "iopub.status.idle": "2022-07-06T09:27:01.933564Z",
     "shell.execute_reply": "2022-07-06T09:27:01.932377Z"
    },
    "executionInfo": {
     "elapsed": 1077,
     "status": "ok",
     "timestamp": 1607149498146,
     "user": {
      "displayName": "Aakash N S",
      "photoUrl": "https://lh3.googleusercontent.com/a-/AOh14GiIWFHtan62vtW1gz2Bv2bxL3rppefcadxzEVxRKQ=s64",
      "userId": "03254185060287524023"
     },
     "user_tz": -330
    },
    "id": "ooA0PwVipeT8",
    "jupyter": {
     "outputs_hidden": false
    },
    "papermill": {
     "duration": 0.039929,
     "end_time": "2022-07-06T09:27:01.935640",
     "exception": false,
     "start_time": "2022-07-06T09:27:01.895711",
     "status": "completed"
    },
    "tags": []
   },
   "outputs": [],
   "source": [
    "def accuracy(outputs, labels):\n",
    "    _, preds = torch.max(outputs, dim=1)\n",
    "    return torch.tensor(torch.sum(preds == labels).item() / len(preds))"
   ]
  },
  {
   "cell_type": "markdown",
   "id": "69f90511",
   "metadata": {
    "_cell_guid": "b894d485-2c56-4c05-9164-77f3e3507acb",
    "_uuid": "0f8df35e-0089-4cb5-bd29-0d003bf54635",
    "id": "4sSd532VpeT8",
    "papermill": {
     "duration": 0.030992,
     "end_time": "2022-07-06T09:27:01.996923",
     "exception": false,
     "start_time": "2022-07-06T09:27:01.965931",
     "status": "completed"
    },
    "tags": []
   },
   "source": [
    "We'll create a model that contains a hidden layer with 32 activations."
   ]
  },
  {
   "cell_type": "code",
   "execution_count": 30,
   "id": "8f036ce4",
   "metadata": {
    "_cell_guid": "860405d7-6add-4565-8781-ecadd41f082a",
    "_uuid": "36b20bb4-e35b-4efc-9d7d-88b8d8debb9b",
    "collapsed": false,
    "execution": {
     "iopub.execute_input": "2022-07-06T09:27:02.059492Z",
     "iopub.status.busy": "2022-07-06T09:27:02.059115Z",
     "iopub.status.idle": "2022-07-06T09:27:02.063697Z",
     "shell.execute_reply": "2022-07-06T09:27:02.062777Z"
    },
    "executionInfo": {
     "elapsed": 904,
     "status": "ok",
     "timestamp": 1607148434678,
     "user": {
      "displayName": "Aakash N S",
      "photoUrl": "https://lh3.googleusercontent.com/a-/AOh14GiIWFHtan62vtW1gz2Bv2bxL3rppefcadxzEVxRKQ=s64",
      "userId": "03254185060287524023"
     },
     "user_tz": -330
    },
    "id": "beSRnIQTpeT8",
    "jupyter": {
     "outputs_hidden": false
    },
    "papermill": {
     "duration": 0.038163,
     "end_time": "2022-07-06T09:27:02.065619",
     "exception": false,
     "start_time": "2022-07-06T09:27:02.027456",
     "status": "completed"
    },
    "tags": []
   },
   "outputs": [],
   "source": [
    "input_size = 784\n",
    "hidden_size = 32 # you can change this\n",
    "num_classes = 10"
   ]
  },
  {
   "cell_type": "code",
   "execution_count": 31,
   "id": "7e843715",
   "metadata": {
    "_cell_guid": "0924524a-8abf-4d6f-980f-4f725480349a",
    "_uuid": "2cc6fcc5-5214-4ada-a47a-941194674e79",
    "collapsed": false,
    "execution": {
     "iopub.execute_input": "2022-07-06T09:27:02.129306Z",
     "iopub.status.busy": "2022-07-06T09:27:02.128954Z",
     "iopub.status.idle": "2022-07-06T09:27:02.134191Z",
     "shell.execute_reply": "2022-07-06T09:27:02.133275Z"
    },
    "executionInfo": {
     "elapsed": 963,
     "status": "ok",
     "timestamp": 1607148435178,
     "user": {
      "displayName": "Aakash N S",
      "photoUrl": "https://lh3.googleusercontent.com/a-/AOh14GiIWFHtan62vtW1gz2Bv2bxL3rppefcadxzEVxRKQ=s64",
      "userId": "03254185060287524023"
     },
     "user_tz": -330
    },
    "id": "IvSp6BFppeT8",
    "jupyter": {
     "outputs_hidden": false
    },
    "papermill": {
     "duration": 0.039312,
     "end_time": "2022-07-06T09:27:02.136189",
     "exception": false,
     "start_time": "2022-07-06T09:27:02.096877",
     "status": "completed"
    },
    "tags": []
   },
   "outputs": [],
   "source": [
    "model = MnistModel(input_size, hidden_size=32, out_size=num_classes)"
   ]
  },
  {
   "cell_type": "markdown",
   "id": "768ade8d",
   "metadata": {
    "_cell_guid": "a71a8f34-91d9-40f6-bb33-fb1fbda05dda",
    "_uuid": "0bed65b2-bfee-481c-a9a1-043a54957179",
    "id": "EtWfv0N9peT8",
    "papermill": {
     "duration": 0.029765,
     "end_time": "2022-07-06T09:27:02.196333",
     "exception": false,
     "start_time": "2022-07-06T09:27:02.166568",
     "status": "completed"
    },
    "tags": []
   },
   "source": [
    "Let's take a look at the model's parameters. We expect to see one weight and bias matrix for each of the layers."
   ]
  },
  {
   "cell_type": "code",
   "execution_count": 32,
   "id": "26c36e89",
   "metadata": {
    "_cell_guid": "9ea6a54d-85bc-4979-9337-9a49c9e9ea82",
    "_uuid": "f4eafd7d-df6c-4f18-8c2c-793605c233ca",
    "collapsed": false,
    "execution": {
     "iopub.execute_input": "2022-07-06T09:27:02.258170Z",
     "iopub.status.busy": "2022-07-06T09:27:02.257822Z",
     "iopub.status.idle": "2022-07-06T09:27:02.263109Z",
     "shell.execute_reply": "2022-07-06T09:27:02.262075Z"
    },
    "executionInfo": {
     "elapsed": 1083,
     "status": "ok",
     "timestamp": 1607148444827,
     "user": {
      "displayName": "Aakash N S",
      "photoUrl": "https://lh3.googleusercontent.com/a-/AOh14GiIWFHtan62vtW1gz2Bv2bxL3rppefcadxzEVxRKQ=s64",
      "userId": "03254185060287524023"
     },
     "user_tz": -330
    },
    "id": "psecOJfZpeT8",
    "jupyter": {
     "outputs_hidden": false
    },
    "outputId": "8a7acfca-577f-47d7-d4b2-ee337318c711",
    "papermill": {
     "duration": 0.04014,
     "end_time": "2022-07-06T09:27:02.266921",
     "exception": false,
     "start_time": "2022-07-06T09:27:02.226781",
     "status": "completed"
    },
    "tags": []
   },
   "outputs": [
    {
     "name": "stdout",
     "output_type": "stream",
     "text": [
      "torch.Size([32, 784])\n",
      "torch.Size([32])\n",
      "torch.Size([10, 32])\n",
      "torch.Size([10])\n"
     ]
    }
   ],
   "source": [
    "for t in model.parameters():\n",
    "    print(t.shape)"
   ]
  },
  {
   "cell_type": "markdown",
   "id": "d675c344",
   "metadata": {
    "_cell_guid": "c9380df8-6570-44df-af3a-4f15097e8651",
    "_uuid": "f16ce068-2be5-4665-ad62-3afa99c56ed2",
    "id": "zeFGsljIpeT8",
    "papermill": {
     "duration": 0.030573,
     "end_time": "2022-07-06T09:27:02.327585",
     "exception": false,
     "start_time": "2022-07-06T09:27:02.297012",
     "status": "completed"
    },
    "tags": []
   },
   "source": [
    "Let's try and generate some outputs using our model. We'll take the first batch of 128 images from our dataset and pass them into our model."
   ]
  },
  {
   "cell_type": "code",
   "execution_count": 33,
   "id": "cc8ab9a9",
   "metadata": {
    "_cell_guid": "47c6ce4f-090c-4ee2-993a-de4f2b349110",
    "_uuid": "e017bb5f-9482-4c1c-9019-de8160abbde1",
    "collapsed": false,
    "execution": {
     "iopub.execute_input": "2022-07-06T09:27:02.396291Z",
     "iopub.status.busy": "2022-07-06T09:27:02.395751Z",
     "iopub.status.idle": "2022-07-06T09:27:02.650497Z",
     "shell.execute_reply": "2022-07-06T09:27:02.648389Z"
    },
    "executionInfo": {
     "elapsed": 915,
     "status": "ok",
     "timestamp": 1607148531317,
     "user": {
      "displayName": "Aakash N S",
      "photoUrl": "https://lh3.googleusercontent.com/a-/AOh14GiIWFHtan62vtW1gz2Bv2bxL3rppefcadxzEVxRKQ=s64",
      "userId": "03254185060287524023"
     },
     "user_tz": -330
    },
    "id": "jajA6VFYpeT8",
    "jupyter": {
     "outputs_hidden": false
    },
    "outputId": "0d9e12b4-c08f-4e8a-fc6f-43288e0efd65",
    "papermill": {
     "duration": 0.296083,
     "end_time": "2022-07-06T09:27:02.653563",
     "exception": false,
     "start_time": "2022-07-06T09:27:02.357480",
     "status": "completed"
    },
    "tags": []
   },
   "outputs": [
    {
     "name": "stdout",
     "output_type": "stream",
     "text": [
      "Loss: 2.300787925720215\n",
      "outputs.shape :  torch.Size([128, 10])\n",
      "Sample outputs :\n",
      " tensor([[ 0.0522,  0.0835, -0.2832,  0.1752, -0.0537,  0.0715, -0.2449, -0.0417,\n",
      "         -0.0548, -0.0600],\n",
      "        [-0.0315,  0.0991, -0.1933,  0.2158, -0.0536,  0.0130, -0.1786,  0.0848,\n",
      "         -0.0272,  0.0405]])\n"
     ]
    }
   ],
   "source": [
    "for images, labels in train_loader:\n",
    "    outputs = model(images)\n",
    "    loss = F.cross_entropy(outputs, labels)\n",
    "    print('Loss:', loss.item())\n",
    "    break\n",
    "\n",
    "print('outputs.shape : ', outputs.shape)\n",
    "print('Sample outputs :\\n', outputs[:2].data)"
   ]
  },
  {
   "cell_type": "markdown",
   "id": "d7411d94",
   "metadata": {
    "_cell_guid": "bd477647-e65b-46f4-bf75-360e9b3725e1",
    "_uuid": "59cffaab-d636-4234-bb6d-046cdb1de974",
    "id": "vmw6iiTXpeT8",
    "papermill": {
     "duration": 0.030963,
     "end_time": "2022-07-06T09:27:02.715618",
     "exception": false,
     "start_time": "2022-07-06T09:27:02.684655",
     "status": "completed"
    },
    "tags": []
   },
   "source": [
    "## Using a GPU\n",
    "\n",
    "As the sizes of our models and datasets increase, we need to use GPUs to train our models within a reasonable amount of time. GPUs contain hundreds of cores optimized for performing expensive matrix operations on floating-point numbers quickly, making them ideal for training deep neural networks. You can use GPUs for free on [Google Colab](https://colab.research.google.com/) and [Kaggle](https://www.kaggle.com/kernels) or rent GPU-powered machines on services like [Google Cloud Platform](https://cloud.google.com/gpu/), [Amazon Web Services](https://docs.aws.amazon.com/dlami/latest/devguide/gpu.html), and [Paperspace](https://www.paperspace.com/).\n",
    "\n",
    "We can check if a GPU is available and the required NVIDIA CUDA drivers are installed using `torch.cuda.is_available`."
   ]
  },
  {
   "cell_type": "code",
   "execution_count": 34,
   "id": "07b45f69",
   "metadata": {
    "_cell_guid": "1f16672e-e0e6-4b3c-a874-ba5c5f4b31ea",
    "_uuid": "e7ab6e83-4427-43bb-919b-edf515e2e68f",
    "collapsed": false,
    "execution": {
     "iopub.execute_input": "2022-07-06T09:27:02.778397Z",
     "iopub.status.busy": "2022-07-06T09:27:02.778018Z",
     "iopub.status.idle": "2022-07-06T09:27:02.784661Z",
     "shell.execute_reply": "2022-07-06T09:27:02.783774Z"
    },
    "executionInfo": {
     "elapsed": 900,
     "status": "ok",
     "timestamp": 1607148692518,
     "user": {
      "displayName": "Aakash N S",
      "photoUrl": "https://lh3.googleusercontent.com/a-/AOh14GiIWFHtan62vtW1gz2Bv2bxL3rppefcadxzEVxRKQ=s64",
      "userId": "03254185060287524023"
     },
     "user_tz": -330
    },
    "id": "gt2Ve_cFpeT8",
    "jupyter": {
     "outputs_hidden": false
    },
    "outputId": "c3d39897-9546-49a5-9bd7-440227c01db2",
    "papermill": {
     "duration": 0.040425,
     "end_time": "2022-07-06T09:27:02.786491",
     "exception": false,
     "start_time": "2022-07-06T09:27:02.746066",
     "status": "completed"
    },
    "tags": []
   },
   "outputs": [
    {
     "data": {
      "text/plain": [
       "True"
      ]
     },
     "execution_count": 34,
     "metadata": {},
     "output_type": "execute_result"
    }
   ],
   "source": [
    "torch.cuda.is_available()"
   ]
  },
  {
   "cell_type": "markdown",
   "id": "1aa208e0",
   "metadata": {
    "_cell_guid": "7ade3732-35cd-494b-b1d9-3818ef833c43",
    "_uuid": "af984856-93b0-45e9-8a55-7f27f633fa6d",
    "id": "S2ffHXrnpeT8",
    "papermill": {
     "duration": 0.03063,
     "end_time": "2022-07-06T09:27:02.847145",
     "exception": false,
     "start_time": "2022-07-06T09:27:02.816515",
     "status": "completed"
    },
    "tags": []
   },
   "source": [
    "Let's define a helper function to ensure that our code uses the GPU if available and defaults to using the CPU if it isn't."
   ]
  },
  {
   "cell_type": "code",
   "execution_count": 35,
   "id": "64b7c34b",
   "metadata": {
    "_cell_guid": "f12271e3-4b9a-4b37-bfc7-337dcf044967",
    "_uuid": "80a4e3c6-4b1d-41f0-9689-608296b08895",
    "collapsed": false,
    "execution": {
     "iopub.execute_input": "2022-07-06T09:27:02.911330Z",
     "iopub.status.busy": "2022-07-06T09:27:02.910971Z",
     "iopub.status.idle": "2022-07-06T09:27:02.916544Z",
     "shell.execute_reply": "2022-07-06T09:27:02.915418Z"
    },
    "executionInfo": {
     "elapsed": 863,
     "status": "ok",
     "timestamp": 1607148792514,
     "user": {
      "displayName": "Aakash N S",
      "photoUrl": "https://lh3.googleusercontent.com/a-/AOh14GiIWFHtan62vtW1gz2Bv2bxL3rppefcadxzEVxRKQ=s64",
      "userId": "03254185060287524023"
     },
     "user_tz": -330
    },
    "id": "oY8kxA4tpeT8",
    "jupyter": {
     "outputs_hidden": false
    },
    "papermill": {
     "duration": 0.040519,
     "end_time": "2022-07-06T09:27:02.918528",
     "exception": false,
     "start_time": "2022-07-06T09:27:02.878009",
     "status": "completed"
    },
    "tags": []
   },
   "outputs": [],
   "source": [
    "def get_default_device():\n",
    "    \"\"\"Pick GPU if available, else CPU\"\"\"\n",
    "    if torch.cuda.is_available():\n",
    "        return torch.device('cuda')\n",
    "    else:\n",
    "        return torch.device('cpu')"
   ]
  },
  {
   "cell_type": "code",
   "execution_count": 36,
   "id": "14a6cfb4",
   "metadata": {
    "_cell_guid": "9469489a-98e9-44e7-800d-fdd8bd4d6802",
    "_uuid": "6733db3a-1772-4923-8b57-d9aef25d2af6",
    "collapsed": false,
    "execution": {
     "iopub.execute_input": "2022-07-06T09:27:02.983835Z",
     "iopub.status.busy": "2022-07-06T09:27:02.983020Z",
     "iopub.status.idle": "2022-07-06T09:27:02.989381Z",
     "shell.execute_reply": "2022-07-06T09:27:02.988471Z"
    },
    "executionInfo": {
     "elapsed": 1144,
     "status": "ok",
     "timestamp": 1607148794236,
     "user": {
      "displayName": "Aakash N S",
      "photoUrl": "https://lh3.googleusercontent.com/a-/AOh14GiIWFHtan62vtW1gz2Bv2bxL3rppefcadxzEVxRKQ=s64",
      "userId": "03254185060287524023"
     },
     "user_tz": -330
    },
    "id": "rgxTDAjtpeT8",
    "jupyter": {
     "outputs_hidden": false
    },
    "outputId": "98dcf48e-0730-4acd-c1fc-1a86f3051aa8",
    "papermill": {
     "duration": 0.040653,
     "end_time": "2022-07-06T09:27:02.991285",
     "exception": false,
     "start_time": "2022-07-06T09:27:02.950632",
     "status": "completed"
    },
    "tags": []
   },
   "outputs": [
    {
     "data": {
      "text/plain": [
       "device(type='cuda')"
      ]
     },
     "execution_count": 36,
     "metadata": {},
     "output_type": "execute_result"
    }
   ],
   "source": [
    "device = get_default_device()\n",
    "device"
   ]
  },
  {
   "cell_type": "markdown",
   "id": "81a5fefc",
   "metadata": {
    "_cell_guid": "0668ac25-fd66-4862-b5cf-8a4075e06952",
    "_uuid": "c5c97320-e223-493b-8eee-757eb5f7d966",
    "id": "U58VabR4peT8",
    "papermill": {
     "duration": 0.031163,
     "end_time": "2022-07-06T09:27:03.053558",
     "exception": false,
     "start_time": "2022-07-06T09:27:03.022395",
     "status": "completed"
    },
    "tags": []
   },
   "source": [
    "Next, let's define a function that can move data and model to a chosen device."
   ]
  },
  {
   "cell_type": "code",
   "execution_count": 37,
   "id": "0cdd5120",
   "metadata": {
    "_cell_guid": "790b782b-3446-4e04-a2b7-56171c27d17f",
    "_uuid": "326fb490-4fca-44e6-a5e3-2485299c7829",
    "collapsed": false,
    "execution": {
     "iopub.execute_input": "2022-07-06T09:27:03.117123Z",
     "iopub.status.busy": "2022-07-06T09:27:03.116763Z",
     "iopub.status.idle": "2022-07-06T09:27:03.122317Z",
     "shell.execute_reply": "2022-07-06T09:27:03.121301Z"
    },
    "executionInfo": {
     "elapsed": 860,
     "status": "ok",
     "timestamp": 1607148855160,
     "user": {
      "displayName": "Aakash N S",
      "photoUrl": "https://lh3.googleusercontent.com/a-/AOh14GiIWFHtan62vtW1gz2Bv2bxL3rppefcadxzEVxRKQ=s64",
      "userId": "03254185060287524023"
     },
     "user_tz": -330
    },
    "id": "qe39OMPmpeT8",
    "jupyter": {
     "outputs_hidden": false
    },
    "papermill": {
     "duration": 0.040529,
     "end_time": "2022-07-06T09:27:03.124702",
     "exception": false,
     "start_time": "2022-07-06T09:27:03.084173",
     "status": "completed"
    },
    "tags": []
   },
   "outputs": [],
   "source": [
    "def to_device(data, device):\n",
    "    \"\"\"Move tensor(s) to chosen device\"\"\"\n",
    "    if isinstance(data, (list,tuple)):\n",
    "        return [to_device(x, device) for x in data]\n",
    "    return data.to(device, non_blocking=True)"
   ]
  },
  {
   "cell_type": "code",
   "execution_count": 38,
   "id": "6330a3a4",
   "metadata": {
    "_cell_guid": "5a87932d-303e-4ea5-8b51-f11ee4abcb99",
    "_uuid": "aca39385-9ab5-4fa0-acbb-3e59f3070a2e",
    "collapsed": false,
    "execution": {
     "iopub.execute_input": "2022-07-06T09:27:03.187957Z",
     "iopub.status.busy": "2022-07-06T09:27:03.187361Z",
     "iopub.status.idle": "2022-07-06T09:27:03.496934Z",
     "shell.execute_reply": "2022-07-06T09:27:03.494144Z"
    },
    "executionInfo": {
     "elapsed": 873,
     "status": "ok",
     "timestamp": 1607148885595,
     "user": {
      "displayName": "Aakash N S",
      "photoUrl": "https://lh3.googleusercontent.com/a-/AOh14GiIWFHtan62vtW1gz2Bv2bxL3rppefcadxzEVxRKQ=s64",
      "userId": "03254185060287524023"
     },
     "user_tz": -330
    },
    "id": "bdouJFtwpeT8",
    "jupyter": {
     "outputs_hidden": false
    },
    "outputId": "8610ddd3-9b4a-4a6c-8aec-324b4c4a29bd",
    "papermill": {
     "duration": 0.346589,
     "end_time": "2022-07-06T09:27:03.502370",
     "exception": false,
     "start_time": "2022-07-06T09:27:03.155781",
     "status": "completed"
    },
    "tags": []
   },
   "outputs": [
    {
     "name": "stdout",
     "output_type": "stream",
     "text": [
      "torch.Size([128, 1, 28, 28])\n",
      "cuda:0\n"
     ]
    }
   ],
   "source": [
    "for images, labels in train_loader:\n",
    "    print(images.shape)\n",
    "    images = to_device(images, device)\n",
    "    print(images.device)\n",
    "    break"
   ]
  },
  {
   "cell_type": "markdown",
   "id": "bdf15626",
   "metadata": {
    "_cell_guid": "8833add4-cc99-4d98-9c28-42643686b5ea",
    "_uuid": "f3cf6ba8-1f9b-4a2b-932e-58d8c21249ab",
    "id": "WiKbIzujpeT9",
    "papermill": {
     "duration": 0.050317,
     "end_time": "2022-07-06T09:27:03.604706",
     "exception": false,
     "start_time": "2022-07-06T09:27:03.554389",
     "status": "completed"
    },
    "tags": []
   },
   "source": [
    "Finally, we define a `DeviceDataLoader` class to wrap our existing data loaders and move batches of data to the selected device. Interestingly, we don't need to extend an existing class to create a PyTorch datal oader. All we need is an `__iter__` method to retrieve batches of data and an `__len__` method to get the number of batches."
   ]
  },
  {
   "cell_type": "code",
   "execution_count": 39,
   "id": "bb8651f9",
   "metadata": {
    "_cell_guid": "a1663bf3-86c8-492d-a0eb-d370cca28c1f",
    "_uuid": "6964b6bf-259b-44f3-b802-4dcbcdc06b90",
    "collapsed": false,
    "execution": {
     "iopub.execute_input": "2022-07-06T09:27:03.708564Z",
     "iopub.status.busy": "2022-07-06T09:27:03.708090Z",
     "iopub.status.idle": "2022-07-06T09:27:03.717156Z",
     "shell.execute_reply": "2022-07-06T09:27:03.715651Z"
    },
    "executionInfo": {
     "elapsed": 934,
     "status": "ok",
     "timestamp": 1607149162055,
     "user": {
      "displayName": "Aakash N S",
      "photoUrl": "https://lh3.googleusercontent.com/a-/AOh14GiIWFHtan62vtW1gz2Bv2bxL3rppefcadxzEVxRKQ=s64",
      "userId": "03254185060287524023"
     },
     "user_tz": -330
    },
    "id": "Mncx5AEcpeT9",
    "jupyter": {
     "outputs_hidden": false
    },
    "papermill": {
     "duration": 0.063116,
     "end_time": "2022-07-06T09:27:03.719581",
     "exception": false,
     "start_time": "2022-07-06T09:27:03.656465",
     "status": "completed"
    },
    "tags": []
   },
   "outputs": [],
   "source": [
    "class DeviceDataLoader():\n",
    "    \"\"\"Wrap a dataloader to move data to a device\"\"\"\n",
    "    def __init__(self, dl, device):\n",
    "        self.dl = dl\n",
    "        self.device = device\n",
    "        \n",
    "    def __iter__(self):\n",
    "        \"\"\"Yield a batch of data after moving it to device\"\"\"\n",
    "        for b in self.dl: \n",
    "            yield to_device(b, self.device)\n",
    "\n",
    "    def __len__(self):\n",
    "        \"\"\"Number of batches\"\"\"\n",
    "        return len(self.dl)"
   ]
  },
  {
   "cell_type": "markdown",
   "id": "e7bf8a6a",
   "metadata": {
    "_cell_guid": "9a3a7214-696e-4db2-b8df-d5ee240e757b",
    "_uuid": "619e71d7-f1cc-4908-9ae7-14e01bb3951f",
    "id": "RxwvU5eP4r76",
    "papermill": {
     "duration": 0.050695,
     "end_time": "2022-07-06T09:27:03.821363",
     "exception": false,
     "start_time": "2022-07-06T09:27:03.770668",
     "status": "completed"
    },
    "tags": []
   },
   "source": [
    "The `yield` keyword in Python is used to create a generator function that can be used within a `for` loop, as illustrated below."
   ]
  },
  {
   "cell_type": "code",
   "execution_count": 40,
   "id": "fe29bb24",
   "metadata": {
    "_cell_guid": "26b458a6-97f3-4b69-95db-3f93a03853e7",
    "_uuid": "7e2ad3b3-72a5-4902-9139-b24e5e989203",
    "collapsed": false,
    "execution": {
     "iopub.execute_input": "2022-07-06T09:27:03.925546Z",
     "iopub.status.busy": "2022-07-06T09:27:03.925023Z",
     "iopub.status.idle": "2022-07-06T09:27:03.933055Z",
     "shell.execute_reply": "2022-07-06T09:27:03.932002Z"
    },
    "executionInfo": {
     "elapsed": 944,
     "status": "ok",
     "timestamp": 1607149162459,
     "user": {
      "displayName": "Aakash N S",
      "photoUrl": "https://lh3.googleusercontent.com/a-/AOh14GiIWFHtan62vtW1gz2Bv2bxL3rppefcadxzEVxRKQ=s64",
      "userId": "03254185060287524023"
     },
     "user_tz": -330
    },
    "id": "7IeHPpx74slh",
    "jupyter": {
     "outputs_hidden": false
    },
    "outputId": "d218f6b2-b6d9-4cb7-c948-f2673d15a88c",
    "papermill": {
     "duration": 0.063589,
     "end_time": "2022-07-06T09:27:03.935579",
     "exception": false,
     "start_time": "2022-07-06T09:27:03.871990",
     "status": "completed"
    },
    "tags": []
   },
   "outputs": [
    {
     "name": "stdout",
     "output_type": "stream",
     "text": [
      "10\n",
      "20\n",
      "30\n"
     ]
    }
   ],
   "source": [
    "def some_numbers():\n",
    "    yield 10\n",
    "    yield 20\n",
    "    yield 30\n",
    "\n",
    "for value in some_numbers():\n",
    "    print(value)"
   ]
  },
  {
   "cell_type": "markdown",
   "id": "7917ae11",
   "metadata": {
    "_cell_guid": "82fbd697-5605-48f0-a14c-4b7e9c0b2e11",
    "_uuid": "4c1094a7-1f57-4d15-8983-0675127e81c7",
    "id": "9AM28h0ipeT9",
    "papermill": {
     "duration": 0.036049,
     "end_time": "2022-07-06T09:27:04.024163",
     "exception": false,
     "start_time": "2022-07-06T09:27:03.988114",
     "status": "completed"
    },
    "tags": []
   },
   "source": [
    "We can now wrap our data loaders using `DeviceDataLoader`."
   ]
  },
  {
   "cell_type": "code",
   "execution_count": 41,
   "id": "0c528008",
   "metadata": {
    "_cell_guid": "1323fefd-ab48-4d83-9103-827060ccf656",
    "_uuid": "7d832905-48f7-4036-a56e-8b0299a2bad5",
    "collapsed": false,
    "execution": {
     "iopub.execute_input": "2022-07-06T09:27:04.089426Z",
     "iopub.status.busy": "2022-07-06T09:27:04.089050Z",
     "iopub.status.idle": "2022-07-06T09:27:04.093645Z",
     "shell.execute_reply": "2022-07-06T09:27:04.092700Z"
    },
    "executionInfo": {
     "elapsed": 932,
     "status": "ok",
     "timestamp": 1607149162933,
     "user": {
      "displayName": "Aakash N S",
      "photoUrl": "https://lh3.googleusercontent.com/a-/AOh14GiIWFHtan62vtW1gz2Bv2bxL3rppefcadxzEVxRKQ=s64",
      "userId": "03254185060287524023"
     },
     "user_tz": -330
    },
    "id": "fwZdTIxgpeT9",
    "jupyter": {
     "outputs_hidden": false
    },
    "papermill": {
     "duration": 0.041641,
     "end_time": "2022-07-06T09:27:04.097653",
     "exception": false,
     "start_time": "2022-07-06T09:27:04.056012",
     "status": "completed"
    },
    "tags": []
   },
   "outputs": [],
   "source": [
    "train_loader = DeviceDataLoader(train_loader, device)\n",
    "val_loader = DeviceDataLoader(val_loader, device)"
   ]
  },
  {
   "cell_type": "markdown",
   "id": "d7fc2eb9",
   "metadata": {
    "_cell_guid": "d9a31d7c-9822-462c-b2f1-e3355a9a8d82",
    "_uuid": "d62453f0-5814-4af7-a018-c39550fd099b",
    "id": "Go0zbQTypeT9",
    "papermill": {
     "duration": 0.031916,
     "end_time": "2022-07-06T09:27:04.170899",
     "exception": false,
     "start_time": "2022-07-06T09:27:04.138983",
     "status": "completed"
    },
    "tags": []
   },
   "source": [
    "Tensors moved to the GPU have a `device` property which includes that word `cuda`. Let's verify this by looking at a batch of data from `valid_dl`."
   ]
  },
  {
   "cell_type": "code",
   "execution_count": 42,
   "id": "6c7bc139",
   "metadata": {
    "_cell_guid": "19b05663-0e49-4ebd-9063-60bf1ff2498a",
    "_uuid": "6c06844b-9b82-4c84-87c8-e260d017f49b",
    "collapsed": false,
    "execution": {
     "iopub.execute_input": "2022-07-06T09:27:04.233956Z",
     "iopub.status.busy": "2022-07-06T09:27:04.233602Z",
     "iopub.status.idle": "2022-07-06T09:27:04.497921Z",
     "shell.execute_reply": "2022-07-06T09:27:04.495634Z"
    },
    "executionInfo": {
     "elapsed": 876,
     "status": "ok",
     "timestamp": 1607149182829,
     "user": {
      "displayName": "Aakash N S",
      "photoUrl": "https://lh3.googleusercontent.com/a-/AOh14GiIWFHtan62vtW1gz2Bv2bxL3rppefcadxzEVxRKQ=s64",
      "userId": "03254185060287524023"
     },
     "user_tz": -330
    },
    "id": "ZdOfMdmxpeT9",
    "jupyter": {
     "outputs_hidden": false
    },
    "outputId": "b12356a8-8d95-4236-fe33-ea75a3a491d4",
    "papermill": {
     "duration": 0.299446,
     "end_time": "2022-07-06T09:27:04.500992",
     "exception": false,
     "start_time": "2022-07-06T09:27:04.201546",
     "status": "completed"
    },
    "tags": []
   },
   "outputs": [
    {
     "name": "stdout",
     "output_type": "stream",
     "text": [
      "xb.device: cuda:0\n",
      "yb: tensor([3, 3, 6, 2, 9, 5, 3, 1, 2, 6, 6, 0, 7, 1, 8, 6, 0, 2, 8, 7, 9, 0, 4, 6,\n",
      "        9, 1, 1, 6, 1, 2, 2, 3, 6, 7, 0, 4, 7, 1, 2, 6, 7, 1, 1, 1, 1, 9, 4, 7,\n",
      "        4, 8, 3, 7, 3, 4, 7, 7, 8, 8, 0, 0, 0, 8, 3, 2, 9, 5, 1, 1, 3, 9, 7, 1,\n",
      "        7, 2, 8, 4, 1, 8, 2, 1, 7, 0, 8, 5, 1, 8, 8, 1, 6, 6, 0, 6, 4, 7, 2, 1,\n",
      "        0, 0, 9, 3, 6, 8, 0, 6, 5, 2, 3, 3, 2, 7, 5, 0, 2, 3, 3, 3, 2, 8, 6, 1,\n",
      "        4, 0, 7, 7, 2, 2, 8, 6, 7, 4, 6, 3, 7, 8, 4, 1, 6, 6, 2, 3, 3, 0, 9, 9,\n",
      "        0, 2, 5, 3, 6, 1, 8, 9, 5, 3, 1, 3, 2, 0, 9, 9, 1, 8, 1, 4, 9, 7, 5, 7,\n",
      "        6, 6, 3, 6, 8, 3, 0, 3, 7, 8, 9, 0, 7, 2, 0, 6, 8, 3, 7, 7, 0, 3, 9, 4,\n",
      "        1, 9, 6, 2, 8, 4, 9, 0, 2, 2, 1, 2, 3, 9, 7, 6, 1, 0, 4, 0, 0, 4, 6, 1,\n",
      "        4, 0, 2, 1, 1, 1, 9, 7, 9, 0, 2, 0, 7, 0, 8, 0, 0, 5, 3, 0, 1, 9, 5, 3,\n",
      "        2, 0, 1, 1, 1, 9, 3, 4, 0, 8, 0, 5, 0, 3, 7, 2], device='cuda:0')\n"
     ]
    }
   ],
   "source": [
    "for xb, yb in val_loader:\n",
    "    print('xb.device:', xb.device)\n",
    "    print('yb:', yb)\n",
    "    break"
   ]
  },
  {
   "cell_type": "markdown",
   "id": "54ed92c9",
   "metadata": {
    "_cell_guid": "0b8f544e-c851-4283-bf9a-4c86a47bf238",
    "_uuid": "39235d4d-4363-4095-b4f7-0d78279bead7",
    "id": "sfPhGrIRpeT9",
    "papermill": {
     "duration": 0.094912,
     "end_time": "2022-07-06T09:27:04.628917",
     "exception": false,
     "start_time": "2022-07-06T09:27:04.534005",
     "status": "completed"
    },
    "tags": []
   },
   "source": [
    "## Training the Model\n",
    "\n",
    "We'll define two functions: `fit` and `evaluate` to train the model using gradient descent and evaluate its performance on the validation set. For a detailed walkthrough of these functions, check out the [previous tutorial](https://jovian.ai/aakashns/03-logistic-regression)."
   ]
  },
  {
   "cell_type": "code",
   "execution_count": 43,
   "id": "7ec7fcb1",
   "metadata": {
    "_cell_guid": "64090e0a-e155-4249-b319-c5ae134d0684",
    "_uuid": "6d741027-f533-4aec-9c6a-ba6b79e248be",
    "collapsed": false,
    "execution": {
     "iopub.execute_input": "2022-07-06T09:27:04.695400Z",
     "iopub.status.busy": "2022-07-06T09:27:04.694645Z",
     "iopub.status.idle": "2022-07-06T09:27:04.702568Z",
     "shell.execute_reply": "2022-07-06T09:27:04.701637Z"
    },
    "executionInfo": {
     "elapsed": 962,
     "status": "ok",
     "timestamp": 1607149368036,
     "user": {
      "displayName": "Aakash N S",
      "photoUrl": "https://lh3.googleusercontent.com/a-/AOh14GiIWFHtan62vtW1gz2Bv2bxL3rppefcadxzEVxRKQ=s64",
      "userId": "03254185060287524023"
     },
     "user_tz": -330
    },
    "id": "JRw6Zf0wpeT9",
    "jupyter": {
     "outputs_hidden": false
    },
    "papermill": {
     "duration": 0.043277,
     "end_time": "2022-07-06T09:27:04.704463",
     "exception": false,
     "start_time": "2022-07-06T09:27:04.661186",
     "status": "completed"
    },
    "tags": []
   },
   "outputs": [],
   "source": [
    "def evaluate(model, val_loader):\n",
    "    \"\"\"Evaluate the model's performance on the validation set\"\"\"\n",
    "    outputs = [model.validation_step(batch) for batch in val_loader]\n",
    "    return model.validation_epoch_end(outputs)\n",
    "\n",
    "def fit(epochs, lr, model, train_loader, val_loader, opt_func=torch.optim.SGD):\n",
    "    \"\"\"Train the model using gradient descent\"\"\"\n",
    "    history = []\n",
    "    optimizer = opt_func(model.parameters(), lr)\n",
    "    for epoch in range(epochs):\n",
    "        # Training Phase \n",
    "        for batch in train_loader:\n",
    "            loss = model.training_step(batch)\n",
    "            loss.backward()\n",
    "            optimizer.step()\n",
    "            optimizer.zero_grad()\n",
    "        # Validation phase\n",
    "        result = evaluate(model, val_loader)\n",
    "        model.epoch_end(epoch, result)\n",
    "        history.append(result)\n",
    "    return history"
   ]
  },
  {
   "cell_type": "markdown",
   "id": "c911964d",
   "metadata": {
    "_cell_guid": "a79b5f5c-d592-4cd3-b74e-c389417add0c",
    "_uuid": "cf46ddc4-03f0-4226-8622-46bbb3cd7936",
    "id": "JuWv6GKZpeT9",
    "papermill": {
     "duration": 0.031759,
     "end_time": "2022-07-06T09:27:04.767421",
     "exception": false,
     "start_time": "2022-07-06T09:27:04.735662",
     "status": "completed"
    },
    "tags": []
   },
   "source": [
    "Before we train the model, we need to ensure that the data and the model's parameters (weights and biases) are on the same device (CPU or GPU). We can reuse the `to_device` function to move the model's parameters to the right device."
   ]
  },
  {
   "cell_type": "code",
   "execution_count": 44,
   "id": "e2eef825",
   "metadata": {
    "_cell_guid": "a5e33a4b-a6e3-4d1d-b6cf-644961f67cf2",
    "_uuid": "6c248467-063e-403f-ab05-3877909111a0",
    "collapsed": false,
    "execution": {
     "iopub.execute_input": "2022-07-06T09:27:04.831764Z",
     "iopub.status.busy": "2022-07-06T09:27:04.831378Z",
     "iopub.status.idle": "2022-07-06T09:27:04.840753Z",
     "shell.execute_reply": "2022-07-06T09:27:04.839746Z"
    },
    "executionInfo": {
     "elapsed": 870,
     "status": "ok",
     "timestamp": 1607149431204,
     "user": {
      "displayName": "Aakash N S",
      "photoUrl": "https://lh3.googleusercontent.com/a-/AOh14GiIWFHtan62vtW1gz2Bv2bxL3rppefcadxzEVxRKQ=s64",
      "userId": "03254185060287524023"
     },
     "user_tz": -330
    },
    "id": "u1CyEQsJpeT9",
    "jupyter": {
     "outputs_hidden": false
    },
    "outputId": "94eb4f15-4349-4344-e8fb-13affa7c9928",
    "papermill": {
     "duration": 0.04339,
     "end_time": "2022-07-06T09:27:04.842711",
     "exception": false,
     "start_time": "2022-07-06T09:27:04.799321",
     "status": "completed"
    },
    "tags": []
   },
   "outputs": [
    {
     "data": {
      "text/plain": [
       "MnistModel(\n",
       "  (linear1): Linear(in_features=784, out_features=32, bias=True)\n",
       "  (linear2): Linear(in_features=32, out_features=10, bias=True)\n",
       ")"
      ]
     },
     "execution_count": 44,
     "metadata": {},
     "output_type": "execute_result"
    }
   ],
   "source": [
    "# Model (on GPU)\n",
    "model = MnistModel(input_size, hidden_size=hidden_size, out_size=num_classes)\n",
    "to_device(model, device)"
   ]
  },
  {
   "cell_type": "markdown",
   "id": "6973a726",
   "metadata": {
    "_cell_guid": "580df130-a1b9-49e8-87f2-e3764f590157",
    "_uuid": "3a096069-537c-4854-91e5-5d269db5cb22",
    "id": "9N_aE2GRpeT9",
    "papermill": {
     "duration": 0.031771,
     "end_time": "2022-07-06T09:27:04.905517",
     "exception": false,
     "start_time": "2022-07-06T09:27:04.873746",
     "status": "completed"
    },
    "tags": []
   },
   "source": [
    "Let's see how the model performs on the validation set with the initial set of weights and biases."
   ]
  },
  {
   "cell_type": "code",
   "execution_count": 45,
   "id": "fe446eb4",
   "metadata": {
    "_cell_guid": "03ed702a-5955-463d-aad1-7061336b0e3b",
    "_uuid": "c7e43058-8916-4dbc-9e15-e7d3960002f9",
    "collapsed": false,
    "execution": {
     "iopub.execute_input": "2022-07-06T09:27:04.969141Z",
     "iopub.status.busy": "2022-07-06T09:27:04.968783Z",
     "iopub.status.idle": "2022-07-06T09:27:06.830592Z",
     "shell.execute_reply": "2022-07-06T09:27:06.829380Z"
    },
    "executionInfo": {
     "elapsed": 1814,
     "status": "ok",
     "timestamp": 1607149506311,
     "user": {
      "displayName": "Aakash N S",
      "photoUrl": "https://lh3.googleusercontent.com/a-/AOh14GiIWFHtan62vtW1gz2Bv2bxL3rppefcadxzEVxRKQ=s64",
      "userId": "03254185060287524023"
     },
     "user_tz": -330
    },
    "id": "bF_wEBAIpeT9",
    "jupyter": {
     "outputs_hidden": false
    },
    "outputId": "c8f587c1-1402-49f3-bb52-7acd705bacfb",
    "papermill": {
     "duration": 1.896298,
     "end_time": "2022-07-06T09:27:06.833017",
     "exception": false,
     "start_time": "2022-07-06T09:27:04.936719",
     "status": "completed"
    },
    "tags": []
   },
   "outputs": [
    {
     "data": {
      "text/plain": [
       "[{'val_loss': 2.3182790279388428, 'val_acc': 0.07587890326976776}]"
      ]
     },
     "execution_count": 45,
     "metadata": {},
     "output_type": "execute_result"
    }
   ],
   "source": [
    "history = [evaluate(model, val_loader)]\n",
    "history"
   ]
  },
  {
   "cell_type": "markdown",
   "id": "51efb05d",
   "metadata": {
    "_cell_guid": "dd8a9ea6-e9d3-4123-bd36-9a0f56b0ec7c",
    "_uuid": "4ce1adbe-c525-464f-b131-cd88e2e987a9",
    "id": "BU0tYFcPpeT9",
    "papermill": {
     "duration": 0.030781,
     "end_time": "2022-07-06T09:27:06.895860",
     "exception": false,
     "start_time": "2022-07-06T09:27:06.865079",
     "status": "completed"
    },
    "tags": []
   },
   "source": [
    "The initial accuracy is around 10%, as one might expect from a randomly initialized model (since it has a 1 in 10 chance of getting a label right by guessing randomly).\n",
    "\n",
    "Let's train the model for five epochs and look at the results. We can use a relatively high learning rate of 0.5."
   ]
  },
  {
   "cell_type": "code",
   "execution_count": 46,
   "id": "33d6a295",
   "metadata": {
    "_cell_guid": "b8f0249d-1a10-443a-8495-27cc1d5bbbf5",
    "_uuid": "99e7fad6-f674-45f4-9cfc-1694080e4427",
    "collapsed": false,
    "execution": {
     "iopub.execute_input": "2022-07-06T09:27:06.960240Z",
     "iopub.status.busy": "2022-07-06T09:27:06.959872Z",
     "iopub.status.idle": "2022-07-06T09:27:40.239211Z",
     "shell.execute_reply": "2022-07-06T09:27:40.237726Z"
    },
    "executionInfo": {
     "elapsed": 26155,
     "status": "ok",
     "timestamp": 1607149617381,
     "user": {
      "displayName": "Aakash N S",
      "photoUrl": "https://lh3.googleusercontent.com/a-/AOh14GiIWFHtan62vtW1gz2Bv2bxL3rppefcadxzEVxRKQ=s64",
      "userId": "03254185060287524023"
     },
     "user_tz": -330
    },
    "id": "DE5_oVckpeT9",
    "jupyter": {
     "outputs_hidden": false
    },
    "outputId": "691a56b6-e47f-4470-9f28-353e8bd56dd8",
    "papermill": {
     "duration": 33.346342,
     "end_time": "2022-07-06T09:27:40.273617",
     "exception": false,
     "start_time": "2022-07-06T09:27:06.927275",
     "status": "completed"
    },
    "tags": []
   },
   "outputs": [
    {
     "name": "stdout",
     "output_type": "stream",
     "text": [
      "Epoch [0], val_loss: 0.2555, val_acc: 0.9246\n",
      "Epoch [1], val_loss: 0.1982, val_acc: 0.9409\n",
      "Epoch [2], val_loss: 0.1622, val_acc: 0.9511\n",
      "Epoch [3], val_loss: 0.1403, val_acc: 0.9587\n",
      "Epoch [4], val_loss: 0.1384, val_acc: 0.9590\n"
     ]
    }
   ],
   "source": [
    "history += fit(5, 0.5, model, train_loader, val_loader)"
   ]
  },
  {
   "cell_type": "code",
   "execution_count": 47,
   "id": "640178f9",
   "metadata": {
    "_cell_guid": "8a54b291-7232-4e04-ac98-77caa134eeed",
    "_uuid": "27a15d0c-6154-4130-97a5-ddd8cb9ae89c",
    "collapsed": false,
    "execution": {
     "iopub.execute_input": "2022-07-06T09:27:40.340327Z",
     "iopub.status.busy": "2022-07-06T09:27:40.339954Z",
     "iopub.status.idle": "2022-07-06T09:28:13.974219Z",
     "shell.execute_reply": "2022-07-06T09:28:13.973041Z"
    },
    "executionInfo": {
     "elapsed": 27406,
     "status": "ok",
     "timestamp": 1607149682088,
     "user": {
      "displayName": "Aakash N S",
      "photoUrl": "https://lh3.googleusercontent.com/a-/AOh14GiIWFHtan62vtW1gz2Bv2bxL3rppefcadxzEVxRKQ=s64",
      "userId": "03254185060287524023"
     },
     "user_tz": -330
    },
    "id": "AjA2dtlrpeT9",
    "jupyter": {
     "outputs_hidden": false
    },
    "outputId": "680388ae-55f0-4629-8c29-89aebfa4357c",
    "papermill": {
     "duration": 33.702523,
     "end_time": "2022-07-06T09:28:14.008125",
     "exception": false,
     "start_time": "2022-07-06T09:27:40.305602",
     "status": "completed"
    },
    "tags": []
   },
   "outputs": [
    {
     "name": "stdout",
     "output_type": "stream",
     "text": [
      "Epoch [0], val_loss: 0.1139, val_acc: 0.9678\n",
      "Epoch [1], val_loss: 0.1108, val_acc: 0.9690\n",
      "Epoch [2], val_loss: 0.1090, val_acc: 0.9685\n",
      "Epoch [3], val_loss: 0.1099, val_acc: 0.9704\n",
      "Epoch [4], val_loss: 0.1080, val_acc: 0.9691\n"
     ]
    }
   ],
   "source": [
    "history += fit(5, 0.1, model, train_loader, val_loader)"
   ]
  },
  {
   "cell_type": "markdown",
   "id": "23ef7c66",
   "metadata": {
    "_cell_guid": "7c0ce2b1-4c7e-4535-8684-4a883ef9cd11",
    "_uuid": "089df0c3-8f99-4736-b03e-782e553613e4",
    "id": "W7LAqJCMpeT9",
    "papermill": {
     "duration": 0.032184,
     "end_time": "2022-07-06T09:28:14.072623",
     "exception": false,
     "start_time": "2022-07-06T09:28:14.040439",
     "status": "completed"
    },
    "tags": []
   },
   "source": [
    "We can now plot the losses & accuracies to study how the model improves over time."
   ]
  },
  {
   "cell_type": "code",
   "execution_count": 48,
   "id": "c9a78f1f",
   "metadata": {
    "_cell_guid": "c0ecd460-bcb8-49b0-9523-aa6cf36f1bb6",
    "_uuid": "6dc8c30e-4df4-4a2a-9d2d-496d84d1de3f",
    "collapsed": false,
    "execution": {
     "iopub.execute_input": "2022-07-06T09:28:14.139539Z",
     "iopub.status.busy": "2022-07-06T09:28:14.139121Z",
     "iopub.status.idle": "2022-07-06T09:28:14.308379Z",
     "shell.execute_reply": "2022-07-06T09:28:14.307469Z"
    },
    "executionInfo": {
     "elapsed": 1059,
     "status": "ok",
     "timestamp": 1607149690281,
     "user": {
      "displayName": "Aakash N S",
      "photoUrl": "https://lh3.googleusercontent.com/a-/AOh14GiIWFHtan62vtW1gz2Bv2bxL3rppefcadxzEVxRKQ=s64",
      "userId": "03254185060287524023"
     },
     "user_tz": -330
    },
    "id": "I3g-DRifpeT9",
    "jupyter": {
     "outputs_hidden": false
    },
    "outputId": "133e6548-c6d9-4dc1-f2d4-78ce94d619d9",
    "papermill": {
     "duration": 0.205392,
     "end_time": "2022-07-06T09:28:14.310538",
     "exception": false,
     "start_time": "2022-07-06T09:28:14.105146",
     "status": "completed"
    },
    "tags": []
   },
   "outputs": [
    {
     "data": {
      "image/png": "[encoded data removed]",
      "text/plain": [
       "<Figure size 432x288 with 1 Axes>"
      ]
     },
     "metadata": {},
     "output_type": "display_data"
    }
   ],
   "source": [
    "losses = [x['val_loss'] for x in history]\n",
    "plt.plot(losses, '-x')\n",
    "plt.xlabel('epoch')\n",
    "plt.ylabel('loss')\n",
    "plt.title('Loss vs. No. of epochs');"
   ]
  },
  {
   "cell_type": "code",
   "execution_count": 49,
   "id": "80a27328",
   "metadata": {
    "_cell_guid": "a513d890-593c-4a65-96a8-38c6eb4c0e37",
    "_uuid": "82477cbe-11a6-40e1-8a2f-3b3cca2cfdf7",
    "collapsed": false,
    "execution": {
     "iopub.execute_input": "2022-07-06T09:28:14.378376Z",
     "iopub.status.busy": "2022-07-06T09:28:14.378005Z",
     "iopub.status.idle": "2022-07-06T09:28:14.543180Z",
     "shell.execute_reply": "2022-07-06T09:28:14.542274Z"
    },
    "executionInfo": {
     "elapsed": 967,
     "status": "ok",
     "timestamp": 1607149698222,
     "user": {
      "displayName": "Aakash N S",
      "photoUrl": "https://lh3.googleusercontent.com/a-/AOh14GiIWFHtan62vtW1gz2Bv2bxL3rppefcadxzEVxRKQ=s64",
      "userId": "03254185060287524023"
     },
     "user_tz": -330
    },
    "id": "28kJvNmFpeT9",
    "jupyter": {
     "outputs_hidden": false
    },
    "outputId": "8d7336ba-6c62-4d09-e5d1-a7f66679d4b6",
    "papermill": {
     "duration": 0.201524,
     "end_time": "2022-07-06T09:28:14.545261",
     "exception": false,
     "start_time": "2022-07-06T09:28:14.343737",
     "status": "completed"
    },
    "scrolled": true,
    "tags": []
   },
   "outputs": [
    {
     "data": {
      "image/png": "[encoded data removed]",
      "text/plain": [
       "<Figure size 432x288 with 1 Axes>"
      ]
     },
     "metadata": {},
     "output_type": "display_data"
    }
   ],
   "source": [
    "accuracies = [x['val_acc'] for x in history]\n",
    "plt.plot(accuracies, '-x')\n",
    "plt.xlabel('epoch')\n",
    "plt.ylabel('accuracy')\n",
    "plt.title('Accuracy vs. No. of epochs');"
   ]
  },
  {
   "cell_type": "markdown",
   "id": "6d724869",
   "metadata": {
    "_cell_guid": "48e3298a-5031-4181-a1d8-f32c270424ff",
    "_uuid": "2857f6b8-6eb0-4900-ac05-7a66cf5fb5ed",
    "id": "zBmLGRuLpeT9",
    "papermill": {
     "duration": 0.033266,
     "end_time": "2022-07-06T09:28:14.611503",
     "exception": false,
     "start_time": "2022-07-06T09:28:14.578237",
     "status": "completed"
    },
    "tags": []
   },
   "source": [
    "Our current model outperforms the logistic regression model (which could only achieve around 86% accuracy) by a considerable margin! It quickly reaches an accuracy of 97% but doesn't improve much beyond this. To improve accuracy further, we need to make the model more powerful by increasing the hidden layer's size or adding more hidden layers with activations. I encourage you to try out both these approaches and see which one works better."
   ]
  },
  {
   "cell_type": "markdown",
   "id": "59be3f66",
   "metadata": {
    "_cell_guid": "d96dc1ef-8fd7-4972-9cc9-1840e3768fa8",
    "_uuid": "f256ac6d-3471-4f3d-b557-ce0d17619a6d",
    "id": "Lf_6nWkCBGB5",
    "papermill": {
     "duration": 0.03291,
     "end_time": "2022-07-06T09:28:14.678708",
     "exception": false,
     "start_time": "2022-07-06T09:28:14.645798",
     "status": "completed"
    },
    "tags": []
   },
   "source": [
    "## Testing with individual images\n",
    "\n",
    "While we have been tracking the overall accuracy of a model so far, it's also a good idea to look at model's results on some sample images. Let's test out our model with some images from the predefined test dataset of 10000 images. We begin by recreating the test dataset with the `ToTensor` transform."
   ]
  },
  {
   "cell_type": "code",
   "execution_count": 50,
   "id": "08a860b8",
   "metadata": {
    "_cell_guid": "3bb81cd1-41a1-43eb-817a-3b43a322e357",
    "_uuid": "2c2b82bb-1d18-44ea-906b-cc6252f0012f",
    "collapsed": false,
    "execution": {
     "iopub.execute_input": "2022-07-06T09:28:14.745948Z",
     "iopub.status.busy": "2022-07-06T09:28:14.745229Z",
     "iopub.status.idle": "2022-07-06T09:28:14.761116Z",
     "shell.execute_reply": "2022-07-06T09:28:14.760022Z"
    },
    "id": "ZJ6E4f-iBBTm",
    "jupyter": {
     "outputs_hidden": false
    },
    "papermill": {
     "duration": 0.052726,
     "end_time": "2022-07-06T09:28:14.763451",
     "exception": false,
     "start_time": "2022-07-06T09:28:14.710725",
     "status": "completed"
    },
    "tags": []
   },
   "outputs": [],
   "source": [
    "# Define test dataset\n",
    "test_dataset = MNIST(root='data/', \n",
    "                     train=False,\n",
    "                     transform=ToTensor())"
   ]
  },
  {
   "cell_type": "markdown",
   "id": "21e61c9e",
   "metadata": {
    "_cell_guid": "6d64caaa-aad2-437a-924e-aad097628724",
    "_uuid": "12eba8c6-6247-4917-82c7-5a0fdc17ff96",
    "id": "uGKvjeJXBTiN",
    "papermill": {
     "duration": 0.032798,
     "end_time": "2022-07-06T09:28:14.829325",
     "exception": false,
     "start_time": "2022-07-06T09:28:14.796527",
     "status": "completed"
    },
    "tags": []
   },
   "source": [
    "Let's define a helper function `predict_image`, which returns the predicted label for a single image tensor."
   ]
  },
  {
   "cell_type": "code",
   "execution_count": 51,
   "id": "51f506b2",
   "metadata": {
    "_cell_guid": "c3b0b3a3-a4ae-4ca2-91ab-205da4c9b914",
    "_uuid": "a6025131-a09c-45b3-bb1d-643f87ccc862",
    "collapsed": false,
    "execution": {
     "iopub.execute_input": "2022-07-06T09:28:14.898497Z",
     "iopub.status.busy": "2022-07-06T09:28:14.896803Z",
     "iopub.status.idle": "2022-07-06T09:28:14.903478Z",
     "shell.execute_reply": "2022-07-06T09:28:14.902394Z"
    },
    "id": "ZhxrAx6LBTNG",
    "jupyter": {
     "outputs_hidden": false
    },
    "papermill": {
     "duration": 0.042988,
     "end_time": "2022-07-06T09:28:14.905596",
     "exception": false,
     "start_time": "2022-07-06T09:28:14.862608",
     "status": "completed"
    },
    "tags": []
   },
   "outputs": [],
   "source": [
    "def predict_image(img, model):\n",
    "    xb = to_device(img.unsqueeze(0), device)\n",
    "    yb = model(xb)\n",
    "    _, preds  = torch.max(yb, dim=1)\n",
    "    return preds[0].item()"
   ]
  },
  {
   "cell_type": "markdown",
   "id": "ce104c46",
   "metadata": {
    "_cell_guid": "d588dfa7-4d68-4b79-b50d-690977c26e9f",
    "_uuid": "848a22f9-3fce-48f0-96c7-f2a49d0decff",
    "id": "N4kUaLBqBZLd",
    "papermill": {
     "duration": 0.033136,
     "end_time": "2022-07-06T09:28:14.970784",
     "exception": false,
     "start_time": "2022-07-06T09:28:14.937648",
     "status": "completed"
    },
    "tags": []
   },
   "source": [
    "Let's try it out with a few images."
   ]
  },
  {
   "cell_type": "code",
   "execution_count": 52,
   "id": "6f154162",
   "metadata": {
    "_cell_guid": "93962da0-4a63-4e73-9dfa-9b88b71d6eee",
    "_uuid": "cbcda7e8-a47f-4e76-876a-76be6997f8d6",
    "collapsed": false,
    "execution": {
     "iopub.execute_input": "2022-07-06T09:28:15.042259Z",
     "iopub.status.busy": "2022-07-06T09:28:15.041874Z",
     "iopub.status.idle": "2022-07-06T09:28:15.209184Z",
     "shell.execute_reply": "2022-07-06T09:28:15.208167Z"
    },
    "id": "JsNnl42DBXog",
    "jupyter": {
     "outputs_hidden": false
    },
    "papermill": {
     "duration": 0.208214,
     "end_time": "2022-07-06T09:28:15.211286",
     "exception": false,
     "start_time": "2022-07-06T09:28:15.003072",
     "status": "completed"
    },
    "tags": []
   },
   "outputs": [
    {
     "name": "stdout",
     "output_type": "stream",
     "text": [
      "Label: 7 , Predicted: 7\n"
     ]
    },
    {
     "data": {
      "image/png": "[encoded data removed]",
      "text/plain": [
       "<Figure size 432x288 with 1 Axes>"
      ]
     },
     "metadata": {},
     "output_type": "display_data"
    }
   ],
   "source": [
    "img, label = test_dataset[0]\n",
    "plt.imshow(img[0], cmap='gray')\n",
    "print('Label:', label, ', Predicted:', predict_image(img, model))"
   ]
  },
  {
   "cell_type": "code",
   "execution_count": 53,
   "id": "78b5e82d",
   "metadata": {
    "_cell_guid": "c2ea769e-62c3-4856-acae-6d39ecb97b16",
    "_uuid": "cb0a99de-38aa-4f33-9831-cbbff408a829",
    "collapsed": false,
    "execution": {
     "iopub.execute_input": "2022-07-06T09:28:15.281096Z",
     "iopub.status.busy": "2022-07-06T09:28:15.280748Z",
     "iopub.status.idle": "2022-07-06T09:28:15.446609Z",
     "shell.execute_reply": "2022-07-06T09:28:15.445516Z"
    },
    "id": "lu0lN0xnBiD6",
    "jupyter": {
     "outputs_hidden": false
    },
    "papermill": {
     "duration": 0.20277,
     "end_time": "2022-07-06T09:28:15.448780",
     "exception": false,
     "start_time": "2022-07-06T09:28:15.246010",
     "status": "completed"
    },
    "tags": []
   },
   "outputs": [
    {
     "name": "stdout",
     "output_type": "stream",
     "text": [
      "Label: 2 , Predicted: 2\n"
     ]
    },
    {
     "data": {
      "image/png": "[encoded data removed]",
      "text/plain": [
       "<Figure size 432x288 with 1 Axes>"
      ]
     },
     "metadata": {},
     "output_type": "display_data"
    }
   ],
   "source": [
    "img, label = test_dataset[1839]\n",
    "plt.imshow(img[0], cmap='gray')\n",
    "print('Label:', label, ', Predicted:', predict_image(img, model))"
   ]
  },
  {
   "cell_type": "code",
   "execution_count": 54,
   "id": "4b55f012",
   "metadata": {
    "_cell_guid": "d418e55a-3919-43c1-95c5-6ed3a1fa0dfa",
    "_uuid": "eb81db6a-dce9-4339-aec5-ecece8bc0862",
    "collapsed": false,
    "execution": {
     "iopub.execute_input": "2022-07-06T09:28:15.517724Z",
     "iopub.status.busy": "2022-07-06T09:28:15.517321Z",
     "iopub.status.idle": "2022-07-06T09:28:15.676796Z",
     "shell.execute_reply": "2022-07-06T09:28:15.675758Z"
    },
    "id": "ZpzxiYHjBliK",
    "jupyter": {
     "outputs_hidden": false
    },
    "papermill": {
     "duration": 0.196471,
     "end_time": "2022-07-06T09:28:15.679289",
     "exception": false,
     "start_time": "2022-07-06T09:28:15.482818",
     "status": "completed"
    },
    "tags": []
   },
   "outputs": [
    {
     "name": "stdout",
     "output_type": "stream",
     "text": [
      "Label: 9 , Predicted: 9\n"
     ]
    },
    {
     "data": {
      "image/png": "[encoded data removed]",
      "text/plain": [
       "<Figure size 432x288 with 1 Axes>"
      ]
     },
     "metadata": {},
     "output_type": "display_data"
    }
   ],
   "source": [
    "img, label = test_dataset[193]\n",
    "plt.imshow(img[0], cmap='gray')\n",
    "print('Label:', label, ', Predicted:', predict_image(img, model))"
   ]
  },
  {
   "cell_type": "markdown",
   "id": "0c79f0d9",
   "metadata": {
    "_cell_guid": "2ae01e5e-9eee-4da9-aa9c-7448fab0b891",
    "_uuid": "b44c85e9-7633-433f-8aaa-a2f2c8ba2e6b",
    "id": "RqG62k05BqpC",
    "papermill": {
     "duration": 0.032589,
     "end_time": "2022-07-06T09:28:15.745069",
     "exception": false,
     "start_time": "2022-07-06T09:28:15.712480",
     "status": "completed"
    },
    "tags": []
   },
   "source": [
    "Identifying where our model performs poorly can help us improve the model, by collecting more training data, increasing/decreasing the complexity of the model, and changing the hypeparameters.\n",
    "\n",
    "As a final step, let's also look at the overall loss and accuracy of the model on the test set."
   ]
  },
  {
   "cell_type": "code",
   "execution_count": 55,
   "id": "4069751f",
   "metadata": {
    "_cell_guid": "714a2121-aeeb-4404-a975-808483cdf001",
    "_uuid": "ca9a510a-e7f4-4c1c-b4d3-93b38f83cf9e",
    "collapsed": false,
    "execution": {
     "iopub.execute_input": "2022-07-06T09:28:15.815526Z",
     "iopub.status.busy": "2022-07-06T09:28:15.814619Z",
     "iopub.status.idle": "2022-07-06T09:28:16.664284Z",
     "shell.execute_reply": "2022-07-06T09:28:16.663360Z"
    },
    "id": "rvNoyn0RBtBm",
    "jupyter": {
     "outputs_hidden": false
    },
    "papermill": {
     "duration": 0.887723,
     "end_time": "2022-07-06T09:28:16.666307",
     "exception": false,
     "start_time": "2022-07-06T09:28:15.778584",
     "status": "completed"
    },
    "tags": []
   },
   "outputs": [
    {
     "data": {
      "text/plain": [
       "{'val_loss': 0.10069532692432404, 'val_acc': 0.9691406488418579}"
      ]
     },
     "execution_count": 55,
     "metadata": {},
     "output_type": "execute_result"
    }
   ],
   "source": [
    "test_loader = DeviceDataLoader(DataLoader(test_dataset, batch_size=256), device)\n",
    "result = evaluate(model, test_loader)\n",
    "result"
   ]
  },
  {
   "cell_type": "markdown",
   "id": "e0d08fa2",
   "metadata": {
    "_cell_guid": "4608497c-3f35-41eb-abc6-6e2a8f6e2cc6",
    "_uuid": "c650fb40-21a3-4910-918c-47d0b3c5b4b5",
    "id": "CZz2M4WPBzlT",
    "papermill": {
     "duration": 0.033884,
     "end_time": "2022-07-06T09:28:16.734054",
     "exception": false,
     "start_time": "2022-07-06T09:28:16.700170",
     "status": "completed"
    },
    "tags": []
   },
   "source": [
    "We expect this to be similar to the accuracy/loss on the validation set. If not, we might need a better validation set that has similar data and distribution as the test set (which often comes from real world data)."
   ]
  },
  {
   "cell_type": "markdown",
   "id": "6674281e",
   "metadata": {
    "_cell_guid": "8525f609-2164-4f19-b25f-544ab3a221c0",
    "_uuid": "45cde8e1-7fe4-4984-904c-9282287f8ba3",
    "id": "Q-syIZYUB1Ls",
    "papermill": {
     "duration": 0.03333,
     "end_time": "2022-07-06T09:28:16.801267",
     "exception": false,
     "start_time": "2022-07-06T09:28:16.767937",
     "status": "completed"
    },
    "tags": []
   },
   "source": [
    "Let's save the model's weights and attach it to the notebook using `jovian.commit`. We will also record the model's performance on the test dataset using `jovian.log_metrics`."
   ]
  },
  {
   "cell_type": "code",
   "execution_count": 56,
   "id": "92337a1a",
   "metadata": {
    "_cell_guid": "f0002775-6f59-4de4-ad0e-cfdfc3c07ce5",
    "_uuid": "b8044331-4594-41fd-ba45-9a5ecfe0510b",
    "collapsed": false,
    "execution": {
     "iopub.execute_input": "2022-07-06T09:28:16.870728Z",
     "iopub.status.busy": "2022-07-06T09:28:16.870375Z",
     "iopub.status.idle": "2022-07-06T09:28:16.879104Z",
     "shell.execute_reply": "2022-07-06T09:28:16.878249Z"
    },
    "id": "BT6v860WByIJ",
    "jupyter": {
     "outputs_hidden": false
    },
    "papermill": {
     "duration": 0.046173,
     "end_time": "2022-07-06T09:28:16.881322",
     "exception": false,
     "start_time": "2022-07-06T09:28:16.835149",
     "status": "completed"
    },
    "tags": []
   },
   "outputs": [],
   "source": [
    "torch.save(model.state_dict(), 'mnist-feedforward.pth')"
   ]
  },
  {
   "cell_type": "code",
   "execution_count": null,
   "id": "45041433",
   "metadata": {
    "_cell_guid": "16d0630c-fd93-4e68-b005-4043baff9364",
    "_uuid": "a3291bdb-5396-4da6-a90e-fe6be12841b9",
    "collapsed": false,
    "jupyter": {
     "outputs_hidden": false
    },
    "papermill": {
     "duration": 0.033402,
     "end_time": "2022-07-06T09:28:16.948487",
     "exception": false,
     "start_time": "2022-07-06T09:28:16.915085",
     "status": "completed"
    },
    "tags": []
   },
   "outputs": [],
   "source": []
  }
 ],
 "metadata": {
  "kernelspec": {
   "display_name": "Python 3",
   "language": "python",
   "name": "python3"
  },
  "language_info": {
   "codemirror_mode": {
    "name": "ipython",
    "version": 3
   },
   "file_extension": ".py",
   "mimetype": "text/x-python",
   "name": "python",
   "nbconvert_exporter": "python",
   "pygments_lexer": "ipython3",
   "version": "3.7.12"
  },
  "papermill": {
   "default_parameters": {},
   "duration": 96.811407,
   "end_time": "2022-07-06T09:28:18.205968",
   "environment_variables": {},
   "exception": null,
   "input_path": "__notebook__.ipynb",
   "output_path": "__notebook__.ipynb",
   "parameters": {},
   "start_time": "2022-07-06T09:26:41.394561",
   "version": "2.3.4"
  },
  "widgets": {
   "application/vnd.jupyter.widget-state+json": {
    "state": {
     "0234fa05e3364b399e96a8ce86eae806": {
      "model_module": "@jupyter-widgets/base",
      "model_module_version": "1.2.0",
      "model_name": "LayoutModel",
      "state": {
       "_model_module": "@jupyter-widgets/base",
       "_model_module_version": "1.2.0",
       "_model_name": "LayoutModel",
       "_view_count": null,
       "_view_module": "@jupyter-widgets/base",
       "_view_module_version": "1.2.0",
       "_view_name": "LayoutView",
       "align_content": null,
       "align_items": null,
       "align_self": null,
       "border": null,
       "bottom": null,
       "display": null,
       "flex": null,
       "flex_flow": null,
       "grid_area": null,
       "grid_auto_columns": null,
       "grid_auto_flow": null,
       "grid_auto_rows": null,
       "grid_column": null,
       "grid_gap": null,
       "grid_row": null,
       "grid_template_areas": null,
       "grid_template_columns": null,
       "grid_template_rows": null,
       "height": null,
       "justify_content": null,
       "justify_items": null,
       "left": null,
       "margin": null,
       "max_height": null,
       "max_width": null,
       "min_height": null,
       "min_width": null,
       "object_fit": null,
       "object_position": null,
       "order": null,
       "overflow": null,
       "overflow_x": null,
       "overflow_y": null,
       "padding": null,
       "right": null,
       "top": null,
       "visibility": null,
       "width": null
      }
     },
     "1288001c045546f18b9fc33d4703a2fe": {
      "model_module": "@jupyter-widgets/controls",
      "model_module_version": "1.5.0",
      "model_name": "ProgressStyleModel",
      "state": {
       "_model_module": "@jupyter-widgets/controls",
       "_model_module_version": "1.5.0",
       "_model_name": "ProgressStyleModel",
       "_view_count": null,
       "_view_module": "@jupyter-widgets/base",
       "_view_module_version": "1.2.0",
       "_view_name": "StyleView",
       "bar_color": null,
       "description_width": ""
      }
     },
     "14571c883c8543dcb10bfe6d20fdc4ca": {
      "model_module": "@jupyter-widgets/base",
      "model_module_version": "1.2.0",
      "model_name": "LayoutModel",
      "state": {
       "_model_module": "@jupyter-widgets/base",
       "_model_module_version": "1.2.0",
       "_model_name": "LayoutModel",
       "_view_count": null,
       "_view_module": "@jupyter-widgets/base",
       "_view_module_version": "1.2.0",
       "_view_name": "LayoutView",
       "align_content": null,
       "align_items": null,
       "align_self": null,
       "border": null,
       "bottom": null,
       "display": null,
       "flex": null,
       "flex_flow": null,
       "grid_area": null,
       "grid_auto_columns": null,
       "grid_auto_flow": null,
       "grid_auto_rows": null,
       "grid_column": null,
       "grid_gap": null,
       "grid_row": null,
       "grid_template_areas": null,
       "grid_template_columns": null,
       "grid_template_rows": null,
       "height": null,
       "justify_content": null,
       "justify_items": null,
       "left": null,
       "margin": null,
       "max_height": null,
       "max_width": null,
       "min_height": null,
       "min_width": null,
       "object_fit": null,
       "object_position": null,
       "order": null,
       "overflow": null,
       "overflow_x": null,
       "overflow_y": null,
       "padding": null,
       "right": null,
       "top": null,
       "visibility": null,
       "width": null
      }
     },
     "1b35c1c012db451faee193886b08b231": {
      "model_module": "@jupyter-widgets/controls",
      "model_module_version": "1.5.0",
      "model_name": "DescriptionStyleModel",
      "state": {
       "_model_module": "@jupyter-widgets/controls",
       "_model_module_version": "1.5.0",
       "_model_name": "DescriptionStyleModel",
       "_view_count": null,
       "_view_module": "@jupyter-widgets/base",
       "_view_module_version": "1.2.0",
       "_view_name": "StyleView",
       "description_width": ""
      }
     },
     "1be51383b01f4f2e932aa1721d1449b2": {
      "model_module": "@jupyter-widgets/controls",
      "model_module_version": "1.5.0",
      "model_name": "FloatProgressModel",
      "state": {
       "_dom_classes": [],
       "_model_module": "@jupyter-widgets/controls",
       "_model_module_version": "1.5.0",
       "_model_name": "FloatProgressModel",
       "_view_count": null,
       "_view_module": "@jupyter-widgets/controls",
       "_view_module_version": "1.5.0",
       "_view_name": "ProgressView",
       "bar_style": "success",
       "description": "",
       "description_tooltip": null,
       "layout": "IPY_MODEL_715347fa15764d489a3f21392493a177",
       "max": 28881.0,
       "min": 0.0,
       "orientation": "horizontal",
       "style": "IPY_MODEL_1288001c045546f18b9fc33d4703a2fe",
       "value": 28881.0
      }
     },
     "1d297a3f92cf49979c8ca41bb5e4070d": {
      "model_module": "@jupyter-widgets/base",
      "model_module_version": "1.2.0",
      "model_name": "LayoutModel",
      "state": {
       "_model_module": "@jupyter-widgets/base",
       "_model_module_version": "1.2.0",
       "_model_name": "LayoutModel",
       "_view_count": null,
       "_view_module": "@jupyter-widgets/base",
       "_view_module_version": "1.2.0",
       "_view_name": "LayoutView",
       "align_content": null,
       "align_items": null,
       "align_self": null,
       "border": null,
       "bottom": null,
       "display": null,
       "flex": null,
       "flex_flow": null,
       "grid_area": null,
       "grid_auto_columns": null,
       "grid_auto_flow": null,
       "grid_auto_rows": null,
       "grid_column": null,
       "grid_gap": null,
       "grid_row": null,
       "grid_template_areas": null,
       "grid_template_columns": null,
       "grid_template_rows": null,
       "height": null,
       "justify_content": null,
       "justify_items": null,
       "left": null,
       "margin": null,
       "max_height": null,
       "max_width": null,
       "min_height": null,
       "min_width": null,
       "object_fit": null,
       "object_position": null,
       "order": null,
       "overflow": null,
       "overflow_x": null,
       "overflow_y": null,
       "padding": null,
       "right": null,
       "top": null,
       "visibility": null,
       "width": null
      }
     },
     "31bd6c25594f494299bf8179788563c1": {
      "model_module": "@jupyter-widgets/base",
      "model_module_version": "1.2.0",
      "model_name": "LayoutModel",
      "state": {
       "_model_module": "@jupyter-widgets/base",
       "_model_module_version": "1.2.0",
       "_model_name": "LayoutModel",
       "_view_count": null,
       "_view_module": "@jupyter-widgets/base",
       "_view_module_version": "1.2.0",
       "_view_name": "LayoutView",
       "align_content": null,
       "align_items": null,
       "align_self": null,
       "border": null,
       "bottom": null,
       "display": null,
       "flex": null,
       "flex_flow": null,
       "grid_area": null,
       "grid_auto_columns": null,
       "grid_auto_flow": null,
       "grid_auto_rows": null,
       "grid_column": null,
       "grid_gap": null,
       "grid_row": null,
       "grid_template_areas": null,
       "grid_template_columns": null,
       "grid_template_rows": null,
       "height": null,
       "justify_content": null,
       "justify_items": null,
       "left": null,
       "margin": null,
       "max_height": null,
       "max_width": null,
       "min_height": null,
       "min_width": null,
       "object_fit": null,
       "object_position": null,
       "order": null,
       "overflow": null,
       "overflow_x": null,
       "overflow_y": null,
       "padding": null,
       "right": null,
       "top": null,
       "visibility": null,
       "width": null
      }
     },
     "45c176bfb1df453780e5fdbf60f705a9": {
      "model_module": "@jupyter-widgets/base",
      "model_module_version": "1.2.0",
      "model_name": "LayoutModel",
      "state": {
       "_model_module": "@jupyter-widgets/base",
       "_model_module_version": "1.2.0",
       "_model_name": "LayoutModel",
       "_view_count": null,
       "_view_module": "@jupyter-widgets/base",
       "_view_module_version": "1.2.0",
       "_view_name": "LayoutView",
       "align_content": null,
       "align_items": null,
       "align_self": null,
       "border": null,
       "bottom": null,
       "display": null,
       "flex": null,
       "flex_flow": null,
       "grid_area": null,
       "grid_auto_columns": null,
       "grid_auto_flow": null,
       "grid_auto_rows": null,
       "grid_column": null,
       "grid_gap": null,
       "grid_row": null,
       "grid_template_areas": null,
       "grid_template_columns": null,
       "grid_template_rows": null,
       "height": null,
       "justify_content": null,
       "justify_items": null,
       "left": null,
       "margin": null,
       "max_height": null,
       "max_width": null,
       "min_height": null,
       "min_width": null,
       "object_fit": null,
       "object_position": null,
       "order": null,
       "overflow": null,
       "overflow_x": null,
       "overflow_y": null,
       "padding": null,
       "right": null,
       "top": null,
       "visibility": null,
       "width": null
      }
     },
     "4bf97b9f18014b2d93dd3ebd20bf4e8a": {
      "model_module": "@jupyter-widgets/controls",
      "model_module_version": "1.5.0",
      "model_name": "HBoxModel",
      "state": {
       "_dom_classes": [],
       "_model_module": "@jupyter-widgets/controls",
       "_model_module_version": "1.5.0",
       "_model_name": "HBoxModel",
       "_view_count": null,
       "_view_module": "@jupyter-widgets/controls",
       "_view_module_version": "1.5.0",
       "_view_name": "HBoxView",
       "box_style": "",
       "children": [
        "IPY_MODEL_fb304c5bd467439d889489e9973d35c8",
        "IPY_MODEL_db240259306d4dd787bbbb7c685315c6",
        "IPY_MODEL_612717f2c32f42d6865df81143cb7953"
       ],
       "layout": "IPY_MODEL_532685e8c2e8409c94df0f716e2cffb2"
      }
     },
     "4c93087944584e329a62511909089957": {
      "model_module": "@jupyter-widgets/base",
      "model_module_version": "1.2.0",
      "model_name": "LayoutModel",
      "state": {
       "_model_module": "@jupyter-widgets/base",
       "_model_module_version": "1.2.0",
       "_model_name": "LayoutModel",
       "_view_count": null,
       "_view_module": "@jupyter-widgets/base",
       "_view_module_version": "1.2.0",
       "_view_name": "LayoutView",
       "align_content": null,
       "align_items": null,
       "align_self": null,
       "border": null,
       "bottom": null,
       "display": null,
       "flex": null,
       "flex_flow": null,
       "grid_area": null,
       "grid_auto_columns": null,
       "grid_auto_flow": null,
       "grid_auto_rows": null,
       "grid_column": null,
       "grid_gap": null,
       "grid_row": null,
       "grid_template_areas": null,
       "grid_template_columns": null,
       "grid_template_rows": null,
       "height": null,
       "justify_content": null,
       "justify_items": null,
       "left": null,
       "margin": null,
       "max_height": null,
       "max_width": null,
       "min_height": null,
       "min_width": null,
       "object_fit": null,
       "object_position": null,
       "order": null,
       "overflow": null,
       "overflow_x": null,
       "overflow_y": null,
       "padding": null,
       "right": null,
       "top": null,
       "visibility": null,
       "width": null
      }
     },
     "4ef33fbde7bf4219b63ba763c67c0164": {
      "model_module": "@jupyter-widgets/base",
      "model_module_version": "1.2.0",
      "model_name": "LayoutModel",
      "state": {
       "_model_module": "@jupyter-widgets/base",
       "_model_module_version": "1.2.0",
       "_model_name": "LayoutModel",
       "_view_count": null,
       "_view_module": "@jupyter-widgets/base",
       "_view_module_version": "1.2.0",
       "_view_name": "LayoutView",
       "align_content": null,
       "align_items": null,
       "align_self": null,
       "border": null,
       "bottom": null,
       "display": null,
       "flex": null,
       "flex_flow": null,
       "grid_area": null,
       "grid_auto_columns": null,
       "grid_auto_flow": null,
       "grid_auto_rows": null,
       "grid_column": null,
       "grid_gap": null,
       "grid_row": null,
       "grid_template_areas": null,
       "grid_template_columns": null,
       "grid_template_rows": null,
       "height": null,
       "justify_content": null,
       "justify_items": null,
       "left": null,
       "margin": null,
       "max_height": null,
       "max_width": null,
       "min_height": null,
       "min_width": null,
       "object_fit": null,
       "object_position": null,
       "order": null,
       "overflow": null,
       "overflow_x": null,
       "overflow_y": null,
       "padding": null,
       "right": null,
       "top": null,
       "visibility": null,
       "width": null
      }
     },
     "51caf68efbb243d5bd3d9e26006b8cbc": {
      "model_module": "@jupyter-widgets/controls",
      "model_module_version": "1.5.0",
      "model_name": "ProgressStyleModel",
      "state": {
       "_model_module": "@jupyter-widgets/controls",
       "_model_module_version": "1.5.0",
       "_model_name": "ProgressStyleModel",
       "_view_count": null,
       "_view_module": "@jupyter-widgets/base",
       "_view_module_version": "1.2.0",
       "_view_name": "StyleView",
       "bar_color": null,
       "description_width": ""
      }
     },
     "5320ee245145437b9095c757a0f49ab1": {
      "model_module": "@jupyter-widgets/controls",
      "model_module_version": "1.5.0",
      "model_name": "HBoxModel",
      "state": {
       "_dom_classes": [],
       "_model_module": "@jupyter-widgets/controls",
       "_model_module_version": "1.5.0",
       "_model_name": "HBoxModel",
       "_view_count": null,
       "_view_module": "@jupyter-widgets/controls",
       "_view_module_version": "1.5.0",
       "_view_name": "HBoxView",
       "box_style": "",
       "children": [
        "IPY_MODEL_e5b240529cdc4e2d917e282faeaf7b55",
        "IPY_MODEL_9993e5a5139a41d499c2aee3a006e2e3",
        "IPY_MODEL_97ac1add74c14564b8973268e83d5f33"
       ],
       "layout": "IPY_MODEL_984392d3cf6f4b68bce7d3d602addfe0"
      }
     },
     "532685e8c2e8409c94df0f716e2cffb2": {
      "model_module": "@jupyter-widgets/base",
      "model_module_version": "1.2.0",
      "model_name": "LayoutModel",
      "state": {
       "_model_module": "@jupyter-widgets/base",
       "_model_module_version": "1.2.0",
       "_model_name": "LayoutModel",
       "_view_count": null,
       "_view_module": "@jupyter-widgets/base",
       "_view_module_version": "1.2.0",
       "_view_name": "LayoutView",
       "align_content": null,
       "align_items": null,
       "align_self": null,
       "border": null,
       "bottom": null,
       "display": null,
       "flex": null,
       "flex_flow": null,
       "grid_area": null,
       "grid_auto_columns": null,
       "grid_auto_flow": null,
       "grid_auto_rows": null,
       "grid_column": null,
       "grid_gap": null,
       "grid_row": null,
       "grid_template_areas": null,
       "grid_template_columns": null,
       "grid_template_rows": null,
       "height": null,
       "justify_content": null,
       "justify_items": null,
       "left": null,
       "margin": null,
       "max_height": null,
       "max_width": null,
       "min_height": null,
       "min_width": null,
       "object_fit": null,
       "object_position": null,
       "order": null,
       "overflow": null,
       "overflow_x": null,
       "overflow_y": null,
       "padding": null,
       "right": null,
       "top": null,
       "visibility": null,
       "width": null
      }
     },
     "58466d490ff343ca878c261fe9fd9ea4": {
      "model_module": "@jupyter-widgets/controls",
      "model_module_version": "1.5.0",
      "model_name": "DescriptionStyleModel",
      "state": {
       "_model_module": "@jupyter-widgets/controls",
       "_model_module_version": "1.5.0",
       "_model_name": "DescriptionStyleModel",
       "_view_count": null,
       "_view_module": "@jupyter-widgets/base",
       "_view_module_version": "1.2.0",
       "_view_name": "StyleView",
       "description_width": ""
      }
     },
     "612717f2c32f42d6865df81143cb7953": {
      "model_module": "@jupyter-widgets/controls",
      "model_module_version": "1.5.0",
      "model_name": "HTMLModel",
      "state": {
       "_dom_classes": [],
       "_model_module": "@jupyter-widgets/controls",
       "_model_module_version": "1.5.0",
       "_model_name": "HTMLModel",
       "_view_count": null,
       "_view_module": "@jupyter-widgets/controls",
       "_view_module_version": "1.5.0",
       "_view_name": "HTMLView",
       "description": "",
       "description_tooltip": null,
       "layout": "IPY_MODEL_4ef33fbde7bf4219b63ba763c67c0164",
       "placeholder": "​",
       "style": "IPY_MODEL_f52f0b9f2aca439ab36f65a67d9dd99f",
       "value": " 5120/? [00:00&lt;00:00, 205898.83it/s]"
      }
     },
     "6365993d88be46e185877701a8e466ff": {
      "model_module": "@jupyter-widgets/controls",
      "model_module_version": "1.5.0",
      "model_name": "DescriptionStyleModel",
      "state": {
       "_model_module": "@jupyter-widgets/controls",
       "_model_module_version": "1.5.0",
       "_model_name": "DescriptionStyleModel",
       "_view_count": null,
       "_view_module": "@jupyter-widgets/base",
       "_view_module_version": "1.2.0",
       "_view_name": "StyleView",
       "description_width": ""
      }
     },
     "6e88ba7d66294c6abdda5c2a7aa14044": {
      "model_module": "@jupyter-widgets/controls",
      "model_module_version": "1.5.0",
      "model_name": "HTMLModel",
      "state": {
       "_dom_classes": [],
       "_model_module": "@jupyter-widgets/controls",
       "_model_module_version": "1.5.0",
       "_model_name": "HTMLModel",
       "_view_count": null,
       "_view_module": "@jupyter-widgets/controls",
       "_view_module_version": "1.5.0",
       "_view_name": "HTMLView",
       "description": "",
       "description_tooltip": null,
       "layout": "IPY_MODEL_0234fa05e3364b399e96a8ce86eae806",
       "placeholder": "​",
       "style": "IPY_MODEL_8607cefc30aa4c658dae1b887fc722f9",
       "value": " 1649664/? [00:00&lt;00:00, 16870277.08it/s]"
      }
     },
     "715347fa15764d489a3f21392493a177": {
      "model_module": "@jupyter-widgets/base",
      "model_module_version": "1.2.0",
      "model_name": "LayoutModel",
      "state": {
       "_model_module": "@jupyter-widgets/base",
       "_model_module_version": "1.2.0",
       "_model_name": "LayoutModel",
       "_view_count": null,
       "_view_module": "@jupyter-widgets/base",
       "_view_module_version": "1.2.0",
       "_view_name": "LayoutView",
       "align_content": null,
       "align_items": null,
       "align_self": null,
       "border": null,
       "bottom": null,
       "display": null,
       "flex": null,
       "flex_flow": null,
       "grid_area": null,
       "grid_auto_columns": null,
       "grid_auto_flow": null,
       "grid_auto_rows": null,
       "grid_column": null,
       "grid_gap": null,
       "grid_row": null,
       "grid_template_areas": null,
       "grid_template_columns": null,
       "grid_template_rows": null,
       "height": null,
       "justify_content": null,
       "justify_items": null,
       "left": null,
       "margin": null,
       "max_height": null,
       "max_width": null,
       "min_height": null,
       "min_width": null,
       "object_fit": null,
       "object_position": null,
       "order": null,
       "overflow": null,
       "overflow_x": null,
       "overflow_y": null,
       "padding": null,
       "right": null,
       "top": null,
       "visibility": null,
       "width": null
      }
     },
     "749b4a0856b347edaf1824fa7dd6144b": {
      "model_module": "@jupyter-widgets/controls",
      "model_module_version": "1.5.0",
      "model_name": "FloatProgressModel",
      "state": {
       "_dom_classes": [],
       "_model_module": "@jupyter-widgets/controls",
       "_model_module_version": "1.5.0",
       "_model_name": "FloatProgressModel",
       "_view_count": null,
       "_view_module": "@jupyter-widgets/controls",
       "_view_module_version": "1.5.0",
       "_view_name": "ProgressView",
       "bar_style": "success",
       "description": "",
       "description_tooltip": null,
       "layout": "IPY_MODEL_9bc99034c0b04c39a3510c163eee1993",
       "max": 1648877.0,
       "min": 0.0,
       "orientation": "horizontal",
       "style": "IPY_MODEL_51caf68efbb243d5bd3d9e26006b8cbc",
       "value": 1648877.0
      }
     },
     "7f39cd8d59504c9eb415605037e9d9be": {
      "model_module": "@jupyter-widgets/controls",
      "model_module_version": "1.5.0",
      "model_name": "ProgressStyleModel",
      "state": {
       "_model_module": "@jupyter-widgets/controls",
       "_model_module_version": "1.5.0",
       "_model_name": "ProgressStyleModel",
       "_view_count": null,
       "_view_module": "@jupyter-widgets/base",
       "_view_module_version": "1.2.0",
       "_view_name": "StyleView",
       "bar_color": null,
       "description_width": ""
      }
     },
     "8607cefc30aa4c658dae1b887fc722f9": {
      "model_module": "@jupyter-widgets/controls",
      "model_module_version": "1.5.0",
      "model_name": "DescriptionStyleModel",
      "state": {
       "_model_module": "@jupyter-widgets/controls",
       "_model_module_version": "1.5.0",
       "_model_name": "DescriptionStyleModel",
       "_view_count": null,
       "_view_module": "@jupyter-widgets/base",
       "_view_module_version": "1.2.0",
       "_view_name": "StyleView",
       "description_width": ""
      }
     },
     "88b1da4178bc4617990894bf152dde50": {
      "model_module": "@jupyter-widgets/controls",
      "model_module_version": "1.5.0",
      "model_name": "DescriptionStyleModel",
      "state": {
       "_model_module": "@jupyter-widgets/controls",
       "_model_module_version": "1.5.0",
       "_model_name": "DescriptionStyleModel",
       "_view_count": null,
       "_view_module": "@jupyter-widgets/base",
       "_view_module_version": "1.2.0",
       "_view_name": "StyleView",
       "description_width": ""
      }
     },
     "93152913b573464ba8c1b29df9812beb": {
      "model_module": "@jupyter-widgets/controls",
      "model_module_version": "1.5.0",
      "model_name": "DescriptionStyleModel",
      "state": {
       "_model_module": "@jupyter-widgets/controls",
       "_model_module_version": "1.5.0",
       "_model_name": "DescriptionStyleModel",
       "_view_count": null,
       "_view_module": "@jupyter-widgets/base",
       "_view_module_version": "1.2.0",
       "_view_name": "StyleView",
       "description_width": ""
      }
     },
     "9511f5992a0c441ca8ef63b0cf49ad30": {
      "model_module": "@jupyter-widgets/controls",
      "model_module_version": "1.5.0",
      "model_name": "HBoxModel",
      "state": {
       "_dom_classes": [],
       "_model_module": "@jupyter-widgets/controls",
       "_model_module_version": "1.5.0",
       "_model_name": "HBoxModel",
       "_view_count": null,
       "_view_module": "@jupyter-widgets/controls",
       "_view_module_version": "1.5.0",
       "_view_name": "HBoxView",
       "box_style": "",
       "children": [
        "IPY_MODEL_ee63498a0a0a4d08bdb2a16ec50dc0a8",
        "IPY_MODEL_1be51383b01f4f2e932aa1721d1449b2",
        "IPY_MODEL_c720ac9db3e5492888f2bf1c5290c8f0"
       ],
       "layout": "IPY_MODEL_d3324ed2daea42e8b7ea53dcaa7109ee"
      }
     },
     "97ac1add74c14564b8973268e83d5f33": {
      "model_module": "@jupyter-widgets/controls",
      "model_module_version": "1.5.0",
      "model_name": "HTMLModel",
      "state": {
       "_dom_classes": [],
       "_model_module": "@jupyter-widgets/controls",
       "_model_module_version": "1.5.0",
       "_model_name": "HTMLModel",
       "_view_count": null,
       "_view_module": "@jupyter-widgets/controls",
       "_view_module_version": "1.5.0",
       "_view_name": "HTMLView",
       "description": "",
       "description_tooltip": null,
       "layout": "IPY_MODEL_4c93087944584e329a62511909089957",
       "placeholder": "​",
       "style": "IPY_MODEL_58466d490ff343ca878c261fe9fd9ea4",
       "value": " 9913344/? [00:00&lt;00:00, 29766329.17it/s]"
      }
     },
     "984392d3cf6f4b68bce7d3d602addfe0": {
      "model_module": "@jupyter-widgets/base",
      "model_module_version": "1.2.0",
      "model_name": "LayoutModel",
      "state": {
       "_model_module": "@jupyter-widgets/base",
       "_model_module_version": "1.2.0",
       "_model_name": "LayoutModel",
       "_view_count": null,
       "_view_module": "@jupyter-widgets/base",
       "_view_module_version": "1.2.0",
       "_view_name": "LayoutView",
       "align_content": null,
       "align_items": null,
       "align_self": null,
       "border": null,
       "bottom": null,
       "display": null,
       "flex": null,
       "flex_flow": null,
       "grid_area": null,
       "grid_auto_columns": null,
       "grid_auto_flow": null,
       "grid_auto_rows": null,
       "grid_column": null,
       "grid_gap": null,
       "grid_row": null,
       "grid_template_areas": null,
       "grid_template_columns": null,
       "grid_template_rows": null,
       "height": null,
       "justify_content": null,
       "justify_items": null,
       "left": null,
       "margin": null,
       "max_height": null,
       "max_width": null,
       "min_height": null,
       "min_width": null,
       "object_fit": null,
       "object_position": null,
       "order": null,
       "overflow": null,
       "overflow_x": null,
       "overflow_y": null,
       "padding": null,
       "right": null,
       "top": null,
       "visibility": null,
       "width": null
      }
     },
     "9993e5a5139a41d499c2aee3a006e2e3": {
      "model_module": "@jupyter-widgets/controls",
      "model_module_version": "1.5.0",
      "model_name": "FloatProgressModel",
      "state": {
       "_dom_classes": [],
       "_model_module": "@jupyter-widgets/controls",
       "_model_module_version": "1.5.0",
       "_model_name": "FloatProgressModel",
       "_view_count": null,
       "_view_module": "@jupyter-widgets/controls",
       "_view_module_version": "1.5.0",
       "_view_name": "ProgressView",
       "bar_style": "success",
       "description": "",
       "description_tooltip": null,
       "layout": "IPY_MODEL_1d297a3f92cf49979c8ca41bb5e4070d",
       "max": 9912422.0,
       "min": 0.0,
       "orientation": "horizontal",
       "style": "IPY_MODEL_a061b108cedf47fc9da2e546fbb9ef7c",
       "value": 9912422.0
      }
     },
     "9bc99034c0b04c39a3510c163eee1993": {
      "model_module": "@jupyter-widgets/base",
      "model_module_version": "1.2.0",
      "model_name": "LayoutModel",
      "state": {
       "_model_module": "@jupyter-widgets/base",
       "_model_module_version": "1.2.0",
       "_model_name": "LayoutModel",
       "_view_count": null,
       "_view_module": "@jupyter-widgets/base",
       "_view_module_version": "1.2.0",
       "_view_name": "LayoutView",
       "align_content": null,
       "align_items": null,
       "align_self": null,
       "border": null,
       "bottom": null,
       "display": null,
       "flex": null,
       "flex_flow": null,
       "grid_area": null,
       "grid_auto_columns": null,
       "grid_auto_flow": null,
       "grid_auto_rows": null,
       "grid_column": null,
       "grid_gap": null,
       "grid_row": null,
       "grid_template_areas": null,
       "grid_template_columns": null,
       "grid_template_rows": null,
       "height": null,
       "justify_content": null,
       "justify_items": null,
       "left": null,
       "margin": null,
       "max_height": null,
       "max_width": null,
       "min_height": null,
       "min_width": null,
       "object_fit": null,
       "object_position": null,
       "order": null,
       "overflow": null,
       "overflow_x": null,
       "overflow_y": null,
       "padding": null,
       "right": null,
       "top": null,
       "visibility": null,
       "width": null
      }
     },
     "a061b108cedf47fc9da2e546fbb9ef7c": {
      "model_module": "@jupyter-widgets/controls",
      "model_module_version": "1.5.0",
      "model_name": "ProgressStyleModel",
      "state": {
       "_model_module": "@jupyter-widgets/controls",
       "_model_module_version": "1.5.0",
       "_model_name": "ProgressStyleModel",
       "_view_count": null,
       "_view_module": "@jupyter-widgets/base",
       "_view_module_version": "1.2.0",
       "_view_name": "StyleView",
       "bar_color": null,
       "description_width": ""
      }
     },
     "a7236224961d4e7081e06bcebb1c5416": {
      "model_module": "@jupyter-widgets/base",
      "model_module_version": "1.2.0",
      "model_name": "LayoutModel",
      "state": {
       "_model_module": "@jupyter-widgets/base",
       "_model_module_version": "1.2.0",
       "_model_name": "LayoutModel",
       "_view_count": null,
       "_view_module": "@jupyter-widgets/base",
       "_view_module_version": "1.2.0",
       "_view_name": "LayoutView",
       "align_content": null,
       "align_items": null,
       "align_self": null,
       "border": null,
       "bottom": null,
       "display": null,
       "flex": null,
       "flex_flow": null,
       "grid_area": null,
       "grid_auto_columns": null,
       "grid_auto_flow": null,
       "grid_auto_rows": null,
       "grid_column": null,
       "grid_gap": null,
       "grid_row": null,
       "grid_template_areas": null,
       "grid_template_columns": null,
       "grid_template_rows": null,
       "height": null,
       "justify_content": null,
       "justify_items": null,
       "left": null,
       "margin": null,
       "max_height": null,
       "max_width": null,
       "min_height": null,
       "min_width": null,
       "object_fit": null,
       "object_position": null,
       "order": null,
       "overflow": null,
       "overflow_x": null,
       "overflow_y": null,
       "padding": null,
       "right": null,
       "top": null,
       "visibility": null,
       "width": null
      }
     },
     "ad59f7b028494acca7d97985e57abe98": {
      "model_module": "@jupyter-widgets/base",
      "model_module_version": "1.2.0",
      "model_name": "LayoutModel",
      "state": {
       "_model_module": "@jupyter-widgets/base",
       "_model_module_version": "1.2.0",
       "_model_name": "LayoutModel",
       "_view_count": null,
       "_view_module": "@jupyter-widgets/base",
       "_view_module_version": "1.2.0",
       "_view_name": "LayoutView",
       "align_content": null,
       "align_items": null,
       "align_self": null,
       "border": null,
       "bottom": null,
       "display": null,
       "flex": null,
       "flex_flow": null,
       "grid_area": null,
       "grid_auto_columns": null,
       "grid_auto_flow": null,
       "grid_auto_rows": null,
       "grid_column": null,
       "grid_gap": null,
       "grid_row": null,
       "grid_template_areas": null,
       "grid_template_columns": null,
       "grid_template_rows": null,
       "height": null,
       "justify_content": null,
       "justify_items": null,
       "left": null,
       "margin": null,
       "max_height": null,
       "max_width": null,
       "min_height": null,
       "min_width": null,
       "object_fit": null,
       "object_position": null,
       "order": null,
       "overflow": null,
       "overflow_x": null,
       "overflow_y": null,
       "padding": null,
       "right": null,
       "top": null,
       "visibility": null,
       "width": null
      }
     },
     "b4fa7fc016df48b5b026e1887b5b7da9": {
      "model_module": "@jupyter-widgets/base",
      "model_module_version": "1.2.0",
      "model_name": "LayoutModel",
      "state": {
       "_model_module": "@jupyter-widgets/base",
       "_model_module_version": "1.2.0",
       "_model_name": "LayoutModel",
       "_view_count": null,
       "_view_module": "@jupyter-widgets/base",
       "_view_module_version": "1.2.0",
       "_view_name": "LayoutView",
       "align_content": null,
       "align_items": null,
       "align_self": null,
       "border": null,
       "bottom": null,
       "display": null,
       "flex": null,
       "flex_flow": null,
       "grid_area": null,
       "grid_auto_columns": null,
       "grid_auto_flow": null,
       "grid_auto_rows": null,
       "grid_column": null,
       "grid_gap": null,
       "grid_row": null,
       "grid_template_areas": null,
       "grid_template_columns": null,
       "grid_template_rows": null,
       "height": null,
       "justify_content": null,
       "justify_items": null,
       "left": null,
       "margin": null,
       "max_height": null,
       "max_width": null,
       "min_height": null,
       "min_width": null,
       "object_fit": null,
       "object_position": null,
       "order": null,
       "overflow": null,
       "overflow_x": null,
       "overflow_y": null,
       "padding": null,
       "right": null,
       "top": null,
       "visibility": null,
       "width": null
      }
     },
     "c41091ca365842808fb62799f259a753": {
      "model_module": "@jupyter-widgets/controls",
      "model_module_version": "1.5.0",
      "model_name": "HBoxModel",
      "state": {
       "_dom_classes": [],
       "_model_module": "@jupyter-widgets/controls",
       "_model_module_version": "1.5.0",
       "_model_name": "HBoxModel",
       "_view_count": null,
       "_view_module": "@jupyter-widgets/controls",
       "_view_module_version": "1.5.0",
       "_view_name": "HBoxView",
       "box_style": "",
       "children": [
        "IPY_MODEL_d70bd7259973438d8826db3c4c557af2",
        "IPY_MODEL_749b4a0856b347edaf1824fa7dd6144b",
        "IPY_MODEL_6e88ba7d66294c6abdda5c2a7aa14044"
       ],
       "layout": "IPY_MODEL_b4fa7fc016df48b5b026e1887b5b7da9"
      }
     },
     "c720ac9db3e5492888f2bf1c5290c8f0": {
      "model_module": "@jupyter-widgets/controls",
      "model_module_version": "1.5.0",
      "model_name": "HTMLModel",
      "state": {
       "_dom_classes": [],
       "_model_module": "@jupyter-widgets/controls",
       "_model_module_version": "1.5.0",
       "_model_name": "HTMLModel",
       "_view_count": null,
       "_view_module": "@jupyter-widgets/controls",
       "_view_module_version": "1.5.0",
       "_view_name": "HTMLView",
       "description": "",
       "description_tooltip": null,
       "layout": "IPY_MODEL_a7236224961d4e7081e06bcebb1c5416",
       "placeholder": "​",
       "style": "IPY_MODEL_1b35c1c012db451faee193886b08b231",
       "value": " 29696/? [00:00&lt;00:00, 1184638.26it/s]"
      }
     },
     "d3324ed2daea42e8b7ea53dcaa7109ee": {
      "model_module": "@jupyter-widgets/base",
      "model_module_version": "1.2.0",
      "model_name": "LayoutModel",
      "state": {
       "_model_module": "@jupyter-widgets/base",
       "_model_module_version": "1.2.0",
       "_model_name": "LayoutModel",
       "_view_count": null,
       "_view_module": "@jupyter-widgets/base",
       "_view_module_version": "1.2.0",
       "_view_name": "LayoutView",
       "align_content": null,
       "align_items": null,
       "align_self": null,
       "border": null,
       "bottom": null,
       "display": null,
       "flex": null,
       "flex_flow": null,
       "grid_area": null,
       "grid_auto_columns": null,
       "grid_auto_flow": null,
       "grid_auto_rows": null,
       "grid_column": null,
       "grid_gap": null,
       "grid_row": null,
       "grid_template_areas": null,
       "grid_template_columns": null,
       "grid_template_rows": null,
       "height": null,
       "justify_content": null,
       "justify_items": null,
       "left": null,
       "margin": null,
       "max_height": null,
       "max_width": null,
       "min_height": null,
       "min_width": null,
       "object_fit": null,
       "object_position": null,
       "order": null,
       "overflow": null,
       "overflow_x": null,
       "overflow_y": null,
       "padding": null,
       "right": null,
       "top": null,
       "visibility": null,
       "width": null
      }
     },
     "d70bd7259973438d8826db3c4c557af2": {
      "model_module": "@jupyter-widgets/controls",
      "model_module_version": "1.5.0",
      "model_name": "HTMLModel",
      "state": {
       "_dom_classes": [],
       "_model_module": "@jupyter-widgets/controls",
       "_model_module_version": "1.5.0",
       "_model_name": "HTMLModel",
       "_view_count": null,
       "_view_module": "@jupyter-widgets/controls",
       "_view_module_version": "1.5.0",
       "_view_name": "HTMLView",
       "description": "",
       "description_tooltip": null,
       "layout": "IPY_MODEL_ffcea623b52c4a61bd0f0d6619f46ac6",
       "placeholder": "​",
       "style": "IPY_MODEL_88b1da4178bc4617990894bf152dde50",
       "value": ""
      }
     },
     "db240259306d4dd787bbbb7c685315c6": {
      "model_module": "@jupyter-widgets/controls",
      "model_module_version": "1.5.0",
      "model_name": "FloatProgressModel",
      "state": {
       "_dom_classes": [],
       "_model_module": "@jupyter-widgets/controls",
       "_model_module_version": "1.5.0",
       "_model_name": "FloatProgressModel",
       "_view_count": null,
       "_view_module": "@jupyter-widgets/controls",
       "_view_module_version": "1.5.0",
       "_view_name": "ProgressView",
       "bar_style": "success",
       "description": "",
       "description_tooltip": null,
       "layout": "IPY_MODEL_45c176bfb1df453780e5fdbf60f705a9",
       "max": 4542.0,
       "min": 0.0,
       "orientation": "horizontal",
       "style": "IPY_MODEL_7f39cd8d59504c9eb415605037e9d9be",
       "value": 4542.0
      }
     },
     "e5b240529cdc4e2d917e282faeaf7b55": {
      "model_module": "@jupyter-widgets/controls",
      "model_module_version": "1.5.0",
      "model_name": "HTMLModel",
      "state": {
       "_dom_classes": [],
       "_model_module": "@jupyter-widgets/controls",
       "_model_module_version": "1.5.0",
       "_model_name": "HTMLModel",
       "_view_count": null,
       "_view_module": "@jupyter-widgets/controls",
       "_view_module_version": "1.5.0",
       "_view_name": "HTMLView",
       "description": "",
       "description_tooltip": null,
       "layout": "IPY_MODEL_14571c883c8543dcb10bfe6d20fdc4ca",
       "placeholder": "​",
       "style": "IPY_MODEL_6365993d88be46e185877701a8e466ff",
       "value": ""
      }
     },
     "e75703d811974c23ac723af089de7b61": {
      "model_module": "@jupyter-widgets/controls",
      "model_module_version": "1.5.0",
      "model_name": "DescriptionStyleModel",
      "state": {
       "_model_module": "@jupyter-widgets/controls",
       "_model_module_version": "1.5.0",
       "_model_name": "DescriptionStyleModel",
       "_view_count": null,
       "_view_module": "@jupyter-widgets/base",
       "_view_module_version": "1.2.0",
       "_view_name": "StyleView",
       "description_width": ""
      }
     },
     "ee63498a0a0a4d08bdb2a16ec50dc0a8": {
      "model_module": "@jupyter-widgets/controls",
      "model_module_version": "1.5.0",
      "model_name": "HTMLModel",
      "state": {
       "_dom_classes": [],
       "_model_module": "@jupyter-widgets/controls",
       "_model_module_version": "1.5.0",
       "_model_name": "HTMLModel",
       "_view_count": null,
       "_view_module": "@jupyter-widgets/controls",
       "_view_module_version": "1.5.0",
       "_view_name": "HTMLView",
       "description": "",
       "description_tooltip": null,
       "layout": "IPY_MODEL_31bd6c25594f494299bf8179788563c1",
       "placeholder": "​",
       "style": "IPY_MODEL_e75703d811974c23ac723af089de7b61",
       "value": ""
      }
     },
     "f52f0b9f2aca439ab36f65a67d9dd99f": {
      "model_module": "@jupyter-widgets/controls",
      "model_module_version": "1.5.0",
      "model_name": "DescriptionStyleModel",
      "state": {
       "_model_module": "@jupyter-widgets/controls",
       "_model_module_version": "1.5.0",
       "_model_name": "DescriptionStyleModel",
       "_view_count": null,
       "_view_module": "@jupyter-widgets/base",
       "_view_module_version": "1.2.0",
       "_view_name": "StyleView",
       "description_width": ""
      }
     },
     "fb304c5bd467439d889489e9973d35c8": {
      "model_module": "@jupyter-widgets/controls",
      "model_module_version": "1.5.0",
      "model_name": "HTMLModel",
      "state": {
       "_dom_classes": [],
       "_model_module": "@jupyter-widgets/controls",
       "_model_module_version": "1.5.0",
       "_model_name": "HTMLModel",
       "_view_count": null,
       "_view_module": "@jupyter-widgets/controls",
       "_view_module_version": "1.5.0",
       "_view_name": "HTMLView",
       "description": "",
       "description_tooltip": null,
       "layout": "IPY_MODEL_ad59f7b028494acca7d97985e57abe98",
       "placeholder": "​",
       "style": "IPY_MODEL_93152913b573464ba8c1b29df9812beb",
       "value": ""
      }
     },
     "ffcea623b52c4a61bd0f0d6619f46ac6": {
      "model_module": "@jupyter-widgets/base",
      "model_module_version": "1.2.0",
      "model_name": "LayoutModel",
      "state": {
       "_model_module": "@jupyter-widgets/base",
       "_model_module_version": "1.2.0",
       "_model_name": "LayoutModel",
       "_view_count": null,
       "_view_module": "@jupyter-widgets/base",
       "_view_module_version": "1.2.0",
       "_view_name": "LayoutView",
       "align_content": null,
       "align_items": null,
       "align_self": null,
       "border": null,
       "bottom": null,
       "display": null,
       "flex": null,
       "flex_flow": null,
       "grid_area": null,
       "grid_auto_columns": null,
       "grid_auto_flow": null,
       "grid_auto_rows": null,
       "grid_column": null,
       "grid_gap": null,
       "grid_row": null,
       "grid_template_areas": null,
       "grid_template_columns": null,
       "grid_template_rows": null,
       "height": null,
       "justify_content": null,
       "justify_items": null,
       "left": null,
       "margin": null,
       "max_height": null,
       "max_width": null,
       "min_height": null,
       "min_width": null,
       "object_fit": null,
       "object_position": null,
       "order": null,
       "overflow": null,
       "overflow_x": null,
       "overflow_y": null,
       "padding": null,
       "right": null,
       "top": null,
       "visibility": null,
       "width": null
      }
     }
    },
    "version_major": 2,
    "version_minor": 0
   }
  }
 },
 "nbformat": 4,
 "nbformat_minor": 5
}
