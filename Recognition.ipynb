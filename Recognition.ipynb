{
 "cells": [
  {
   "cell_type": "code",
   "execution_count": 1,
   "id": "3ce89365",
   "metadata": {
    "execution": {
     "iopub.execute_input": "2023-04-16T15:50:12.235826Z",
     "iopub.status.busy": "2023-04-16T15:50:12.235407Z",
     "iopub.status.idle": "2023-04-16T15:50:23.887683Z",
     "shell.execute_reply": "2023-04-16T15:50:23.886192Z"
    },
    "papermill": {
     "duration": 11.662111,
     "end_time": "2023-04-16T15:50:23.890742",
     "exception": false,
     "start_time": "2023-04-16T15:50:12.228631",
     "status": "completed"
    },
    "tags": []
   },
   "outputs": [
    {
     "name": "stderr",
     "output_type": "stream",
     "text": [
      "2023-04-17 16:03:26.590128: I tensorflow/core/util/port.cc:110] oneDNN custom operations are on. You may see slightly different numerical results due to floating-point round-off errors from different computation orders. To turn them off, set the environment variable `TF_ENABLE_ONEDNN_OPTS=0`.\n",
      "2023-04-17 16:03:26.591754: I tensorflow/tsl/cuda/cudart_stub.cc:28] Could not find cuda drivers on your machine, GPU will not be used.\n",
      "2023-04-17 16:03:26.624432: I tensorflow/tsl/cuda/cudart_stub.cc:28] Could not find cuda drivers on your machine, GPU will not be used.\n",
      "2023-04-17 16:03:26.625035: I tensorflow/core/platform/cpu_feature_guard.cc:182] This TensorFlow binary is optimized to use available CPU instructions in performance-critical operations.\n",
      "To enable the following instructions: AVX2 AVX512F AVX512_VNNI FMA, in other operations, rebuild TensorFlow with the appropriate compiler flags.\n",
      "2023-04-17 16:03:27.170295: W tensorflow/compiler/tf2tensorrt/utils/py_utils.cc:38] TF-TRT Warning: Could not find TensorRT\n"
     ]
    }
   ],
   "source": [
    "import numpy as np\n",
    "import pandas as pd\n",
    "\n",
    "from tensorflow.keras.datasets import mnist\n",
    "(train_images, train_labels), (test_images, test_labels) = mnist.load_data()"
   ]
  },
  {
   "cell_type": "code",
   "execution_count": 2,
   "id": "0a8da3cf",
   "metadata": {
    "execution": {
     "iopub.execute_input": "2023-04-16T15:50:23.907119Z",
     "iopub.status.busy": "2023-04-16T15:50:23.906230Z",
     "iopub.status.idle": "2023-04-16T15:50:23.914993Z",
     "shell.execute_reply": "2023-04-16T15:50:23.913944Z"
    },
    "papermill": {
     "duration": 0.020406,
     "end_time": "2023-04-16T15:50:23.917857",
     "exception": false,
     "start_time": "2023-04-16T15:50:23.897451",
     "status": "completed"
    },
    "tags": []
   },
   "outputs": [
    {
     "name": "stdout",
     "output_type": "stream",
     "text": [
      "train_images shape: (60000, 28, 28)\n",
      "test_images shape: (10000, 28, 28)\n",
      "label values: [5 0 4 ... 5 6 8]\n"
     ]
    }
   ],
   "source": [
    "print(f'train_images shape: {train_images.shape}')\n",
    "print(f'test_images shape: {test_images.shape}')\n",
    "print(f'label values: {train_labels}') #multiclass problem 0-9"
   ]
  },
  {
   "cell_type": "code",
   "execution_count": 3,
   "id": "1839c82b",
   "metadata": {
    "execution": {
     "iopub.execute_input": "2023-04-16T15:50:23.947696Z",
     "iopub.status.busy": "2023-04-16T15:50:23.947210Z",
     "iopub.status.idle": "2023-04-16T15:50:24.080257Z",
     "shell.execute_reply": "2023-04-16T15:50:24.078611Z"
    },
    "papermill": {
     "duration": 0.144568,
     "end_time": "2023-04-16T15:50:24.083394",
     "exception": false,
     "start_time": "2023-04-16T15:50:23.938826",
     "status": "completed"
    },
    "tags": []
   },
   "outputs": [
    {
     "name": "stderr",
     "output_type": "stream",
     "text": [
      "2023-04-17 16:03:28.160418: I tensorflow/compiler/xla/stream_executor/cuda/cuda_gpu_executor.cc:996] successful NUMA node read from SysFS had negative value (-1), but there must be at least one NUMA node, so returning NUMA node zero. See more at https://github.com/torvalds/linux/blob/v6.0/Documentation/ABI/testing/sysfs-bus-pci#L344-L355\n",
      "2023-04-17 16:03:28.160755: W tensorflow/core/common_runtime/gpu/gpu_device.cc:1956] Cannot dlopen some GPU libraries. Please make sure the missing libraries mentioned above are installed properly if you would like to use GPU. Follow the guide at https://www.tensorflow.org/install/gpu for how to download and setup the required libraries for your platform.\n",
      "Skipping registering GPU devices...\n"
     ]
    }
   ],
   "source": [
    "from tensorflow import keras\n",
    "from tensorflow.keras import layers\n",
    "model = keras.Sequential([\n",
    "    layers.Dense(512, activation='relu'),\n",
    "    layers.Dense(10, activation='softmax')\n",
    "])"
   ]
  },
  {
   "cell_type": "code",
   "execution_count": 4,
   "id": "0959ea48",
   "metadata": {
    "execution": {
     "iopub.execute_input": "2023-04-16T15:50:24.100206Z",
     "iopub.status.busy": "2023-04-16T15:50:24.099265Z",
     "iopub.status.idle": "2023-04-16T15:50:24.133141Z",
     "shell.execute_reply": "2023-04-16T15:50:24.131862Z"
    },
    "papermill": {
     "duration": 0.045314,
     "end_time": "2023-04-16T15:50:24.136172",
     "exception": false,
     "start_time": "2023-04-16T15:50:24.090858",
     "status": "completed"
    },
    "tags": []
   },
   "outputs": [],
   "source": [
    "#compile model with optimizer, loss function and metric (we want accuracy)\n",
    "model.compile(optimizer=\"rmsprop\",\n",
    " loss=\"sparse_categorical_crossentropy\",\n",
    " metrics=[\"accuracy\"])"
   ]
  },
  {
   "cell_type": "code",
   "execution_count": 5,
   "id": "421a21d6",
   "metadata": {
    "execution": {
     "iopub.execute_input": "2023-04-16T15:50:24.152210Z",
     "iopub.status.busy": "2023-04-16T15:50:24.151393Z",
     "iopub.status.idle": "2023-04-16T15:50:24.272562Z",
     "shell.execute_reply": "2023-04-16T15:50:24.271033Z"
    },
    "papermill": {
     "duration": 0.132468,
     "end_time": "2023-04-16T15:50:24.275463",
     "exception": false,
     "start_time": "2023-04-16T15:50:24.142995",
     "status": "completed"
    },
    "tags": []
   },
   "outputs": [],
   "source": [
    "# here we're going to reshape the dataframe as a ndarray 28*28 that represent one image\n",
    "# and divide by 255 to get a number between 0 and 1.\n",
    "#It's done before and for fitting the model.\n",
    "train_images = train_images.reshape((60000, 28 * 28))\n",
    "train_images = train_images.astype(\"float32\") / 255\n",
    "test_images = test_images.reshape((10000, 28 * 28))\n",
    "test_images = test_images.astype(\"float32\") / 255"
   ]
  },
  {
   "cell_type": "code",
   "execution_count": 6,
   "id": "0119aca5",
   "metadata": {
    "execution": {
     "iopub.execute_input": "2023-04-16T15:50:24.291505Z",
     "iopub.status.busy": "2023-04-16T15:50:24.290650Z",
     "iopub.status.idle": "2023-04-16T15:50:41.263714Z",
     "shell.execute_reply": "2023-04-16T15:50:41.262552Z"
    },
    "papermill": {
     "duration": 16.983467,
     "end_time": "2023-04-16T15:50:41.266069",
     "exception": false,
     "start_time": "2023-04-16T15:50:24.282602",
     "status": "completed"
    },
    "tags": []
   },
   "outputs": [
    {
     "name": "stdout",
     "output_type": "stream",
     "text": [
      "Epoch 1/30\n",
      "469/469 [==============================] - 2s 4ms/step - loss: 0.2596 - accuracy: 0.9255\n",
      "Epoch 2/30\n",
      "469/469 [==============================] - 2s 4ms/step - loss: 0.1057 - accuracy: 0.9688\n",
      "Epoch 3/30\n",
      "469/469 [==============================] - 2s 4ms/step - loss: 0.0687 - accuracy: 0.9793\n",
      "Epoch 4/30\n",
      "469/469 [==============================] - 2s 4ms/step - loss: 0.0508 - accuracy: 0.9851\n",
      "Epoch 5/30\n",
      "469/469 [==============================] - 2s 4ms/step - loss: 0.0372 - accuracy: 0.9887\n",
      "Epoch 6/30\n",
      "469/469 [==============================] - 2s 4ms/step - loss: 0.0281 - accuracy: 0.9919\n",
      "Epoch 7/30\n",
      "469/469 [==============================] - 2s 4ms/step - loss: 0.0217 - accuracy: 0.9936\n",
      "Epoch 8/30\n",
      "469/469 [==============================] - 2s 4ms/step - loss: 0.0164 - accuracy: 0.9955\n",
      "Epoch 9/30\n",
      "469/469 [==============================] - 2s 4ms/step - loss: 0.0126 - accuracy: 0.9967\n",
      "Epoch 10/30\n",
      "469/469 [==============================] - 2s 4ms/step - loss: 0.0094 - accuracy: 0.9975\n",
      "Epoch 11/30\n",
      "469/469 [==============================] - 2s 4ms/step - loss: 0.0066 - accuracy: 0.9985\n",
      "Epoch 12/30\n",
      "469/469 [==============================] - 2s 4ms/step - loss: 0.0050 - accuracy: 0.9989\n",
      "Epoch 13/30\n",
      "469/469 [==============================] - 2s 4ms/step - loss: 0.0035 - accuracy: 0.9993\n",
      "Epoch 14/30\n",
      "469/469 [==============================] - 2s 4ms/step - loss: 0.0024 - accuracy: 0.9997\n",
      "Epoch 15/30\n",
      "469/469 [==============================] - 2s 4ms/step - loss: 0.0017 - accuracy: 0.9998\n",
      "Epoch 16/30\n",
      "469/469 [==============================] - 2s 4ms/step - loss: 0.0010 - accuracy: 0.9999\n",
      "Epoch 17/30\n",
      "469/469 [==============================] - 2s 4ms/step - loss: 7.4765e-04 - accuracy: 1.0000\n",
      "Epoch 18/30\n",
      "469/469 [==============================] - 2s 4ms/step - loss: 5.2776e-04 - accuracy: 1.0000\n",
      "Epoch 19/30\n",
      "469/469 [==============================] - 2s 4ms/step - loss: 3.9764e-04 - accuracy: 1.0000\n",
      "Epoch 20/30\n",
      "469/469 [==============================] - 2s 4ms/step - loss: 3.3019e-04 - accuracy: 1.0000\n",
      "Epoch 21/30\n",
      "469/469 [==============================] - 2s 4ms/step - loss: 2.9860e-04 - accuracy: 1.0000\n",
      "Epoch 22/30\n",
      "469/469 [==============================] - 2s 4ms/step - loss: 2.6702e-04 - accuracy: 1.0000\n",
      "Epoch 23/30\n",
      "469/469 [==============================] - 2s 4ms/step - loss: 2.4244e-04 - accuracy: 1.0000\n",
      "Epoch 24/30\n",
      "469/469 [==============================] - 2s 4ms/step - loss: 2.1995e-04 - accuracy: 1.0000\n",
      "Epoch 25/30\n",
      "469/469 [==============================] - 2s 4ms/step - loss: 2.0174e-04 - accuracy: 1.0000\n",
      "Epoch 26/30\n",
      "469/469 [==============================] - 2s 4ms/step - loss: 1.8937e-04 - accuracy: 1.0000\n",
      "Epoch 27/30\n",
      "469/469 [==============================] - 2s 4ms/step - loss: 1.7754e-04 - accuracy: 1.0000\n",
      "Epoch 28/30\n",
      "469/469 [==============================] - 2s 4ms/step - loss: 1.6667e-04 - accuracy: 1.0000\n",
      "Epoch 29/30\n",
      "469/469 [==============================] - 2s 4ms/step - loss: 1.5581e-04 - accuracy: 1.0000\n",
      "Epoch 30/30\n",
      "469/469 [==============================] - 2s 4ms/step - loss: 1.4861e-04 - accuracy: 1.0000\n"
     ]
    },
    {
     "data": {
      "text/plain": [
       "<keras.callbacks.History at 0x7fd4399d7340>"
      ]
     },
     "execution_count": 6,
     "metadata": {},
     "output_type": "execute_result"
    }
   ],
   "source": [
    "model.fit(train_images, train_labels, epochs=30, batch_size=128)"
   ]
  },
  {
   "cell_type": "code",
   "execution_count": 7,
   "id": "27f99df6",
   "metadata": {
    "execution": {
     "iopub.execute_input": "2023-04-16T15:50:41.374604Z",
     "iopub.status.busy": "2023-04-16T15:50:41.373541Z",
     "iopub.status.idle": "2023-04-16T15:50:41.534823Z",
     "shell.execute_reply": "2023-04-16T15:50:41.533559Z"
    },
    "papermill": {
     "duration": 0.190652,
     "end_time": "2023-04-16T15:50:41.537317",
     "exception": false,
     "start_time": "2023-04-16T15:50:41.346665",
     "status": "completed"
    },
    "tags": []
   },
   "outputs": [
    {
     "name": "stdout",
     "output_type": "stream",
     "text": [
      "1/1 [==============================] - 0s 55ms/step\n"
     ]
    },
    {
     "data": {
      "text/plain": [
       "array([1.5819546e-13, 2.0699714e-16, 3.2615623e-13, 1.2196993e-08,\n",
       "       1.8294387e-20, 3.7732120e-15, 4.3076700e-20, 1.0000000e+00,\n",
       "       3.0411990e-14, 7.4569177e-11], dtype=float32)"
      ]
     },
     "execution_count": 7,
     "metadata": {},
     "output_type": "execute_result"
    }
   ],
   "source": [
    "test_digits = test_images[0:10]\n",
    "predictions = model.predict(test_digits)\n",
    "predictions[0]"
   ]
  },
  {
   "cell_type": "code",
   "execution_count": 8,
   "id": "159555f0",
   "metadata": {
    "execution": {
     "iopub.execute_input": "2023-04-16T15:50:41.591284Z",
     "iopub.status.busy": "2023-04-16T15:50:41.590097Z",
     "iopub.status.idle": "2023-04-16T15:50:41.598337Z",
     "shell.execute_reply": "2023-04-16T15:50:41.597264Z"
    },
    "papermill": {
     "duration": 0.037853,
     "end_time": "2023-04-16T15:50:41.600899",
     "exception": false,
     "start_time": "2023-04-16T15:50:41.563046",
     "status": "completed"
    },
    "tags": []
   },
   "outputs": [
    {
     "data": {
      "text/plain": [
       "7"
      ]
     },
     "execution_count": 8,
     "metadata": {},
     "output_type": "execute_result"
    }
   ],
   "source": [
    "predictions[0].argmax()"
   ]
  },
  {
   "cell_type": "code",
   "execution_count": 9,
   "id": "36a708cf",
   "metadata": {
    "execution": {
     "iopub.execute_input": "2023-04-16T15:50:41.654140Z",
     "iopub.status.busy": "2023-04-16T15:50:41.653711Z",
     "iopub.status.idle": "2023-04-16T15:50:42.630291Z",
     "shell.execute_reply": "2023-04-16T15:50:42.629039Z"
    },
    "papermill": {
     "duration": 1.006212,
     "end_time": "2023-04-16T15:50:42.632827",
     "exception": false,
     "start_time": "2023-04-16T15:50:41.626615",
     "status": "completed"
    },
    "tags": []
   },
   "outputs": [
    {
     "name": "stdout",
     "output_type": "stream",
     "text": [
      "313/313 [==============================] - 0s 983us/step - loss: 0.0724 - accuracy: 0.9836\n",
      "test_acc: 0.9836000204086304\n"
     ]
    }
   ],
   "source": [
    "test_loss, test_acc = model.evaluate(test_images, test_labels)\n",
    "print(f\"test_acc: {test_acc}\")"
   ]
  },
  {
   "cell_type": "code",
   "execution_count": 10,
   "id": "08e0b569",
   "metadata": {
    "execution": {
     "iopub.execute_input": "2023-04-16T15:50:42.742350Z",
     "iopub.status.busy": "2023-04-16T15:50:42.741217Z",
     "iopub.status.idle": "2023-04-16T15:50:45.223086Z",
     "shell.execute_reply": "2023-04-16T15:50:45.221739Z"
    },
    "papermill": {
     "duration": 2.512549,
     "end_time": "2023-04-16T15:50:45.225651",
     "exception": false,
     "start_time": "2023-04-16T15:50:42.713102",
     "status": "completed"
    },
    "tags": []
   },
   "outputs": [
    {
     "data": {
      "text/html": [
       "<div>\n",
       "<style scoped>\n",
       "    .dataframe tbody tr th:only-of-type {\n",
       "        vertical-align: middle;\n",
       "    }\n",
       "\n",
       "    .dataframe tbody tr th {\n",
       "        vertical-align: top;\n",
       "    }\n",
       "\n",
       "    .dataframe thead th {\n",
       "        text-align: right;\n",
       "    }\n",
       "</style>\n",
       "<table border=\"1\" class=\"dataframe\">\n",
       "  <thead>\n",
       "    <tr style=\"text-align: right;\">\n",
       "      <th></th>\n",
       "      <th>pixel0</th>\n",
       "      <th>pixel1</th>\n",
       "      <th>pixel2</th>\n",
       "      <th>pixel3</th>\n",
       "      <th>pixel4</th>\n",
       "      <th>pixel5</th>\n",
       "      <th>pixel6</th>\n",
       "      <th>pixel7</th>\n",
       "      <th>pixel8</th>\n",
       "      <th>pixel9</th>\n",
       "      <th>...</th>\n",
       "      <th>pixel774</th>\n",
       "      <th>pixel775</th>\n",
       "      <th>pixel776</th>\n",
       "      <th>pixel777</th>\n",
       "      <th>pixel778</th>\n",
       "      <th>pixel779</th>\n",
       "      <th>pixel780</th>\n",
       "      <th>pixel781</th>\n",
       "      <th>pixel782</th>\n",
       "      <th>pixel783</th>\n",
       "    </tr>\n",
       "  </thead>\n",
       "  <tbody>\n",
       "    <tr>\n",
       "      <th>0</th>\n",
       "      <td>0</td>\n",
       "      <td>0</td>\n",
       "      <td>0</td>\n",
       "      <td>0</td>\n",
       "      <td>0</td>\n",
       "      <td>0</td>\n",
       "      <td>0</td>\n",
       "      <td>0</td>\n",
       "      <td>0</td>\n",
       "      <td>0</td>\n",
       "      <td>...</td>\n",
       "      <td>0</td>\n",
       "      <td>0</td>\n",
       "      <td>0</td>\n",
       "      <td>0</td>\n",
       "      <td>0</td>\n",
       "      <td>0</td>\n",
       "      <td>0</td>\n",
       "      <td>0</td>\n",
       "      <td>0</td>\n",
       "      <td>0</td>\n",
       "    </tr>\n",
       "    <tr>\n",
       "      <th>1</th>\n",
       "      <td>0</td>\n",
       "      <td>0</td>\n",
       "      <td>0</td>\n",
       "      <td>0</td>\n",
       "      <td>0</td>\n",
       "      <td>0</td>\n",
       "      <td>0</td>\n",
       "      <td>0</td>\n",
       "      <td>0</td>\n",
       "      <td>0</td>\n",
       "      <td>...</td>\n",
       "      <td>0</td>\n",
       "      <td>0</td>\n",
       "      <td>0</td>\n",
       "      <td>0</td>\n",
       "      <td>0</td>\n",
       "      <td>0</td>\n",
       "      <td>0</td>\n",
       "      <td>0</td>\n",
       "      <td>0</td>\n",
       "      <td>0</td>\n",
       "    </tr>\n",
       "    <tr>\n",
       "      <th>2</th>\n",
       "      <td>0</td>\n",
       "      <td>0</td>\n",
       "      <td>0</td>\n",
       "      <td>0</td>\n",
       "      <td>0</td>\n",
       "      <td>0</td>\n",
       "      <td>0</td>\n",
       "      <td>0</td>\n",
       "      <td>0</td>\n",
       "      <td>0</td>\n",
       "      <td>...</td>\n",
       "      <td>0</td>\n",
       "      <td>0</td>\n",
       "      <td>0</td>\n",
       "      <td>0</td>\n",
       "      <td>0</td>\n",
       "      <td>0</td>\n",
       "      <td>0</td>\n",
       "      <td>0</td>\n",
       "      <td>0</td>\n",
       "      <td>0</td>\n",
       "    </tr>\n",
       "    <tr>\n",
       "      <th>3</th>\n",
       "      <td>0</td>\n",
       "      <td>0</td>\n",
       "      <td>0</td>\n",
       "      <td>0</td>\n",
       "      <td>0</td>\n",
       "      <td>0</td>\n",
       "      <td>0</td>\n",
       "      <td>0</td>\n",
       "      <td>0</td>\n",
       "      <td>0</td>\n",
       "      <td>...</td>\n",
       "      <td>0</td>\n",
       "      <td>0</td>\n",
       "      <td>0</td>\n",
       "      <td>0</td>\n",
       "      <td>0</td>\n",
       "      <td>0</td>\n",
       "      <td>0</td>\n",
       "      <td>0</td>\n",
       "      <td>0</td>\n",
       "      <td>0</td>\n",
       "    </tr>\n",
       "    <tr>\n",
       "      <th>4</th>\n",
       "      <td>0</td>\n",
       "      <td>0</td>\n",
       "      <td>0</td>\n",
       "      <td>0</td>\n",
       "      <td>0</td>\n",
       "      <td>0</td>\n",
       "      <td>0</td>\n",
       "      <td>0</td>\n",
       "      <td>0</td>\n",
       "      <td>0</td>\n",
       "      <td>...</td>\n",
       "      <td>0</td>\n",
       "      <td>0</td>\n",
       "      <td>0</td>\n",
       "      <td>0</td>\n",
       "      <td>0</td>\n",
       "      <td>0</td>\n",
       "      <td>0</td>\n",
       "      <td>0</td>\n",
       "      <td>0</td>\n",
       "      <td>0</td>\n",
       "    </tr>\n",
       "  </tbody>\n",
       "</table>\n",
       "<p>5 rows × 784 columns</p>\n",
       "</div>"
      ],
      "text/plain": [
       "   pixel0  pixel1  pixel2  pixel3  pixel4  pixel5  pixel6  pixel7  pixel8  \\\n",
       "0       0       0       0       0       0       0       0       0       0   \n",
       "1       0       0       0       0       0       0       0       0       0   \n",
       "2       0       0       0       0       0       0       0       0       0   \n",
       "3       0       0       0       0       0       0       0       0       0   \n",
       "4       0       0       0       0       0       0       0       0       0   \n",
       "\n",
       "   pixel9  ...  pixel774  pixel775  pixel776  pixel777  pixel778  pixel779  \\\n",
       "0       0  ...         0         0         0         0         0         0   \n",
       "1       0  ...         0         0         0         0         0         0   \n",
       "2       0  ...         0         0         0         0         0         0   \n",
       "3       0  ...         0         0         0         0         0         0   \n",
       "4       0  ...         0         0         0         0         0         0   \n",
       "\n",
       "   pixel780  pixel781  pixel782  pixel783  \n",
       "0         0         0         0         0  \n",
       "1         0         0         0         0  \n",
       "2         0         0         0         0  \n",
       "3         0         0         0         0  \n",
       "4         0         0         0         0  \n",
       "\n",
       "[5 rows x 784 columns]"
      ]
     },
     "execution_count": 10,
     "metadata": {},
     "output_type": "execute_result"
    }
   ],
   "source": [
    "test_sub = pd.read_csv('test.csv')\n",
    "test_sub.head()"
   ]
  },
  {
   "cell_type": "code",
   "execution_count": 11,
   "id": "9f4d0f33",
   "metadata": {
    "execution": {
     "iopub.execute_input": "2023-04-16T15:50:45.282362Z",
     "iopub.status.busy": "2023-04-16T15:50:45.281930Z",
     "iopub.status.idle": "2023-04-16T15:50:45.288881Z",
     "shell.execute_reply": "2023-04-16T15:50:45.287669Z"
    },
    "papermill": {
     "duration": 0.038242,
     "end_time": "2023-04-16T15:50:45.291437",
     "exception": false,
     "start_time": "2023-04-16T15:50:45.253195",
     "status": "completed"
    },
    "tags": []
   },
   "outputs": [
    {
     "data": {
      "text/plain": [
       "(28000, 784)"
      ]
     },
     "execution_count": 11,
     "metadata": {},
     "output_type": "execute_result"
    }
   ],
   "source": [
    "test_sub.shape"
   ]
  },
  {
   "cell_type": "code",
   "execution_count": 12,
   "id": "ca1091db",
   "metadata": {
    "execution": {
     "iopub.execute_input": "2023-04-16T15:50:45.349735Z",
     "iopub.status.busy": "2023-04-16T15:50:45.348544Z",
     "iopub.status.idle": "2023-04-16T15:50:45.416519Z",
     "shell.execute_reply": "2023-04-16T15:50:45.415011Z"
    },
    "papermill": {
     "duration": 0.099892,
     "end_time": "2023-04-16T15:50:45.419380",
     "exception": false,
     "start_time": "2023-04-16T15:50:45.319488",
     "status": "completed"
    },
    "tags": []
   },
   "outputs": [
    {
     "data": {
      "text/plain": [
       "array([[0., 0., 0., ..., 0., 0., 0.],\n",
       "       [0., 0., 0., ..., 0., 0., 0.],\n",
       "       [0., 0., 0., ..., 0., 0., 0.],\n",
       "       ...,\n",
       "       [0., 0., 0., ..., 0., 0., 0.],\n",
       "       [0., 0., 0., ..., 0., 0., 0.],\n",
       "       [0., 0., 0., ..., 0., 0., 0.]], dtype=float32)"
      ]
     },
     "execution_count": 12,
     "metadata": {},
     "output_type": "execute_result"
    }
   ],
   "source": [
    "test_sub = test_sub.values.astype(\"float32\")\n",
    "test_sub = test_sub.reshape((28000, 28 * 28))\n",
    "test_sub"
   ]
  },
  {
   "cell_type": "markdown",
   "id": "306a06ca",
   "metadata": {
    "papermill": {
     "duration": 0.032621,
     "end_time": "2023-04-16T15:50:45.481019",
     "exception": false,
     "start_time": "2023-04-16T15:50:45.448398",
     "status": "completed"
    },
    "tags": []
   },
   "source": [
    "# Let's predict our images!"
   ]
  },
  {
   "cell_type": "code",
   "execution_count": 13,
   "id": "c3f5f90b",
   "metadata": {
    "execution": {
     "iopub.execute_input": "2023-04-16T15:50:45.538002Z",
     "iopub.status.busy": "2023-04-16T15:50:45.536962Z",
     "iopub.status.idle": "2023-04-16T15:50:48.090201Z",
     "shell.execute_reply": "2023-04-16T15:50:48.088422Z"
    },
    "papermill": {
     "duration": 2.585054,
     "end_time": "2023-04-16T15:50:48.093298",
     "exception": false,
     "start_time": "2023-04-16T15:50:45.508244",
     "status": "completed"
    },
    "tags": []
   },
   "outputs": [
    {
     "name": "stdout",
     "output_type": "stream",
     "text": [
      "875/875 [==============================] - 1s 1ms/step\n"
     ]
    }
   ],
   "source": [
    "predictions_sub = model.predict(test_sub)"
   ]
  },
  {
   "cell_type": "code",
   "execution_count": 14,
   "id": "67d19f60",
   "metadata": {
    "execution": {
     "iopub.execute_input": "2023-04-16T15:50:48.155077Z",
     "iopub.status.busy": "2023-04-16T15:50:48.154667Z",
     "iopub.status.idle": "2023-04-16T15:50:48.162017Z",
     "shell.execute_reply": "2023-04-16T15:50:48.160897Z"
    },
    "papermill": {
     "duration": 0.040874,
     "end_time": "2023-04-16T15:50:48.164305",
     "exception": false,
     "start_time": "2023-04-16T15:50:48.123431",
     "status": "completed"
    },
    "tags": []
   },
   "outputs": [
    {
     "data": {
      "text/plain": [
       "2"
      ]
     },
     "execution_count": 14,
     "metadata": {},
     "output_type": "execute_result"
    }
   ],
   "source": [
    "predictions_sub[0].argmax()"
   ]
  },
  {
   "cell_type": "markdown",
   "id": "15015ce5",
   "metadata": {
    "papermill": {
     "duration": 0.029623,
     "end_time": "2023-04-16T15:50:48.223722",
     "exception": false,
     "start_time": "2023-04-16T15:50:48.194099",
     "status": "completed"
    },
    "tags": []
   },
   "source": [
    "****Finally, we can save the predictions into a csv.****\n",
    "* Follow the submission file format"
   ]
  },
  {
   "cell_type": "code",
   "execution_count": 15,
   "id": "75e7e93b",
   "metadata": {
    "execution": {
     "iopub.execute_input": "2023-04-16T15:50:48.285361Z",
     "iopub.status.busy": "2023-04-16T15:50:48.284897Z",
     "iopub.status.idle": "2023-04-16T15:50:48.363032Z",
     "shell.execute_reply": "2023-04-16T15:50:48.362056Z"
    },
    "papermill": {
     "duration": 0.112146,
     "end_time": "2023-04-16T15:50:48.365591",
     "exception": false,
     "start_time": "2023-04-16T15:50:48.253445",
     "status": "completed"
    },
    "tags": []
   },
   "outputs": [],
   "source": [
    "ImageId = []\n",
    "Label = []\n",
    "for i in range(len(predictions_sub)):\n",
    "    ImageId.append(i+1)\n",
    "    Label.append(predictions_sub[i].argmax())\n",
    "    \n",
    "submissions=pd.DataFrame({\"ImageId\": ImageId,\n",
    "                         \"Label\": Label})\n",
    "submissions.to_csv(\"submission.csv\", index=False, header=True)    "
   ]
  }
 ],
 "metadata": {
  "kernelspec": {
   "display_name": "Python 3",
   "language": "python",
   "name": "python3"
  },
  "language_info": {
   "codemirror_mode": {
    "name": "ipython",
    "version": 3
   },
   "file_extension": ".py",
   "mimetype": "text/x-python",
   "name": "python",
   "nbconvert_exporter": "python",
   "pygments_lexer": "ipython3",
   "version": "3.10.6"
  },
  "papermill": {
   "default_parameters": {},
   "duration": 49.725428,
   "end_time": "2023-04-16T15:50:51.468443",
   "environment_variables": {},
   "exception": null,
   "input_path": "__notebook__.ipynb",
   "output_path": "__notebook__.ipynb",
   "parameters": {},
   "start_time": "2023-04-16T15:50:01.743015",
   "version": "2.4.0"
  }
 },
 "nbformat": 4,
 "nbformat_minor": 5
}
